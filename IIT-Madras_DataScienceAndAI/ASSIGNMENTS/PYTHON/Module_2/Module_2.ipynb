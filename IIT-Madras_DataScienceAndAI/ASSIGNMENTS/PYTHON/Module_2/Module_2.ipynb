{
 "cells": [
  {
   "cell_type": "markdown",
   "id": "dfb43c48",
   "metadata": {},
   "source": [
    "# ASSIGNMENT 1: Exception Handling Assignment"
   ]
  },
  {
   "cell_type": "markdown",
   "id": "e32b05b4",
   "metadata": {},
   "source": [
    "**With the help of try and inbuilt exception, display the exception.**"
   ]
  },
  {
   "cell_type": "code",
   "execution_count": 1,
   "id": "36502361",
   "metadata": {},
   "outputs": [
    {
     "name": "stdout",
     "output_type": "stream",
     "text": [
      "This statement is raising an arithmetic exception.\n"
     ]
    }
   ],
   "source": [
    "try:  \n",
    "    a = 10/0  \n",
    "    print (a)\n",
    "except ArithmeticError:  \n",
    "        print (\"This statement is raising an arithmetic exception.\")\n",
    "else:  \n",
    "    print (\"Success.\")"
   ]
  },
  {
   "cell_type": "markdown",
   "id": "65e59749",
   "metadata": {},
   "source": [
    "**Take two user inputs and pass those input variables in a try block. If the user input is 0, then throw the ZeroDivisionError exception.**"
   ]
  },
  {
   "cell_type": "code",
   "execution_count": 2,
   "id": "22e01bb5",
   "metadata": {},
   "outputs": [
    {
     "name": "stdout",
     "output_type": "stream",
     "text": [
      "Enter the first number: 8\n",
      "Enter the second number: 0\n",
      "An error occurred: Cannot divide by zero\n"
     ]
    }
   ],
   "source": [
    "try:\n",
    "    num1 = int(input(\"Enter the first number: \"))\n",
    "    num2 = int(input(\"Enter the second number: \"))\n",
    "\n",
    "    if num1 == 0 or num2 == 0:\n",
    "        raise ZeroDivisionError(\"Cannot divide by zero\")\n",
    "\n",
    "    result = num1 / num2\n",
    "    print(\"Result:\", result)\n",
    "\n",
    "except ZeroDivisionError as e:\n",
    "    print(\"An error occurred:\", e)\n"
   ]
  },
  {
   "cell_type": "markdown",
   "id": "4880191c",
   "metadata": {},
   "source": [
    "**Import math package and with the help of math package, print – math.exp(50000). Now use the inbuilt OverflowError exception on the math.exp(), and print the exception.**"
   ]
  },
  {
   "cell_type": "code",
   "execution_count": 3,
   "id": "ad24df59",
   "metadata": {},
   "outputs": [
    {
     "name": "stdout",
     "output_type": "stream",
     "text": [
      "An error occurred: math range error\n"
     ]
    }
   ],
   "source": [
    "import math\n",
    "\n",
    "try:\n",
    "    result = math.exp(50000)\n",
    "    print(result)\n",
    "\n",
    "except OverflowError as e:\n",
    "    print(\"An error occurred:\", e)"
   ]
  },
  {
   "cell_type": "markdown",
   "id": "a7d78bc2",
   "metadata": {},
   "source": [
    "**Now install the ‘termcolor’ package in the anaconda prompt, and import that package to provide the colors to the print statement in Jupyter Notebook.**"
   ]
  },
  {
   "cell_type": "code",
   "execution_count": 5,
   "id": "08411e9b",
   "metadata": {},
   "outputs": [
    {
     "name": "stdout",
     "output_type": "stream",
     "text": [
      "Collecting termcolor\n",
      "  Downloading termcolor-2.2.0-py3-none-any.whl (6.6 kB)\n",
      "Installing collected packages: termcolor\n",
      "Successfully installed termcolor-2.2.0\n",
      "Note: you may need to restart the kernel to use updated packages.\n"
     ]
    }
   ],
   "source": [
    "pip install termcolor"
   ]
  },
  {
   "cell_type": "code",
   "execution_count": 2,
   "id": "df606e73",
   "metadata": {},
   "outputs": [
    {
     "name": "stdout",
     "output_type": "stream",
     "text": [
      "\u001b[34mHello, world!\u001b[0m\n"
     ]
    }
   ],
   "source": [
    "from termcolor import colored\n",
    "\n",
    "print(colored('Hello, world!', 'blue'))"
   ]
  },
  {
   "cell_type": "markdown",
   "id": "a5f2209c",
   "metadata": {},
   "source": [
    "**Create your own exception with the help of class and functions.**"
   ]
  },
  {
   "cell_type": "code",
   "execution_count": 4,
   "id": "b80f944a",
   "metadata": {},
   "outputs": [
    {
     "name": "stdout",
     "output_type": "stream",
     "text": [
      "Caught the custom exception: This is my custom error message.\n"
     ]
    }
   ],
   "source": [
    "class MyCustomError(Exception):\n",
    "    pass\n",
    "\n",
    "def my_function():\n",
    "    raise MyCustomError(\"This is my custom error message.\")\n",
    "\n",
    "try:\n",
    "    my_function()\n",
    "except MyCustomError as e:\n",
    "    print(\"Caught the custom exception:\", e)"
   ]
  },
  {
   "cell_type": "markdown",
   "id": "cb0d9159",
   "metadata": {},
   "source": [
    "# ASSIGNMENT 2: Function and Class "
   ]
  },
  {
   "cell_type": "markdown",
   "id": "9b364418",
   "metadata": {},
   "source": [
    "**1. Create a function named ‘factor’ that can only accepts 1 argument. The function should return the factorial of that number.**"
   ]
  },
  {
   "cell_type": "code",
   "execution_count": 3,
   "id": "e804ec8c",
   "metadata": {},
   "outputs": [],
   "source": [
    "def factor(n):\n",
    "    if n < 0:\n",
    "        raise ValueError(\"Factorial of negative numbers is not defined.\")\n",
    "    elif n == 0:\n",
    "        return 1\n",
    "    else:\n",
    "        return n * factor(n - 1)"
   ]
  },
  {
   "cell_type": "code",
   "execution_count": 4,
   "id": "2823560a",
   "metadata": {},
   "outputs": [
    {
     "name": "stdout",
     "output_type": "stream",
     "text": [
      "120\n"
     ]
    }
   ],
   "source": [
    "result = factor(5)\n",
    "print(result)"
   ]
  },
  {
   "cell_type": "markdown",
   "id": "35b56be8",
   "metadata": {},
   "source": [
    "**2. Create a function named ‘check_string’, the function should accept a string data from theuser and the function should check if the user input contains the letter ‘s’ in it. If it containsthe letter ‘s’ then print- ‘The string is containing the letter ‘s’’, if not then print- ‘The stringdoesn’t contain the letter ‘s’’.**"
   ]
  },
  {
   "cell_type": "code",
   "execution_count": 7,
   "id": "fa8a10ee",
   "metadata": {},
   "outputs": [],
   "source": [
    "def check_string():\n",
    "    s = input(\"Enter a string: \")\n",
    "    if 's' in s:\n",
    "        print(\"The string is containing the letter 's'\")\n",
    "    else:\n",
    "        print(\"The string doesn't contain the letter 's'\")    "
   ]
  },
  {
   "cell_type": "code",
   "execution_count": 10,
   "id": "e1b674b7",
   "metadata": {},
   "outputs": [
    {
     "name": "stdout",
     "output_type": "stream",
     "text": [
      "Enter a string: Hello world\n",
      "The string doesn't contain the letter 's'\n"
     ]
    }
   ],
   "source": [
    "check_string()"
   ]
  },
  {
   "cell_type": "markdown",
   "id": "753672f2",
   "metadata": {},
   "source": [
    "**3. Create a class named ‘student’ and inside the class, create a function named ‘fun1’- thismethod should accepts the user defined input and return that value.**\n",
    "\n",
    "**a. Create another method named- message() and that method should print the user defined input that we have defined in ‘fun1’.**"
   ]
  },
  {
   "cell_type": "code",
   "execution_count": 11,
   "id": "406ea762",
   "metadata": {},
   "outputs": [],
   "source": [
    "class student:\n",
    "    def fun1(self):\n",
    "        self.user_input = input(\"Enter a value: \")\n",
    "        return self.user_input\n",
    "    \n",
    "    def message(self):\n",
    "        print(\"The user defined input is:\", self.user_input)"
   ]
  },
  {
   "cell_type": "code",
   "execution_count": 12,
   "id": "45e785b3",
   "metadata": {},
   "outputs": [
    {
     "name": "stdout",
     "output_type": "stream",
     "text": [
      "Enter a value: Sia\n",
      "The user defined input is: Sia\n"
     ]
    }
   ],
   "source": [
    "# Create an instance of the student class\n",
    "s = student()\n",
    "\n",
    "# Call the fun1 method to get user input\n",
    "user_input = s.fun1()\n",
    "\n",
    "# Call the message method to print the user input\n",
    "s.message()\n"
   ]
  },
  {
   "cell_type": "markdown",
   "id": "32fa510e",
   "metadata": {},
   "source": [
    "**4. Create a lambda function that should double or multiply the number (that we will be passing in the lambda function) by 2. Store the lambda function in a variable named ‘double_num’.**"
   ]
  },
  {
   "cell_type": "code",
   "execution_count": 13,
   "id": "81b36a05",
   "metadata": {},
   "outputs": [],
   "source": [
    "double_num = lambda x: x * 2"
   ]
  },
  {
   "cell_type": "code",
   "execution_count": 14,
   "id": "d956c1e1",
   "metadata": {},
   "outputs": [
    {
     "name": "stdout",
     "output_type": "stream",
     "text": [
      "10\n"
     ]
    }
   ],
   "source": [
    "result = double_num(5)\n",
    "print(result) "
   ]
  },
  {
   "cell_type": "markdown",
   "id": "2563d6a0",
   "metadata": {},
   "source": [
    "**5. Take user input string and check whether that string is palindrome or not.**"
   ]
  },
  {
   "cell_type": "code",
   "execution_count": 15,
   "id": "f3359104",
   "metadata": {},
   "outputs": [
    {
     "name": "stdout",
     "output_type": "stream",
     "text": [
      "Enter a string: MalayalaM\n",
      "The string is a palindrome\n"
     ]
    }
   ],
   "source": [
    "def is_palindrome(string):\n",
    "    # Remove spaces and convert to lowercase\n",
    "    string = string.replace(\" \", \"\").lower()\n",
    "    # Check if reversed string is equal to original string\n",
    "    return string == string[::-1]\n",
    "\n",
    "# Prompt user for input\n",
    "input_string = input(\"Enter a string: \")\n",
    "\n",
    "# Check if input string is a palindrome\n",
    "if is_palindrome(input_string):\n",
    "    print(\"The string is a palindrome\")\n",
    "else:\n",
    "    print(\"The string is not a palindrome\")\n"
   ]
  },
  {
   "cell_type": "markdown",
   "id": "d5bfb9ba",
   "metadata": {},
   "source": [
    "# ASSIGNMENT 3 : Functions Assignment"
   ]
  },
  {
   "cell_type": "markdown",
   "id": "be8c88f1",
   "metadata": {},
   "source": [
    "**1. Create a class named ‘Super’ and inside that class define a user-defined function named fun1.**\n",
    "\n",
    "**a. Inside the ‘fun1’ function, pass the message “This is function 1 in the Super class.” in the print statement.**"
   ]
  },
  {
   "cell_type": "code",
   "execution_count": 16,
   "id": "cff0f900",
   "metadata": {},
   "outputs": [],
   "source": [
    "class Super:\n",
    "    def fun1(self):\n",
    "        print(\"This is function 1 in the Super class.\")"
   ]
  },
  {
   "cell_type": "markdown",
   "id": "8f17a0ca",
   "metadata": {},
   "source": [
    "**2. Create another classed named ‘Modified_Super’ and inherit this class from the Super class.**\n",
    "\n",
    "**a. Inside the Modified_Super class, create a function named ‘fun1’ and pass the following message inside the print statement: ‘This is function 1 in the Modified Super class.’**\n",
    "\n",
    "**b. Create another user-defined function named ‘fun2’ and pass the message: ‘This is the 2nd function from the Modified Super class’ in the print statement.**\n",
    "\n",
    "**c. After that, now create an object for the Modified_Super class and call the fun1().**"
   ]
  },
  {
   "cell_type": "code",
   "execution_count": 19,
   "id": "8a2d77ba",
   "metadata": {},
   "outputs": [],
   "source": [
    "class Modified_Super(Super):\n",
    "    def fun1(self):\n",
    "        print(\"This is function 1 in the Modified Super class.\")\n",
    "    \n",
    "    def fun2(self):\n",
    "        print(\"This is the 2nd function from the Modified Super class.\")"
   ]
  },
  {
   "cell_type": "code",
   "execution_count": 20,
   "id": "c8d6fde5",
   "metadata": {},
   "outputs": [
    {
     "name": "stdout",
     "output_type": "stream",
     "text": [
      "This is function 1 in the Modified Super class.\n"
     ]
    }
   ],
   "source": [
    "# Create an instance of the Modified_Super class\n",
    "modified_super_instance = Modified_Super()\n",
    "\n",
    "# Call the fun1 method on the instance\n",
    "modified_super_instance.fun1()"
   ]
  },
  {
   "cell_type": "markdown",
   "id": "c23f7b86",
   "metadata": {},
   "source": [
    "**3. Create 2 methods named ‘Hello’. In the 1st Hello method, pass only one argument and pass this message: ‘This function is only having 1 argument’. And in the 2nd Hello method, pass two arguments and pass this message: ‘This function is having 2 arguments’.**\n",
    "\n",
    "**a. Try to call both the methods and analyze the output of both the methods.**"
   ]
  },
  {
   "cell_type": "code",
   "execution_count": 21,
   "id": "4b6e2151",
   "metadata": {},
   "outputs": [],
   "source": [
    "class Example:\n",
    "    def Hello(self, arg1):\n",
    "        print(\"This function is only having 1 argument.\")\n",
    "    \n",
    "    def Hello(self, arg1, arg2):\n",
    "        print(\"This function is having 2 arguments.\")"
   ]
  },
  {
   "cell_type": "markdown",
   "id": "18adbb88",
   "metadata": {},
   "source": [
    "**4. Create a method named ‘Sum’ that can accept multiple user inputs. Now add those userdefined input values using for loop and the function should return the addition of the numbers.**\n"
   ]
  },
  {
   "cell_type": "code",
   "execution_count": 24,
   "id": "0643adf2",
   "metadata": {},
   "outputs": [],
   "source": [
    "def Sum(*args):\n",
    "    total = 0\n",
    "    for num in args:\n",
    "        total += num\n",
    "    return total"
   ]
  },
  {
   "cell_type": "code",
   "execution_count": 25,
   "id": "16f17b9c",
   "metadata": {},
   "outputs": [
    {
     "data": {
      "text/plain": [
       "9"
      ]
     },
     "execution_count": 25,
     "metadata": {},
     "output_type": "execute_result"
    }
   ],
   "source": [
    "Sum(2,3,4)"
   ]
  },
  {
   "cell_type": "markdown",
   "id": "09071196",
   "metadata": {},
   "source": [
    "**5. Create a class named ‘Encapsulation’:**\n",
    "\n",
    "**a. Inside the class, first create a constructor. Inside the constructor, initialize originalValue variable as 10.**\n",
    "\n",
    "**b. After creating the constructor, define a function named ‘Value’ and this function should return the variable that we have initialized in the constructor.**\n",
    "\n",
    "**c. Now create 2nd function named setValue, and pass an argument named ‘newValue’. The task of this function will be to replace the value of the originalValue variable by the value of newValue variable.**"
   ]
  },
  {
   "cell_type": "code",
   "execution_count": 26,
   "id": "0cd4e24b",
   "metadata": {},
   "outputs": [],
   "source": [
    "class Encapsulation:\n",
    "    def __init__(self):\n",
    "        self.originalValue = 10\n",
    "\n",
    "    def Value(self):\n",
    "        return self.originalValue\n",
    "\n",
    "    def setValue(self, newValue):\n",
    "        self.originalValue = newValue"
   ]
  },
  {
   "cell_type": "markdown",
   "id": "80ebe304",
   "metadata": {},
   "source": [
    "# ASSIGNMENT 4 - Import"
   ]
  },
  {
   "cell_type": "markdown",
   "id": "633d61f3",
   "metadata": {},
   "source": [
    "**1. Create a python file named Module.**\n",
    "\n",
    "**a. Inside the file, define 4 methods named – addition, subtraction, multiplication, and\n",
    "division.**\n",
    "\n",
    "**b. Each method should only accept 2 arguments and should return the result of operation\n",
    "performed in each method. For e.g., addition() should return the sum of two arguments.**\n",
    "\n",
    "**c. Save the Module file in .py format.**"
   ]
  },
  {
   "cell_type": "code",
   "execution_count": 28,
   "id": "42efca24",
   "metadata": {},
   "outputs": [],
   "source": [
    "# Module.py\n",
    "\n",
    "def addition(x, y):\n",
    "    return x + y\n",
    "\n",
    "def subtraction(x, y):\n",
    "    return x - y\n",
    "\n",
    "def multiplication(x, y):\n",
    "    return x * y\n",
    "\n",
    "def division(x, y):\n",
    "    if y == 0:\n",
    "        return \"Error: Division by zero\"\n",
    "    else:\n",
    "        return x / y"
   ]
  },
  {
   "cell_type": "markdown",
   "id": "b5cb7499",
   "metadata": {},
   "source": [
    "**2. Open a new python file and import the Module.py file.**\n",
    "\n",
    "**a. Now call the 4 methods from the Module.py file, i.e., addition(), subtraction(),\n",
    "multiplication(), and division().**"
   ]
  },
  {
   "cell_type": "code",
   "execution_count": null,
   "id": "4d6bd90e",
   "metadata": {},
   "outputs": [],
   "source": [
    "# main.py\n",
    "import Module\n",
    "\n",
    "# Call the addition method\n",
    "result = Module.addition(5, 3)\n",
    "print(f\"5 + 3 = {result}\")\n",
    "\n",
    "# Call the subtraction method\n",
    "result = Module.subtraction(5, 3)\n",
    "print(f\"5 - 3 = {result}\")\n",
    "\n",
    "# Call the multiplication method\n",
    "result = Module.multiplication(5, 3)\n",
    "print(f\"5 * 3 = {result}\")\n",
    "\n",
    "# Call the division method\n",
    "result = Module.division(5, 3)\n",
    "print(f\"5 / 3 = {result}\")\n"
   ]
  },
  {
   "cell_type": "markdown",
   "id": "bdb7f19e",
   "metadata": {},
   "source": [
    "**3. From the Module file, import only the addition() and pass the arguments so that it can\n",
    "display the result from the method.**"
   ]
  },
  {
   "cell_type": "code",
   "execution_count": null,
   "id": "c3a1072c",
   "metadata": {},
   "outputs": [],
   "source": [
    "from Module import addition\n",
    "\n",
    "result = addition(5, 7)\n",
    "print(result)"
   ]
  },
  {
   "cell_type": "markdown",
   "id": "cb664ff2",
   "metadata": {},
   "source": [
    "**4. From the Module file, import only the subtraction() and pass the arguments so that it can\n",
    "display the result from the method.**"
   ]
  },
  {
   "cell_type": "code",
   "execution_count": null,
   "id": "d9913d45",
   "metadata": {},
   "outputs": [],
   "source": [
    "from Module import subtraction\n",
    "\n",
    "result = subtraction(10, 3)\n",
    "print(result)"
   ]
  },
  {
   "cell_type": "markdown",
   "id": "84cace73",
   "metadata": {},
   "source": [
    "**5. From the Module file, import both the multiplication() and division() and pass the arguments\n",
    "so that it can display the result from the methods.**"
   ]
  },
  {
   "cell_type": "code",
   "execution_count": null,
   "id": "0dbf7c00",
   "metadata": {},
   "outputs": [],
   "source": [
    "from Module import multiplication, division\n",
    "\n",
    "result1 = multiplication(5, 6)\n",
    "result2 = division(10, 2)\n",
    "\n",
    "print(result1)\n",
    "print(result2)"
   ]
  },
  {
   "cell_type": "markdown",
   "id": "bbd0d27b",
   "metadata": {},
   "source": [
    "# ASSIGNMENT 5 : Inheritance "
   ]
  },
  {
   "cell_type": "markdown",
   "id": "e86f61be",
   "metadata": {},
   "source": [
    "**1. Create a class named parent_Class and inside the class, initialize a global variable num as 10.**\n",
    "\n",
    "**a. Create another class named child_Class and this class should be inherited from the\n",
    "parent class.**\n",
    "\n",
    "**b. Now create an object for the child_Class and with the help of child_Class object, display\n",
    "the value of ‘num’.**"
   ]
  },
  {
   "cell_type": "code",
   "execution_count": 32,
   "id": "1327342c",
   "metadata": {},
   "outputs": [
    {
     "name": "stdout",
     "output_type": "stream",
     "text": [
      "10\n"
     ]
    }
   ],
   "source": [
    "class parent_Class:\n",
    "    num = 10\n",
    "\n",
    "class child_Class(parent_Class):\n",
    "    pass\n",
    "\n",
    "# create an object of child_Class and display the value of num\n",
    "obj = child_Class()\n",
    "print(obj.num)  "
   ]
  },
  {
   "cell_type": "markdown",
   "id": "e903d5f4",
   "metadata": {},
   "source": [
    "**2. Create three class named A, B, and C.**\n",
    "\n",
    "**a. Inside the A class, create a constructor. Inside the constructor, initilize 2 global variablesname and age.**\n",
    "\n",
    "**b. After initializing the global variables inside the constructor, now create a funtion named\n",
    "‘details’ and that function should return the ‘name’ variable.**\n",
    "\n",
    "**c. Inside the B class, create a constructor. Inside the contructor, initialize 2 global veriablesname and id.**\n",
    "\n",
    "**d. After initializing the global variables inside the constructor, now create a funtion named\n",
    "‘details’ and that function should return the ‘name’ variable.**\n",
    "\n",
    "**e. The C class should inherit from class A, and B. Inside the class C, create a constructor,\n",
    "and inside the constructor, call the contructor of class A.**\n",
    "\n",
    "**f. Now, create a method inside the class C, as get_details, and this function should return\n",
    "the value of name.**\n",
    "\n",
    "**g. Atlast, create an object of class C, and with the help of the object, call the get_details().**"
   ]
  },
  {
   "cell_type": "code",
   "execution_count": 31,
   "id": "8503ea56",
   "metadata": {},
   "outputs": [
    {
     "name": "stdout",
     "output_type": "stream",
     "text": [
      "John\n"
     ]
    }
   ],
   "source": [
    "class A:\n",
    "    def __init__(self, name, age):\n",
    "        self.name = name\n",
    "        self.age = age\n",
    "        \n",
    "    def details(self):\n",
    "        return self.name\n",
    "    \n",
    "class B:\n",
    "    def __init__(self, name, id):\n",
    "        self.name = name\n",
    "        self.id = id\n",
    "        \n",
    "    def details(self):\n",
    "        return self.name\n",
    "    \n",
    "class C(A, B):\n",
    "    def __init__(self, name, age, id):\n",
    "        A.__init__(self, name, age)\n",
    "        B.__init__(self, name, id)\n",
    "        \n",
    "    def get_details(self):\n",
    "        return self.name\n",
    "\n",
    "# creating an object of class C and calling the get_details() method\n",
    "obj = C(\"John\", 25, 123)\n",
    "print(obj.get_details())"
   ]
  },
  {
   "cell_type": "markdown",
   "id": "8c8b3d21",
   "metadata": {},
   "source": [
    "**3. Create a class named ‘Sub1’, inside the class, generate a user defined function named ‘first’\n",
    "and inside the function, pass the following statement in the print()- ‘This is the first function\n",
    "from Sub 1 class’.**\n",
    "\n",
    "**a. Now create another class named ‘Sub2’, and inside the class, create a function\n",
    "named ‘second’, and pass the following message in the print()- ‘This is the\n",
    "second function from the Sub 2 class’.**\n",
    "\n",
    "**b. After that, create another class named ‘Super’ and inside that class, create a\n",
    "method named ‘final’, and pass the below message in the print()- ‘This is the\n",
    "final method from the super class’.**\n",
    "\n",
    "**c. Now, create an object for the Super class and call all the 3 user defined\n",
    "methods, i.e., first(), second(), and final().**"
   ]
  },
  {
   "cell_type": "code",
   "execution_count": 33,
   "id": "1b1a24e2",
   "metadata": {},
   "outputs": [
    {
     "name": "stdout",
     "output_type": "stream",
     "text": [
      "This is the first function from Sub 1 class\n",
      "This is the second function from the Sub 2 class\n",
      "This is the final method from the super class\n"
     ]
    }
   ],
   "source": [
    "class Sub1:\n",
    "    def first(self):\n",
    "        print(\"This is the first function from Sub 1 class\")\n",
    "\n",
    "class Sub2:\n",
    "    def second(self):\n",
    "        print(\"This is the second function from the Sub 2 class\")\n",
    "\n",
    "class Super(Sub1, Sub2):\n",
    "    def final(self):\n",
    "        print(\"This is the final method from the super class\")\n",
    "\n",
    "# create an object for the Super class\n",
    "obj = Super()\n",
    "\n",
    "# call all the three user defined methods\n",
    "obj.first()\n",
    "obj.second()\n",
    "obj.final()"
   ]
  },
  {
   "cell_type": "markdown",
   "id": "2dd5efb5",
   "metadata": {},
   "source": [
    "**4. Create a class named ‘Parent’, and inside the class, create a function named ‘fun1’ and pass\n",
    "the following message in the print()- ‘This is the message from the fun1’.**\n",
    "\n",
    "**a. Now create a class named ‘Child1’ and inside the class, create a method named ‘fun2’\n",
    "and pass the following message in the print()- ‘This is the message from the fun2’.**\n",
    "\n",
    "**b. After that, create another class named ‘Child2’ and inside the class, create a method\n",
    "named ‘fun3’ and pass the following message in the print()- ‘This is the message from\n",
    "the fun3’.**\n",
    "\n",
    "**c. Now, create an object of Child2 class and with the help of the object, call the ‘fun1’\n",
    "method from the ‘Parent’ class.**"
   ]
  },
  {
   "cell_type": "code",
   "execution_count": 35,
   "id": "ab774b6e",
   "metadata": {},
   "outputs": [
    {
     "name": "stdout",
     "output_type": "stream",
     "text": [
      "This is the message from the fun1\n"
     ]
    }
   ],
   "source": [
    "class Parent:\n",
    "    def fun1(self):\n",
    "        print(\"This is the message from the fun1\")\n",
    "\n",
    "class Child1(Parent):\n",
    "    def fun2(self):\n",
    "        print(\"This is the message from the fun2\")\n",
    "\n",
    "class Child2(Child1):\n",
    "    def fun3(self):\n",
    "        print(\"This is the message from the fun3\")\n",
    "\n",
    "# Create an object of Child2 class\n",
    "c2 = Child2()\n",
    "\n",
    "# Create an object of Parent class\n",
    "p = Parent()\n",
    "\n",
    "# Call the 'fun1' method from the 'Parent' class using the object of Parent class\n",
    "p.fun1()"
   ]
  },
  {
   "cell_type": "markdown",
   "id": "942eadb9",
   "metadata": {},
   "source": [
    "**5. Create a class named ‘Parent’, and inside the class, create a function named ‘fun1’ and pass\n",
    "the following message in the print()- ‘This is the message from the fun1’.**\n",
    "\n",
    "**a. Now create a class named ‘Child’ and inside the class, create a method named ‘fun2’ and\n",
    "pass the following message in the print()- ‘This is the message from the fun2’.**\n",
    "\n",
    "**b. After that, create another class named ‘Hybrid’ and inside the class, create a method\n",
    "named ‘fun3’ and pass the following message in the print()- ‘This is the message from\n",
    "the fun3’.**\n",
    "\n",
    "**c. Now, create an object of Hybrid class and with the help of the object, call the ‘fun1’,\n",
    "‘fun2’, and ‘fun3’ methods.**"
   ]
  },
  {
   "cell_type": "code",
   "execution_count": 36,
   "id": "c658db71",
   "metadata": {},
   "outputs": [
    {
     "name": "stdout",
     "output_type": "stream",
     "text": [
      "This is the message from the fun1\n",
      "This is the message from the fun2\n",
      "This is the message from the fun3\n"
     ]
    }
   ],
   "source": [
    "class Parent:\n",
    "    def fun1(self):\n",
    "        print(\"This is the message from the fun1\")\n",
    "\n",
    "class Child(Parent):\n",
    "    def fun2(self):\n",
    "        print(\"This is the message from the fun2\")\n",
    "\n",
    "class Hybrid(Child):\n",
    "    def fun3(self):\n",
    "        print(\"This is the message from the fun3\")\n",
    "\n",
    "h = Hybrid()\n",
    "h.fun1()\n",
    "h.fun2()\n",
    "h.fun3()"
   ]
  },
  {
   "cell_type": "markdown",
   "id": "d73b586a",
   "metadata": {},
   "source": [
    "# Case Study Problem 1: OOPs with Python "
   ]
  },
  {
   "cell_type": "markdown",
   "id": "f759e9cd",
   "metadata": {},
   "source": [
    "**1. Create a class names Employee, with a constructor ‘__init__’ method that accepts name and\n",
    "salary as parameters and set properties named name and salary.**"
   ]
  },
  {
   "cell_type": "code",
   "execution_count": 37,
   "id": "e5b92c1f",
   "metadata": {},
   "outputs": [],
   "source": [
    "class Employee:\n",
    "    def __init__(self, name, salary):\n",
    "        self.name = name\n",
    "        self.salary = salary"
   ]
  },
  {
   "cell_type": "markdown",
   "id": "c8c0119d",
   "metadata": {},
   "source": [
    "**2. Define __str__ method in Employee class so that when someone tries to print the object the\n",
    "string Name: employee_name, Salary: employee_salary is printed with the actual employee\n",
    "name and salary.**"
   ]
  },
  {
   "cell_type": "code",
   "execution_count": 40,
   "id": "f207cd07",
   "metadata": {},
   "outputs": [],
   "source": [
    "class Employee:\n",
    "    def __init__(self, name, salary):\n",
    "        self.name = name\n",
    "        self.salary = salary\n",
    "\n",
    "    def __str__(self):\n",
    "        return f\"Name: {self.name}, Salary: {self.salary}\""
   ]
  },
  {
   "cell_type": "code",
   "execution_count": 42,
   "id": "c0abe2ef",
   "metadata": {},
   "outputs": [
    {
     "name": "stdout",
     "output_type": "stream",
     "text": [
      "Name: Sam, Salary: 50000\n"
     ]
    }
   ],
   "source": [
    "emp1 = Employee(\"Sam\", 50000)\n",
    "print(emp1)"
   ]
  },
  {
   "cell_type": "markdown",
   "id": "c53e3919",
   "metadata": {},
   "source": [
    "**3. Create another class named Calculator, with methods to add, subtract, multiply and divide two\n",
    "numbers.**\n",
    "\n",
    "**4. These methods take two numbers as parameters.**\n",
    "\n",
    "**5. These methods will be called by method named execute command.**\n",
    "\n",
    "**6. Execute command takes in 3 parameters command which is string that can be either ‘add’, ‘sub’,\n",
    "‘mul’, ‘div’, and two numbers and it will call the appropriate method based on command\n",
    "parameter.**"
   ]
  },
  {
   "cell_type": "code",
   "execution_count": 51,
   "id": "149279a6",
   "metadata": {},
   "outputs": [],
   "source": [
    "class Calculator:\n",
    "    def add(self, num1, num2):\n",
    "        return num1 + num2\n",
    "\n",
    "    def subtract(self, num1, num2):\n",
    "        return num1 - num2\n",
    "\n",
    "    def multiply(self, num1, num2):\n",
    "        return num1 * num2\n",
    "\n",
    "    def divide(self, num1, num2):\n",
    "        if num2 == 0:\n",
    "            raise ValueError(\"Cannot divide by zero\")\n",
    "        return num1 / num2\n",
    "\n",
    "    def execute_command(self, command, num1, num2):\n",
    "        if command == \"add\":\n",
    "            return self.add(num1, num2)\n",
    "        elif command == \"sub\":\n",
    "            return self.subtract(num1, num2)\n",
    "        elif command == \"mul\":\n",
    "            return self.multiply(num1, num2)\n",
    "        elif command == \"div\":\n",
    "            return self.divide(num1, num2)\n",
    "        else:\n",
    "            raise ValueError(\"Invalid command\")"
   ]
  },
  {
   "cell_type": "code",
   "execution_count": 53,
   "id": "09123f9b",
   "metadata": {},
   "outputs": [
    {
     "name": "stdout",
     "output_type": "stream",
     "text": [
      "5\n",
      "20\n"
     ]
    }
   ],
   "source": [
    "calculator = Calculator()\n",
    "result = calculator.execute_command(\"add\", 2, 3)\n",
    "print(result) \n",
    "\n",
    "result = calculator.execute_command(\"mul\", 4, 5)\n",
    "print(result)"
   ]
  },
  {
   "cell_type": "code",
   "execution_count": null,
   "id": "c644b689",
   "metadata": {},
   "outputs": [],
   "source": []
  }
 ],
 "metadata": {
  "kernelspec": {
   "display_name": "Python 3 (ipykernel)",
   "language": "python",
   "name": "python3"
  },
  "language_info": {
   "codemirror_mode": {
    "name": "ipython",
    "version": 3
   },
   "file_extension": ".py",
   "mimetype": "text/x-python",
   "name": "python",
   "nbconvert_exporter": "python",
   "pygments_lexer": "ipython3",
   "version": "3.10.9"
  }
 },
 "nbformat": 4,
 "nbformat_minor": 5
}
