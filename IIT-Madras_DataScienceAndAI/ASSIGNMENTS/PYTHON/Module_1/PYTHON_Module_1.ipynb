{
  "nbformat": 4,
  "nbformat_minor": 0,
  "metadata": {
    "colab": {
      "provenance": []
    },
    "kernelspec": {
      "name": "python3",
      "display_name": "Python 3"
    },
    "language_info": {
      "name": "python"
    }
  },
  "cells": [
    {
      "cell_type": "markdown",
      "source": [
        "### ***MODULE 1***\n",
        "## *Assignment 1 -IF-ELSE STATEMENT*"
      ],
      "metadata": {
        "id": "o5R7y2JmQJxP"
      }
    },
    {
      "cell_type": "markdown",
      "source": [
        "### **If-Else Statements Assignment**\n"
      ],
      "metadata": {
        "id": "iJjSD1TpM09f"
      }
    },
    {
      "cell_type": "markdown",
      "source": [
        "*1. Input the values of a and b as 10 and 20 respectively. Now check if a is greater or b is greater using if condition. Think about all the edge cases, and print the statements accordingly.*"
      ],
      "metadata": {
        "id": "bKmBBd5jQvjz"
      }
    },
    {
      "cell_type": "code",
      "source": [
        "a = int(input(\"Enter the value for a: \"))\n",
        "b = int(input(\"Enter the value for b: \"))\n",
        "\n",
        "if a > b:\n",
        "    print('a is greater than b')\n",
        "elif b > a:\n",
        "    print('b is greater than a')\n",
        "elif a == b:\n",
        "    print('a is equal to b')\n",
        "else:\n",
        "    print('Invalid case')"
      ],
      "metadata": {
        "colab": {
          "base_uri": "https://localhost:8080/"
        },
        "id": "1hmhxMBK_N1e",
        "outputId": "0786f567-bb68-4bc7-a66d-1cc040c6ed09"
      },
      "execution_count": null,
      "outputs": [
        {
          "output_type": "stream",
          "name": "stdout",
          "text": [
            "Enter the value for a: 10\n",
            "Enter the value for b: 20\n",
            "b is greater than a\n"
          ]
        }
      ]
    },
    {
      "cell_type": "markdown",
      "source": [
        "## *Assignment 2 - Conditional Statements*"
      ],
      "metadata": {
        "id": "WwsBKIxfQgbk"
      }
    },
    {
      "cell_type": "markdown",
      "source": [
        "### **Conditional Statements Assignment**"
      ],
      "metadata": {
        "id": "_dS0VUhxMwia"
      }
    },
    {
      "cell_type": "markdown",
      "source": [
        "*Take three user inputs and print the greatest number from those inputs using if-else condition. Edge cases if any, should also be handled.*"
      ],
      "metadata": {
        "id": "UoeqXHySQ5DQ"
      }
    },
    {
      "cell_type": "code",
      "source": [
        "x = int(input(\"Enter the value for x: \"))\n",
        "y = int(input(\"Enter the value for y: \"))\n",
        "z = int(input(\"Enter the value for z: \"))\n",
        "\n",
        "if x > y and x > z:\n",
        "    largest = x\n",
        "elif y > x and y > z:\n",
        "    largest = y\n",
        "else z > x and z > y:\n",
        "    largest = z\n",
        "    \n",
        "print('Largest number is: ', largest)\n"
      ],
      "metadata": {
        "colab": {
          "base_uri": "https://localhost:8080/"
        },
        "id": "_prLfyMHNCqv",
        "outputId": "cbd92140-f86f-4ef3-8853-0c550129603e"
      },
      "execution_count": null,
      "outputs": [
        {
          "output_type": "stream",
          "name": "stdout",
          "text": [
            "Enter the value for x: 10\n",
            "Enter the value for y: 20\n",
            "Enter the value for z: 15\n",
            "Largest number is:  20\n"
          ]
        }
      ]
    },
    {
      "cell_type": "markdown",
      "source": [
        "## *Assignment 1 - Loops*"
      ],
      "metadata": {
        "id": "PUZixV4iQlsc"
      }
    },
    {
      "cell_type": "markdown",
      "source": [
        "*Print the numbers from 1 to 10 using while loop.*"
      ],
      "metadata": {
        "id": "cwdHLLE3RDWE"
      }
    },
    {
      "cell_type": "code",
      "source": [
        "x = 1\n",
        "while x <= 10:\n",
        "  print (x)\n",
        "  x += 1\n",
        "  "
      ],
      "metadata": {
        "colab": {
          "base_uri": "https://localhost:8080/"
        },
        "id": "5KuWWtxnQtDK",
        "outputId": "f58be09c-4e55-4efa-92b2-eb2043ed5ff8"
      },
      "execution_count": null,
      "outputs": [
        {
          "output_type": "stream",
          "name": "stdout",
          "text": [
            "1\n",
            "2\n",
            "3\n",
            "4\n",
            "5\n",
            "6\n",
            "7\n",
            "8\n",
            "9\n",
            "10\n"
          ]
        }
      ]
    },
    {
      "cell_type": "markdown",
      "source": [
        "## ***Assignment 2 -Loops***"
      ],
      "metadata": {
        "id": "ERWvPkjMTESA"
      }
    },
    {
      "cell_type": "markdown",
      "source": [
        "Create a list that is having 10,23,4,26,4,75,24,54 values and with the help of while loop, fetch the even numbers and print the numbers.\n",
        "\n",
        "\n"
      ],
      "metadata": {
        "id": "e4ntOdAyTSF5"
      }
    },
    {
      "cell_type": "code",
      "source": [
        "# Create the list\n",
        "numbers = [10, 23, 4, 26, 4, 75, 24, 54]\n",
        "\n",
        "# Initialize an empty list to store even numbers\n",
        "even_numbers = []\n",
        "\n",
        "# Use a while loop to iterate through the list\n",
        "i = 0\n",
        "while i < len(numbers):\n",
        "    # Check if the number is even\n",
        "    if numbers[i] % 2 == 0:\n",
        "        even_numbers.append(numbers[i])  # Add even number to the even_numbers list\n",
        "    i += 1  # Increment the loop variable\n",
        "\n",
        "# Print the even numbers list\n",
        "print(even_numbers)"
      ],
      "metadata": {
        "colab": {
          "base_uri": "https://localhost:8080/"
        },
        "id": "Gmt9ziJuT8co",
        "outputId": "2abcbc11-feb3-433e-9f1d-978bfae56a73"
      },
      "execution_count": 2,
      "outputs": [
        {
          "output_type": "stream",
          "name": "stdout",
          "text": [
            "[10, 4, 26, 4, 24, 54]\n"
          ]
        }
      ]
    },
    {
      "cell_type": "markdown",
      "source": [
        "## ***Assignment 3 - Loops***"
      ],
      "metadata": {
        "id": "36bhlpO4ymXj"
      }
    },
    {
      "cell_type": "markdown",
      "source": [
        "*Create an array that is having user defined inputs and with the help of for loop, fetch all the prime numbers and print the numbers.*"
      ],
      "metadata": {
        "id": "s-Avf1XGhGoH"
      }
    },
    {
      "cell_type": "code",
      "source": [
        "# Get user input for array\n",
        "input_str = input(\"Enter numbers separated by space: \")\n",
        "input_list = input_str.split()\n",
        "array = []\n",
        "for num_str in input_list:\n",
        "    array.append(int(num_str))\n",
        "\n",
        "# Define a function to check if a number is prime\n",
        "def is_prime(n):\n",
        "    if n < 2:  # Numbers less than 2 are not prime\n",
        "        return False\n",
        "    for i in range(2, int(n**0.5) + 1):\n",
        "        if n % i == 0:\n",
        "            return False\n",
        "    return True\n",
        "\n",
        "# Use a for loop to iterate through the array\n",
        "prime_numbers = []\n",
        "for num in array:\n",
        "    if is_prime(num):\n",
        "        prime_numbers.append(num)\n",
        "\n",
        "# Print the prime numbers\n",
        "print(\"Prime numbers in the array:\", prime_numbers)"
      ],
      "metadata": {
        "colab": {
          "base_uri": "https://localhost:8080/"
        },
        "id": "XFHhBbPJt-0W",
        "outputId": "0a207b15-540b-4e6b-a40e-1a34842f8928"
      },
      "execution_count": 4,
      "outputs": [
        {
          "output_type": "stream",
          "name": "stdout",
          "text": [
            "Enter numbers separated by space: 1 2 3 4 5 7 8 9\n",
            "Prime numbers in the array: [2, 3, 5, 7]\n"
          ]
        }
      ]
    },
    {
      "cell_type": "markdown",
      "source": [
        "# **Case Study Problem 1 - Getting started with Python **\n"
      ],
      "metadata": {
        "id": "9cIrXNslvUNW"
      }
    },
    {
      "cell_type": "code",
      "source": [
        "#Create a list containing squares of numbers from 1 to 10 (HINT: use List Comprehension).\n",
        "\n",
        "l = [x**2 for x in range(1, 11)]\n",
        "print(l)"
      ],
      "metadata": {
        "colab": {
          "base_uri": "https://localhost:8080/"
        },
        "id": "mN-4XvrlvljA",
        "outputId": "1f272d7e-c8bf-4828-97d3-05ecaeb1d434"
      },
      "execution_count": 6,
      "outputs": [
        {
          "output_type": "stream",
          "name": "stdout",
          "text": [
            "[1, 4, 9, 16, 25, 36, 49, 64, 81, 100]\n"
          ]
        }
      ]
    },
    {
      "cell_type": "code",
      "source": [
        "# Write a Function to check if year number is a leap year.\n",
        "\n",
        "a = int(input('Enter the year: '))\n",
        "\n",
        "def LY():\n",
        "    if (a%4 == 0) and (a%100 != 0) or (a%400 == 0):\n",
        "        print(a,'is a leap year')\n",
        "    else:\n",
        "        print(a,'is not a leap year')\n",
        "obj = LY()"
      ],
      "metadata": {
        "colab": {
          "base_uri": "https://localhost:8080/"
        },
        "id": "SFtsm7zavsSA",
        "outputId": "b046e3aa-3115-4abe-ce81-7f0eaa3652c7"
      },
      "execution_count": 8,
      "outputs": [
        {
          "output_type": "stream",
          "name": "stdout",
          "text": [
            "Enter the year: 2020\n",
            "2020 is a leap year\n"
          ]
        }
      ]
    },
    {
      "cell_type": "code",
      "source": [
        "# Write a Function to take an array and return another array that contains the members of first array that are even.\n",
        "\n",
        "#Function to take an array\n",
        "\n",
        "def even1ist():\n",
        "    times = int(input('How many numbers to input in the array: '))\n",
        "    array1 = []\n",
        "    EvenArray = []\n",
        "    \n",
        "    for i in range(times):\n",
        "        num = int(input(\"Enter a number into array: \"))\n",
        "        array1.append(num)\n",
        "    \n",
        "    print('The array is:', array1)\n",
        "\n",
        "\n",
        "# Array that contains the members of first array that are even\n",
        "\n",
        "    for x in array1:\n",
        "        if (x%2==0):\n",
        "            EvenArray.append(x)\n",
        "    \n",
        "    print('The even numbers in the list are :', EvenArray)\n",
        "\n",
        "#Calliing the function\n",
        "\n",
        "even1ist()"
      ],
      "metadata": {
        "colab": {
          "base_uri": "https://localhost:8080/"
        },
        "id": "hX4Wein5vwyl",
        "outputId": "f85e46e8-0977-429f-f7f5-240ff1264b3c"
      },
      "execution_count": 9,
      "outputs": [
        {
          "output_type": "stream",
          "name": "stdout",
          "text": [
            "How many numbers to input in the array: 4\n",
            "Enter a number into array: 2\n",
            "Enter a number into array: 4\n",
            "Enter a number into array: 3\n",
            "Enter a number into array: 7\n",
            "The array is: [2, 4, 3, 7]\n",
            "The even numbers in the list are : [2, 4]\n"
          ]
        }
      ]
    },
    {
      "cell_type": "code",
      "source": [
        "# Write a Function that takes 2 arrays and prints the members of first array that are present of second array.\n",
        "\n",
        "def match1():\n",
        "    arrayA = []\n",
        "    arrayB = []\n",
        "    interArray = []\n",
        "\n",
        "    timesA = int(input('How many numbers to input in the 1st array: '))\n",
        "\n",
        "    for a in range(timesA):\n",
        "        numA = int(input(\"Enter a number into array A: \"))\n",
        "        arrayA.append(numA)\n",
        "\n",
        "    timesB = int(input('How many numbers to input in the 2nd array: '))\n",
        "        \n",
        "    for b in range(timesB):\n",
        "        numB = int(input(\"Enter a number into array B: \"))\n",
        "        arrayB.append(numB)\n",
        "    \n",
        "    print('The 1st array is:', arrayA)\n",
        "    print('The 2nd array is:', arrayB)\n",
        "\n",
        "    print('Intersected array is: ', list(set(arrayA) & set(arrayB)))\n",
        "        \n",
        "match1()"
      ],
      "metadata": {
        "colab": {
          "base_uri": "https://localhost:8080/"
        },
        "id": "_ZGZ41-Ev7be",
        "outputId": "a4452855-1b6f-44b9-a976-134e5fe0defb"
      },
      "execution_count": 11,
      "outputs": [
        {
          "output_type": "stream",
          "name": "stdout",
          "text": [
            "How many numbers to input in the 1st array: 3\n",
            "Enter a number into array A: 2\n",
            "Enter a number into array A: 4\n",
            "Enter a number into array A: 6\n",
            "How many numbers to input in the 2nd array: 4\n",
            "Enter a number into array B: 4\n",
            "Enter a number into array B: 5\n",
            "Enter a number into array B: 6\n",
            "Enter a number into array B: 7\n",
            "The 1st array is: [2, 4, 6]\n",
            "The 2nd array is: [4, 5, 6, 7]\n",
            "Intersected array is:  [4, 6]\n"
          ]
        }
      ]
    },
    {
      "cell_type": "markdown",
      "source": [
        "# **Introduction to Python**"
      ],
      "metadata": {
        "id": "k82EF4ttwyfV"
      }
    },
    {
      "cell_type": "code",
      "source": [
        "# 1. Create 1st tuple with values -> (10,20,30), 2nd tuple with values -> (40,50,60).\n",
        "#    a. Concatenate the two tuples and store it in “t_combine”\n",
        "#    b. Repeat the elements of “t_combine” 3 times\n",
        "#    c. Access the 3rd element from “t_combine”\n",
        "#    d. Access the first three elements from “t_combine”\n",
        "#    e. Access the last three elements from “t_combine”\n",
        "\n",
        "tupleA = (10,20,30)\n",
        "tupleB = (40,50,60)\n",
        "\n",
        "#    a. Concatenate the two tuples and store it in “t_combine”\n",
        "\n",
        "t_combine = tupleA + tupleB\n",
        "print(t_combine)\n",
        "\n",
        "#Checking if it is a tuple (not asked though)\n",
        "type(t_combine)\n",
        "\n",
        "#    b. Repeat the elements of “t_combine” 3 times\n",
        "\n",
        "print(t_combine * 3)\n",
        "\n",
        "#    c. Access the 3rd element from “t_combine”\n",
        "\n",
        "print(t_combine[2])\n",
        "\n",
        "#    d. Access the first three elements from “t_combine”\n",
        "\n",
        "print(t_combine[:3])\n",
        "\n",
        "#    e. Access the last three elements from “t_combine”\n",
        "\n",
        "print(t_combine[-3:])"
      ],
      "metadata": {
        "colab": {
          "base_uri": "https://localhost:8080/"
        },
        "id": "EK2Ao8WLwFt8",
        "outputId": "aa7cb912-ee55-48b9-d93f-28d637796180"
      },
      "execution_count": 12,
      "outputs": [
        {
          "output_type": "stream",
          "name": "stdout",
          "text": [
            "(10, 20, 30, 40, 50, 60)\n",
            "(10, 20, 30, 40, 50, 60, 10, 20, 30, 40, 50, 60, 10, 20, 30, 40, 50, 60)\n",
            "30\n",
            "(10, 20, 30)\n",
            "(40, 50, 60)\n"
          ]
        }
      ]
    },
    {
      "cell_type": "code",
      "source": [
        "# 2. Create a list ‘my_list’ with these elements:\n",
        "#    a. First element is a tuple with values 1,2,3\n",
        "#    b. Second element is a tuple with values “a”,”b”,”c”\n",
        "#    c. Third element is a tuple with values True,False\n",
        "\n",
        "my_list = []\n",
        "\n",
        "#    a. First element is a tuple with values 1,2,3\n",
        "\n",
        "e1 = (1,2,3)\n",
        "my_list.append(e1)\n",
        "\n",
        "#    b. Second element is a tuple with values “a”,”b”,”c”\n",
        "\n",
        "e2 = ('a','b','c')\n",
        "my_list.append(e2)\n",
        "\n",
        "#    c. Third element is a tuple with values True,False\n",
        "\n",
        "e3 = (True,False)\n",
        "my_list.append(e3)\n",
        "\n",
        "print(my_list)"
      ],
      "metadata": {
        "colab": {
          "base_uri": "https://localhost:8080/"
        },
        "id": "nDU5CmLNwXdw",
        "outputId": "892aa579-25d7-4c6e-b3d8-816c9150d7cb"
      },
      "execution_count": 13,
      "outputs": [
        {
          "output_type": "stream",
          "name": "stdout",
          "text": [
            "[(1, 2, 3), ('a', 'b', 'c'), (True, False)]\n"
          ]
        }
      ]
    },
    {
      "cell_type": "code",
      "source": [
        "#  3. Append a new tuple – (1,’a’,True) to ‘my_list’\n",
        "\n",
        "#    a. Append a new list – *“sparta”,123+ to my_list\n",
        "\n",
        "my_list = []\n",
        "\n",
        "element1 = (1,'a',True)\n",
        "my_list.append(element1)\n",
        "\n",
        "element2 = [\"sparta\", 123]\n",
        "my_list.append(element2)\n",
        "\n",
        "print(my_list)"
      ],
      "metadata": {
        "colab": {
          "base_uri": "https://localhost:8080/"
        },
        "id": "eyNAFWHcwbfX",
        "outputId": "15596438-a99f-4a7a-c326-b153cf223df4"
      },
      "execution_count": 14,
      "outputs": [
        {
          "output_type": "stream",
          "name": "stdout",
          "text": [
            "[(1, 'a', True), ['sparta', 123]]\n"
          ]
        }
      ]
    },
    {
      "cell_type": "code",
      "source": [
        "# 4. Create a dictionary ‘fruit’ where:\n",
        "#    a. The first key is ‘Fruit’ and the values are (“Apple”,”Banana”,”Mango”,”Guava”) \n",
        "#    b. The second key is ‘Cost’ and the values are (85,54,120,70)\n",
        "#    c. Extract all the keys from ‘fruit’\n",
        "#    d. Extract all the values from ‘fruit’\n",
        "\n",
        "fruit = {}\n",
        "\n",
        "#    a. The first key is ‘Fruit’ and the values are (“Apple”,”Banana”,”Mango”,”Guava”)\n",
        "\n",
        "fruit = {\"Fruit\" : (\"Apple\", \"Banana\", \"Mango\", \"Guava\")}\n",
        "\n",
        "#    b. The second key is ‘Cost’ and the values are (85,54,120,70)\n",
        "\n",
        "ele2 = {'Cost' : (85,54,120,70)}\n",
        "\n",
        "fruit.update(ele2)\n",
        "\n",
        "print(fruit)\n",
        "\n",
        "#    c. Extract all the keys from ‘fruit’\n",
        "\n",
        "print(fruit.keys())\n",
        "\n",
        "\n",
        "#    d. Extract all the values from ‘fruit’\n",
        "\n",
        "print(fruit.values())"
      ],
      "metadata": {
        "colab": {
          "base_uri": "https://localhost:8080/"
        },
        "id": "HLvH7xaZwf9G",
        "outputId": "e0629f25-346d-4ca7-9353-4563070587bb"
      },
      "execution_count": 15,
      "outputs": [
        {
          "output_type": "stream",
          "name": "stdout",
          "text": [
            "{'Fruit': ('Apple', 'Banana', 'Mango', 'Guava'), 'Cost': (85, 54, 120, 70)}\n",
            "dict_keys(['Fruit', 'Cost'])\n",
            "dict_values([('Apple', 'Banana', 'Mango', 'Guava'), (85, 54, 120, 70)])\n"
          ]
        }
      ]
    },
    {
      "cell_type": "code",
      "source": [
        "5 # Create a set named ‘my_set’ with values (1,1,”a”,”a”,True,True) and print the result\n",
        "\n",
        "s = (1,1,\"a\",\"a\", True, True)\n",
        "my_set = set(s)\n",
        "\n",
        "print(my_set)\n",
        "type(my_set)"
      ],
      "metadata": {
        "colab": {
          "base_uri": "https://localhost:8080/"
        },
        "id": "O64iUwA7wkBq",
        "outputId": "79f75d61-cae5-447f-dc2b-16e7ef94a8cc"
      },
      "execution_count": 16,
      "outputs": [
        {
          "output_type": "stream",
          "name": "stdout",
          "text": [
            "{1, 'a'}\n"
          ]
        },
        {
          "output_type": "execute_result",
          "data": {
            "text/plain": [
              "set"
            ]
          },
          "metadata": {},
          "execution_count": 16
        }
      ]
    }
  ]
}