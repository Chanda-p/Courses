{
  "nbformat": 4,
  "nbformat_minor": 0,
  "metadata": {
    "colab": {
      "provenance": []
    },
    "kernelspec": {
      "name": "python3",
      "display_name": "Python 3"
    },
    "language_info": {
      "name": "python"
    }
  },
  "cells": [
    {
      "cell_type": "markdown",
      "source": [
        "##ASSIGNMENT 1 - DATA STRUCTURES"
      ],
      "metadata": {
        "id": "LZAkA6frrzoE"
      }
    },
    {
      "cell_type": "markdown",
      "source": [
        "1. Create a list named ‘myList’ that is having the following elements: 10,20,30,’apple’, True,8.10.\n",
        "\n",
        "a. Now in the ‘myList’, append these values: 30,40\n",
        "\n",
        "b. After that reverse the elements of the ‘myList’ and store that in ‘reversedList’"
      ],
      "metadata": {
        "id": "Hwg_W_uar9CB"
      }
    },
    {
      "cell_type": "code",
      "source": [
        "# create the list 'myList' with the given elements\n",
        "myList = [10, 20, 30, 'apple', True, 8.10]\n",
        "\n",
        "# append 30 and 40 to 'myList'\n",
        "myList.append(30)\n",
        "myList.append(40)\n",
        "\n",
        "# reverse the elements of 'myList' and store it in 'reversedList'\n",
        "reversedList = myList[::-1]\n",
        "\n",
        "# print both the lists\n",
        "print(\"Original List:\", myList)\n",
        "print(\"Reversed List:\", reversedList)"
      ],
      "metadata": {
        "colab": {
          "base_uri": "https://localhost:8080/"
        },
        "id": "iFJDb5Hdr4Rz",
        "outputId": "47a70d7a-5198-48f7-ac0f-5ef942e4c36d"
      },
      "execution_count": 1,
      "outputs": [
        {
          "output_type": "stream",
          "name": "stdout",
          "text": [
            "Original List: [10, 20, 30, 'apple', True, 8.1, 30, 40]\n",
            "Reversed List: [40, 30, 8.1, True, 'apple', 30, 20, 10]\n"
          ]
        }
      ]
    },
    {
      "cell_type": "markdown",
      "source": [
        "2. Create a dictonary with key values as 1,2,3 and the values as ‘data’,’information’, and ‘text’.\n",
        "\n",
        "a. After that eliminate the ‘text’ value form the dictonary.\n",
        "\n",
        "b. Add ‘features’ in the dictonary.\n",
        "\n",
        "c. Fetch the ‘data’ element from the dictonary and display it in the output."
      ],
      "metadata": {
        "id": "M_rGw1qssWhN"
      }
    },
    {
      "cell_type": "code",
      "source": [
        "# create the dictionary with keys 1, 2, and 3, and values 'data', 'information', and 'text'\n",
        "myDict = {1: 'data', 2: 'information', 3: 'text'}\n",
        "\n",
        "# remove the 'text' value from the dictionary\n",
        "del myDict[3]\n",
        "\n",
        "# add 'features' to the dictionary\n",
        "myDict[4] = 'features'\n",
        "\n",
        "# fetch the 'data' element from the dictionary and display it in the output\n",
        "print(\"The 'data' element from the dictionary is:\", myDict[1])"
      ],
      "metadata": {
        "colab": {
          "base_uri": "https://localhost:8080/"
        },
        "id": "oT6Cy_HysiEg",
        "outputId": "a61c2e0d-d2c0-41d5-af70-a43a1047f02d"
      },
      "execution_count": 2,
      "outputs": [
        {
          "output_type": "stream",
          "name": "stdout",
          "text": [
            "The 'data' element from the dictionary is: data\n"
          ]
        }
      ]
    },
    {
      "cell_type": "markdown",
      "source": [
        "3. Create a tuple and add these elements 1,2,3,apple,mango in ‘my_tuple"
      ],
      "metadata": {
        "id": "rOEt4D2vsgh8"
      }
    },
    {
      "cell_type": "code",
      "source": [
        "# create a tuple named 'my_tuple' and add the elements 1, 2, 3, 'apple', and 'mango' to it\n",
        "my_tuple = (1, 2, 3, 'apple', 'mango')\n",
        "\n",
        "# print the tuple\n",
        "print(my_tuple)\n"
      ],
      "metadata": {
        "colab": {
          "base_uri": "https://localhost:8080/"
        },
        "id": "Tp-BiJlNs_Vi",
        "outputId": "739b154e-553d-41dc-885d-57a78f44b676"
      },
      "execution_count": 3,
      "outputs": [
        {
          "output_type": "stream",
          "name": "stdout",
          "text": [
            "(1, 2, 3, 'apple', 'mango')\n"
          ]
        }
      ]
    },
    {
      "cell_type": "markdown",
      "source": [
        "4. Create another tuple named numeric_tuple consisting of only integer values 10,20,30,40,50\n",
        "\n",
        "a. Find the minimum value from the numeric_tuple.\n",
        "\n",
        "b. Concatenate my_tuple with numeric_tuple and store the result in r1.\n",
        "\n",
        "c. Duplicate the tuple named my_tuple 2 times and store that in ‘newdupli’."
      ],
      "metadata": {
        "id": "l0ctHOkXsgFe"
      }
    },
    {
      "cell_type": "code",
      "source": [
        "# create a tuple named 'numeric_tuple' consisting of integer values 10, 20, 30, 40, and 50\n",
        "numeric_tuple = (10, 20, 30, 40, 50)\n",
        "\n",
        "# find the minimum value from 'numeric_tuple'\n",
        "min_value = min(numeric_tuple)\n",
        "\n",
        "# concatenate 'my_tuple' with 'numeric_tuple' and store the result in a new tuple named 'r1'\n",
        "r1 = my_tuple + numeric_tuple\n",
        "\n",
        "# duplicate 'my_tuple' two times and store it in a new tuple named 'newdupli'\n",
        "newdupli = my_tuple * 2\n",
        "\n",
        "# print the minimum value, 'r1', and 'newdupli'\n",
        "print(\"The minimum value from 'numeric_tuple' is:\", min_value)\n",
        "print(\"The concatenated tuple of 'my_tuple' and 'numeric_tuple' is:\", r1)\n",
        "print(\"The duplicated tuple of 'my_tuple' is:\", newdupli)"
      ],
      "metadata": {
        "colab": {
          "base_uri": "https://localhost:8080/"
        },
        "id": "gT3KJbfLsTL7",
        "outputId": "b6bf5978-fe31-4e60-af9a-4c8f08e81d15"
      },
      "execution_count": 4,
      "outputs": [
        {
          "output_type": "stream",
          "name": "stdout",
          "text": [
            "The minimum value from 'numeric_tuple' is: 10\n",
            "The concatenated tuple of 'my_tuple' and 'numeric_tuple' is: (1, 2, 3, 'apple', 'mango', 10, 20, 30, 40, 50)\n",
            "The duplicated tuple of 'my_tuple' is: (1, 2, 3, 'apple', 'mango', 1, 2, 3, 'apple', 'mango')\n"
          ]
        }
      ]
    },
    {
      "cell_type": "markdown",
      "source": [
        "5. Create 2 sets with name set1 and set2, where set1 contains{1,2,3,4,5} and set2 to contains{2,3,7,6,1}\n",
        "\n",
        "a. Perform the below operation:\n",
        "\n",
        "B. set1 union set2\n",
        "\n",
        "C. set1 intersection set2\n",
        "\n",
        "D. set1 difference set2"
      ],
      "metadata": {
        "id": "otSzmYb6trwi"
      }
    },
    {
      "cell_type": "code",
      "source": [
        "# create two sets named 'set1' and 'set2'\n",
        "set1 = {1, 2, 3, 4, 5}\n",
        "set2 = {2, 3, 7, 6, 1}\n",
        "\n",
        "# perform set union of 'set1' and 'set2'\n",
        "union_set = set1.union(set2)\n",
        "print(\"The union of 'set1' and 'set2' is:\", union_set)\n",
        "\n",
        "# perform set intersection of 'set1' and 'set2'\n",
        "intersection_set = set1.intersection(set2)\n",
        "print(\"The intersection of 'set1' and 'set2' is:\", intersection_set)\n",
        "\n",
        "# perform set difference of 'set1' and 'set2'\n",
        "difference_set = set1.difference(set2)\n",
        "print(\"The difference of 'set1' and 'set2' is:\", difference_set)"
      ],
      "metadata": {
        "colab": {
          "base_uri": "https://localhost:8080/"
        },
        "id": "dQLwgU6XtkiU",
        "outputId": "9d68cba8-b0a8-42cb-d4c9-306fcfa25efe"
      },
      "execution_count": 5,
      "outputs": [
        {
          "output_type": "stream",
          "name": "stdout",
          "text": [
            "The union of 'set1' and 'set2' is: {1, 2, 3, 4, 5, 6, 7}\n",
            "The intersection of 'set1' and 'set2' is: {1, 2, 3}\n",
            "The difference of 'set1' and 'set2' is: {4, 5}\n"
          ]
        }
      ]
    },
    {
      "cell_type": "markdown",
      "source": [
        "##ASSIGNMENT 2 - NUMPY"
      ],
      "metadata": {
        "id": "3NoxuFoQuQ11"
      }
    },
    {
      "cell_type": "markdown",
      "source": [
        "1. Create a 3x3 matrix array with values ranging from 2 to 10"
      ],
      "metadata": {
        "id": "HZGgFOYIuWlw"
      }
    },
    {
      "cell_type": "code",
      "source": [
        "import numpy as np\n",
        "\n",
        "arr = np.arange(2, 11).reshape(3, 3)\n",
        "print(arr)\n"
      ],
      "metadata": {
        "colab": {
          "base_uri": "https://localhost:8080/"
        },
        "id": "mhu18k0ot94k",
        "outputId": "be1ebc02-0ccb-465d-fd21-806584ba7203"
      },
      "execution_count": 6,
      "outputs": [
        {
          "output_type": "stream",
          "name": "stdout",
          "text": [
            "[[ 2  3  4]\n",
            " [ 5  6  7]\n",
            " [ 8  9 10]]\n"
          ]
        }
      ]
    },
    {
      "cell_type": "markdown",
      "source": [
        "2. Create a numpy array having user input values and convert the integer type to the float type of the elements of the array. For instance:\n",
        "Original array\n",
        "[1, 2, 3, 4]\n",
        "Array converted to a float type:\n",
        "[ 1. 2. 3. 4.]"
      ],
      "metadata": {
        "id": "4mIDWSCTupHv"
      }
    },
    {
      "cell_type": "code",
      "source": [
        "# create an empty list to store user input values\n",
        "values = []\n",
        "\n",
        "# take user input for the values and append them to the list\n",
        "while True:\n",
        "    value = input(\"Enter a value (or 'done' to stop): \")\n",
        "    if value == 'done':\n",
        "        break\n",
        "    values.append(int(value))\n",
        "\n",
        "# create a NumPy array from the list of values\n",
        "arr = np.array(values)\n",
        "\n",
        "# convert the integer type to the float type of the elements\n",
        "arr = arr.astype('float')\n",
        "\n",
        "# print the original and converted arrays\n",
        "print(\"Original array:\", values)\n",
        "print(\"Array converted to a float type:\", arr)"
      ],
      "metadata": {
        "colab": {
          "base_uri": "https://localhost:8080/"
        },
        "id": "SQ3JzGO8uikj",
        "outputId": "d29d97d2-1862-4ff1-d8b9-d774cd1703b1"
      },
      "execution_count": 10,
      "outputs": [
        {
          "output_type": "stream",
          "name": "stdout",
          "text": [
            "Enter a value (or 'done' to stop): 2\n",
            "Enter a value (or 'done' to stop): 3\n",
            "Enter a value (or 'done' to stop): 1\n",
            "Enter a value (or 'done' to stop): 5\n",
            "Enter a value (or 'done' to stop): done\n",
            "Original array: [2, 3, 1, 5]\n",
            "Array converted to a float type: [2. 3. 1. 5.]\n"
          ]
        }
      ]
    },
    {
      "cell_type": "markdown",
      "source": [
        "3. Write a Numpy program to append values to the end of an array. For instance:\n",
        "Original array:\n",
        "[10, 20, 30]\n",
        "After append values to the end of the array:\n",
        "[10 20 30 40 50 60 70 80 90]"
      ],
      "metadata": {
        "id": "Cp8iKPjIv5QF"
      }
    },
    {
      "cell_type": "code",
      "source": [
        "# create the original array\n",
        "arr = np.array([10, 20, 30])\n",
        "\n",
        "# append values to the end of the array\n",
        "arr = np.append(arr, [40, 50, 60, 70, 80, 90])\n",
        "\n",
        "# print the updated array\n",
        "print(arr)"
      ],
      "metadata": {
        "colab": {
          "base_uri": "https://localhost:8080/"
        },
        "id": "xeBuIHCBvJwK",
        "outputId": "0c52b9d5-ec97-4e06-ed5a-377d5aee6a50"
      },
      "execution_count": 11,
      "outputs": [
        {
          "output_type": "stream",
          "name": "stdout",
          "text": [
            "[10 20 30 40 50 60 70 80 90]\n"
          ]
        }
      ]
    },
    {
      "cell_type": "markdown",
      "source": [
        "4. Create two numpy arrays and add the elements of both the arrays and store the result in sumArray."
      ],
      "metadata": {
        "id": "pehd5leuwIBt"
      }
    },
    {
      "cell_type": "code",
      "source": [
        "# create the first array\n",
        "arr1 = np.array([1, 2, 3])\n",
        "\n",
        "# create the second array\n",
        "arr2 = np.array([4, 5, 6])\n",
        "\n",
        "# add the elements of both arrays and store the result in sumArray\n",
        "sumArray = arr1 + arr2\n",
        "\n",
        "# print the sumArray\n",
        "print(sumArray)\n"
      ],
      "metadata": {
        "colab": {
          "base_uri": "https://localhost:8080/"
        },
        "id": "P5gTg_VkwEJx",
        "outputId": "993518c3-31c2-4025-cb17-6e9495aebee1"
      },
      "execution_count": 12,
      "outputs": [
        {
          "output_type": "stream",
          "name": "stdout",
          "text": [
            "[5 7 9]\n"
          ]
        }
      ]
    },
    {
      "cell_type": "markdown",
      "source": [
        "5. Create a 3*3 array having values from 10-90(interval of 10) and store that in array1. Perform\n",
        "the following tasks:\n",
        "\n",
        "a. Extract the 1st row from the array.\n",
        "\n",
        "b. Extract the last element from the array."
      ],
      "metadata": {
        "id": "t-5C3qVBwa_U"
      }
    },
    {
      "cell_type": "code",
      "source": [
        "# create the array1 with values from 10-90 with interval of 10\n",
        "array1 = np.arange(10, 100, 10).reshape(3, 3)\n",
        "\n",
        "# extract the first row from the array\n",
        "row1 = array1[0]\n",
        "\n",
        "# extract the last element from the array\n",
        "last_elem = array1[-1][-1]\n",
        "\n",
        "# print the first row and the last element\n",
        "print(\"First row:\", row1)\n",
        "print(\"Last element:\", last_elem)"
      ],
      "metadata": {
        "colab": {
          "base_uri": "https://localhost:8080/"
        },
        "id": "lJ1RH-EfwYIn",
        "outputId": "f0a6a7fc-19df-4635-82a8-3764383dc566"
      },
      "execution_count": 14,
      "outputs": [
        {
          "output_type": "stream",
          "name": "stdout",
          "text": [
            "First row: [10 20 30]\n",
            "Last element: 90\n"
          ]
        }
      ]
    },
    {
      "cell_type": "markdown",
      "source": [
        "## CASE STUDY PROBLEM 1\n"
      ],
      "metadata": {
        "id": "IdKxgB_fwyfu"
      }
    },
    {
      "cell_type": "markdown",
      "source": [
        "1. Create a function that takes dimensions as tuples e.g.(3, 3) and a numeric value and returns a Numpy array of the given dimension filled with the given value e.g.: solve((3, 3), 5) will return\n",
        "[\n",
        " [5, 5, 5],\n",
        " [5, 5, 5],\n",
        " [5, 5, 5]\n",
        "]"
      ],
      "metadata": {
        "id": "BPFTC_mPw7I0"
      }
    },
    {
      "cell_type": "code",
      "source": [
        "def solve(dimensions, value):\n",
        "    return np.full(dimensions, value)"
      ],
      "metadata": {
        "id": "cCRMAPqqwm0t"
      },
      "execution_count": 15,
      "outputs": []
    },
    {
      "cell_type": "code",
      "source": [
        "# call the solve function with dimensions (3, 3) and value 5\n",
        "result = solve((3, 3), 5)\n",
        "\n",
        "# print the result\n",
        "print(result)"
      ],
      "metadata": {
        "colab": {
          "base_uri": "https://localhost:8080/"
        },
        "id": "PcxsBUI3xhXy",
        "outputId": "8b2d0652-588a-4c68-c9ee-3ab2ee00ce75"
      },
      "execution_count": 16,
      "outputs": [
        {
          "output_type": "stream",
          "name": "stdout",
          "text": [
            "[[5 5 5]\n",
            " [5 5 5]\n",
            " [5 5 5]]\n"
          ]
        }
      ]
    },
    {
      "cell_type": "markdown",
      "source": [
        "2. Create a method that takes n Numpy arrays of same dimensions sums them and return the answer."
      ],
      "metadata": {
        "id": "1MPJ5StAxny5"
      }
    },
    {
      "cell_type": "code",
      "source": [
        "def sum_arrays(*arrays):\n",
        "    return np.sum(arrays, axis=0)\n"
      ],
      "metadata": {
        "id": "4gDwIcMLxiWv"
      },
      "execution_count": 17,
      "outputs": []
    },
    {
      "cell_type": "code",
      "source": [
        "a = np.array([[1, 2], [3, 4]])\n",
        "b = np.array([[5, 6], [7, 8]])\n",
        "c = np.array([[9, 10], [11, 12]])\n",
        "\n",
        "result = sum_arrays(a, b, c)\n",
        "print(result) "
      ],
      "metadata": {
        "colab": {
          "base_uri": "https://localhost:8080/"
        },
        "id": "cqb9AVaOx35C",
        "outputId": "379a0400-1bac-46b0-967e-8e38f345581a"
      },
      "execution_count": 18,
      "outputs": [
        {
          "output_type": "stream",
          "name": "stdout",
          "text": [
            "[[15 18]\n",
            " [21 24]]\n"
          ]
        }
      ]
    },
    {
      "cell_type": "markdown",
      "source": [
        "3. Given a 2 D Array of N X M Dimension, Write a function that accepts this array as well as two numbers N and M. The method should return the top-left N X M sub matrix e.g:\n",
        " [\n",
        " [1, 2, 3],\n",
        " [4, 5, 6],\n",
        " [7, 8, 9],\n",
        " ]\n",
        "top_left_sub_matrix (matrix, 2, 2) -> should return:\n",
        " [\n",
        " [1, 2]\n",
        " [4, 5]\n",
        " ]"
      ],
      "metadata": {
        "id": "bk_7wMm5yGOD"
      }
    },
    {
      "cell_type": "code",
      "source": [
        "def top_left_sub_matrix(matrix, N, M):\n",
        "    return matrix[:N, :M]"
      ],
      "metadata": {
        "id": "8cNeaLTnx_-y"
      },
      "execution_count": 19,
      "outputs": []
    },
    {
      "cell_type": "markdown",
      "source": [
        "4. Given a 2 D Array of N X M Dimension, Write a function that accepts this array as well as two numbers N and M The method should return the bottom-right N X M sub matrix e.g.:\n",
        " [\n",
        " [1, 2, 3],\n",
        " [4, 5, 6],\n",
        " [7, 8, 9],\n",
        " ]\n",
        "sub_matrix(matrix, 1, 1) -> should return : (Keep in mind these arrays are zero indexed)\n",
        " [\n",
        " [5, 6]\n",
        " [8, 9]\n",
        " ]"
      ],
      "metadata": {
        "id": "Pxjs0_ozzu_P"
      }
    },
    {
      "cell_type": "code",
      "source": [
        "def sub_matrix(matrix, n, m):\n",
        "    rows, cols = matrix.shape\n",
        "    return matrix[rows-n:, cols-m:]"
      ],
      "metadata": {
        "id": "UvfqePJdzX2o"
      },
      "execution_count": 20,
      "outputs": []
    },
    {
      "cell_type": "code",
      "source": [
        "matrix = np.array([[1, 2, 3], [4, 5, 6], [7, 8, 9]])\n",
        "sub_matrix(matrix, 1, 1)"
      ],
      "metadata": {
        "colab": {
          "base_uri": "https://localhost:8080/"
        },
        "id": "9nFZkinY0LRZ",
        "outputId": "bfeb8ad4-19c0-4a62-bf4a-1ee102dc99c2"
      },
      "execution_count": 21,
      "outputs": [
        {
          "output_type": "execute_result",
          "data": {
            "text/plain": [
              "array([[9]])"
            ]
          },
          "metadata": {},
          "execution_count": 21
        }
      ]
    },
    {
      "cell_type": "markdown",
      "source": [
        "5. Given a 1 D Numpy Array. Write a function that accepts this array as parameters. The method should return a dictionary with 'mean' and 'std_dev' as key and array's mean and array's standard deviation as values:\n",
        " [1, 1, 1]\n",
        "solution(arr) -> should return :\n",
        " {'mean': 1.0, 'std_dev': 0.0}"
      ],
      "metadata": {
        "id": "NgRVyZ4e0a-L"
      }
    },
    {
      "cell_type": "code",
      "source": [
        "def get_mean_std(arr):\n",
        "    return {'mean': np.mean(arr), 'std_dev': np.std(arr)}"
      ],
      "metadata": {
        "id": "Ixnu9blJ0Rxf"
      },
      "execution_count": 22,
      "outputs": []
    },
    {
      "cell_type": "code",
      "source": [
        "arr = np.array([1, 1, 1])\n",
        "result = get_mean_std(arr)\n",
        "print(result) "
      ],
      "metadata": {
        "colab": {
          "base_uri": "https://localhost:8080/"
        },
        "id": "gfS0jrVA03pp",
        "outputId": "6c123beb-b986-4f3f-c9b0-da0c23ea51c4"
      },
      "execution_count": 23,
      "outputs": [
        {
          "output_type": "stream",
          "name": "stdout",
          "text": [
            "{'mean': 1.0, 'std_dev': 0.0}\n"
          ]
        }
      ]
    }
  ]
}