{
  "nbformat": 4,
  "nbformat_minor": 0,
  "metadata": {
    "colab": {
      "provenance": []
    },
    "kernelspec": {
      "name": "python3",
      "display_name": "Python 3"
    },
    "language_info": {
      "name": "python"
    }
  },
  "cells": [
    {
      "cell_type": "markdown",
      "source": [
        "1. Create a function named ‘factor’ that can only accept 1 argument. The function should return the factorial of that number.\n",
        "\n"
      ],
      "metadata": {
        "id": "oCn6f3JykhIV"
      }
    },
    {
      "cell_type": "code",
      "source": [
        "def factor(n):\n",
        "  if n == 0:\n",
        "    return 1\n",
        "  else:\n",
        "    return n * factor(n-1)"
      ],
      "metadata": {
        "id": "-lmxqvaHkien"
      },
      "execution_count": 1,
      "outputs": []
    },
    {
      "cell_type": "code",
      "source": [
        "factor(0)"
      ],
      "metadata": {
        "colab": {
          "base_uri": "https://localhost:8080/"
        },
        "id": "Eid7wYsKlC1S",
        "outputId": "da94bda9-05d7-4c57-dc12-7eadc3a4f724"
      },
      "execution_count": 2,
      "outputs": [
        {
          "output_type": "execute_result",
          "data": {
            "text/plain": [
              "1"
            ]
          },
          "metadata": {},
          "execution_count": 2
        }
      ]
    },
    {
      "cell_type": "code",
      "source": [
        "factor(4)"
      ],
      "metadata": {
        "colab": {
          "base_uri": "https://localhost:8080/"
        },
        "id": "Jw0mdaddlG5h",
        "outputId": "65f5fc80-148f-4102-a2fd-ab534eeaaa8b"
      },
      "execution_count": 3,
      "outputs": [
        {
          "output_type": "execute_result",
          "data": {
            "text/plain": [
              "24"
            ]
          },
          "metadata": {},
          "execution_count": 3
        }
      ]
    },
    {
      "cell_type": "markdown",
      "source": [
        "2. Create a function named ‘check_string’, the function should accept a string data from the user and the function should check if the user input contains the letter ‘s’ in it. If it contains the letter ‘s’ then print- ‘The string is containing the letter ‘s’’, if not then print- ‘The string doesn’t contain the letter ‘s’’."
      ],
      "metadata": {
        "id": "CFoFG-N7lObB"
      }
    },
    {
      "cell_type": "code",
      "source": [
        "def check_string(user_input):\n",
        "    if 's' in user_input or 'S' in user_input:\n",
        "        print(\"The string is containing the letter 's'\")\n",
        "    else:\n",
        "        print(\"The string doesn't contain the letter 's'\")\n"
      ],
      "metadata": {
        "id": "QXQ6qYzflI9B"
      },
      "execution_count": 13,
      "outputs": []
    },
    {
      "cell_type": "code",
      "source": [
        "check_string('Hello world')"
      ],
      "metadata": {
        "colab": {
          "base_uri": "https://localhost:8080/"
        },
        "id": "H7EpN2SOoSDS",
        "outputId": "84f59545-da01-414c-dba1-9443b3eeb4cc"
      },
      "execution_count": 14,
      "outputs": [
        {
          "output_type": "stream",
          "name": "stdout",
          "text": [
            "The string doesn't contain the letter 's'\n"
          ]
        }
      ]
    },
    {
      "cell_type": "code",
      "source": [
        "check_string('Hello there Snappy')"
      ],
      "metadata": {
        "colab": {
          "base_uri": "https://localhost:8080/"
        },
        "id": "_L7qs00bl41x",
        "outputId": "d9d29307-edcf-4b73-8493-8ea19091b737"
      },
      "execution_count": 15,
      "outputs": [
        {
          "output_type": "stream",
          "name": "stdout",
          "text": [
            "The string is containing the letter 's'\n"
          ]
        }
      ]
    },
    {
      "cell_type": "markdown",
      "source": [
        "3. Create a class named ‘student’ and inside the class, create a function named ‘fun1’- this method should accept the user defined input and return that value.\n",
        "a. Create another method named- message() and that method should print the user defined input that we have defined in ‘fun1’"
      ],
      "metadata": {
        "id": "fwlnTokrm2Fw"
      }
    },
    {
      "cell_type": "code",
      "source": [
        "class student:\n",
        "    def fun1(self):\n",
        "        self.user_input = input(\"Enter a value: \")\n",
        "        return self.user_input\n",
        "    \n",
        "    def message(self):\n",
        "        print(\"The user defined input is:\", self.user_input)\n",
        "        \n",
        "# Create an object of student class\n",
        "std = student()\n",
        "\n",
        "# Call fun1 method to get user input\n",
        "user_value = std.fun1()\n",
        "\n",
        "# Print the user input\n",
        "print(\"The user input is:\", user_value)\n",
        "\n",
        "# Call message method to print the user input\n",
        "std.message()\n"
      ],
      "metadata": {
        "colab": {
          "base_uri": "https://localhost:8080/"
        },
        "id": "jaK2m-XzmCHu",
        "outputId": "46f4b7eb-f302-4fd5-bdd0-0abee6b72861"
      },
      "execution_count": 21,
      "outputs": [
        {
          "output_type": "stream",
          "name": "stdout",
          "text": [
            "Enter a value: Hello World\n",
            "The user input is: Hello World\n",
            "The user defined input is: Hello World\n"
          ]
        }
      ]
    },
    {
      "cell_type": "markdown",
      "source": [
        "4. Create a lambda function that should double or multiply the number (that we will be passing in the lambda function) by 2. Store the lambda function in a variable named ‘double_num’.\n"
      ],
      "metadata": {
        "id": "-0Xmpvmtpdpt"
      }
    },
    {
      "cell_type": "code",
      "source": [
        "double_num = lambda x: x*2"
      ],
      "metadata": {
        "id": "sW21UJKDpfwL"
      },
      "execution_count": 16,
      "outputs": []
    },
    {
      "cell_type": "code",
      "source": [
        "result = double_num(5)\n",
        "print(result)"
      ],
      "metadata": {
        "colab": {
          "base_uri": "https://localhost:8080/"
        },
        "id": "0dcBk1v9p4aR",
        "outputId": "6f1bd429-8edf-4733-ffa3-8881e0179b77"
      },
      "execution_count": 18,
      "outputs": [
        {
          "output_type": "stream",
          "name": "stdout",
          "text": [
            "10\n"
          ]
        }
      ]
    },
    {
      "cell_type": "markdown",
      "source": [
        "5. Take the user input string and check whether that string is palindrome or not."
      ],
      "metadata": {
        "id": "-05ngCRsqt6B"
      }
    },
    {
      "cell_type": "code",
      "source": [
        "def is_palindrome(user_input):\n",
        "    user_input = user_input.lower() # Convert to lower case for case-insensitivity\n",
        "    reversed_input = user_input[::-1] # Reverse the input string\n",
        "    \n",
        "    if user_input == reversed_input:\n",
        "        print(\"The string is a palindrome.\")\n",
        "    else:\n",
        "        print(\"The string is not a palindrome.\")"
      ],
      "metadata": {
        "id": "WioF-mW7qClO"
      },
      "execution_count": 22,
      "outputs": []
    },
    {
      "cell_type": "code",
      "source": [
        "user_input = input(\"Enter a string: \")\n",
        "is_palindrome(user_input)"
      ],
      "metadata": {
        "colab": {
          "base_uri": "https://localhost:8080/"
        },
        "id": "n0ANjq0cu1Lt",
        "outputId": "6cac1c19-113c-43cd-b4b6-0c71cbb6676f"
      },
      "execution_count": 24,
      "outputs": [
        {
          "output_type": "stream",
          "name": "stdout",
          "text": [
            "Enter a string: naman\n",
            "The string is a palindrome.\n"
          ]
        }
      ]
    },
    {
      "cell_type": "markdown",
      "source": [
        "6. Create a class named ‘Super’ and inside that class define a user-defined function named fun1.\n",
        "a. Inside the ‘fun1’ function, pass the message “This is function 1 in the Super class.” in the print statement."
      ],
      "metadata": {
        "id": "QKwKvC6mvkFa"
      }
    },
    {
      "cell_type": "code",
      "source": [
        "class Super:\n",
        "  def fun1(self):\n",
        "    print(\"This is function 1 in the Super class.\")\n",
        "\n",
        "s = Super()\n",
        "s.fun1()"
      ],
      "metadata": {
        "colab": {
          "base_uri": "https://localhost:8080/"
        },
        "id": "63sviyq2u_lt",
        "outputId": "da238827-1153-4d22-b3b4-a6afe89c6f81"
      },
      "execution_count": 27,
      "outputs": [
        {
          "output_type": "stream",
          "name": "stdout",
          "text": [
            "This is function 1 in the Super class.\n"
          ]
        }
      ]
    },
    {
      "cell_type": "markdown",
      "source": [
        "7. Create another class named ‘Modified_Super’ and inherit this class from the Super class. \n",
        "\n",
        "a. Inside the Modified_Super class, create a function named ‘fun1’ and pass the following message inside the print statement: ‘This is function 1 in the Modified Super class.’\n",
        "\n",
        "b. Create another user-defined function named ‘fun2’ and pass the message: ‘This is the 2nd function from the Modified Super class’ in the print statement.\n",
        "\n",
        "c. After that, now create an object for the Modified_Super class and call the fun1()."
      ],
      "metadata": {
        "id": "V4x-k4OUyzm4"
      }
    },
    {
      "cell_type": "code",
      "source": [
        "class Modified_Super(Super):\n",
        "    def fun1(self):\n",
        "        print(\"This is function 1 in the Modified Super class.\")\n",
        "    \n",
        "    def fun2(self):\n",
        "        print(\"This is the 2nd function from the Modified Super class.\")\n",
        "\n",
        "m = Modified_Super()\n",
        "m.fun1()\n"
      ],
      "metadata": {
        "colab": {
          "base_uri": "https://localhost:8080/"
        },
        "id": "Pz-LyEeTyaAE",
        "outputId": "1f3f7c85-4a29-415b-e334-62b1fefb0937"
      },
      "execution_count": 33,
      "outputs": [
        {
          "output_type": "stream",
          "name": "stdout",
          "text": [
            "This is function 1 in the Modified Super class.\n"
          ]
        }
      ]
    },
    {
      "cell_type": "markdown",
      "source": [
        "8. Create 2 methods named ‘Hello’. In the 1st Hello method, pass only one argument and pass this message: ‘This function only has 1 argument’. And in the 2nd Hello method, pass\n",
        "two arguments and pass this message: ‘This function has 2 arguments’.\n",
        "\n",
        "a. Try to call both the methods and analyze the output of both the methods."
      ],
      "metadata": {
        "id": "O8HKHy1y0dN-"
      }
    },
    {
      "cell_type": "code",
      "source": [
        "class MyClass:\n",
        "  def Hello(self, arg1):\n",
        "    print('This function only has 1 argument')\n",
        "  def Hello(self, arg1, arg2):\n",
        "    print('This function has 2 arguments')"
      ],
      "metadata": {
        "id": "xwNWZwZgzzWC"
      },
      "execution_count": 41,
      "outputs": []
    },
    {
      "cell_type": "code",
      "source": [
        "m = MyClass()\n",
        "m.Hello(\"arg1\")\n",
        "m.Hello(\"arg1,arg2\")"
      ],
      "metadata": {
        "colab": {
          "base_uri": "https://localhost:8080/",
          "height": 201
        },
        "id": "-P2A0-1r2dZC",
        "outputId": "56f51d4b-ea68-4664-91e6-f84351ff98e9"
      },
      "execution_count": 42,
      "outputs": [
        {
          "output_type": "error",
          "ename": "TypeError",
          "evalue": "ignored",
          "traceback": [
            "\u001b[0;31m---------------------------------------------------------------------------\u001b[0m",
            "\u001b[0;31mTypeError\u001b[0m                                 Traceback (most recent call last)",
            "\u001b[0;32m<ipython-input-42-f5867b71bb2f>\u001b[0m in \u001b[0;36m<cell line: 2>\u001b[0;34m()\u001b[0m\n\u001b[1;32m      1\u001b[0m \u001b[0mm\u001b[0m \u001b[0;34m=\u001b[0m \u001b[0mMyClass\u001b[0m\u001b[0;34m(\u001b[0m\u001b[0;34m)\u001b[0m\u001b[0;34m\u001b[0m\u001b[0;34m\u001b[0m\u001b[0m\n\u001b[0;32m----> 2\u001b[0;31m \u001b[0mm\u001b[0m\u001b[0;34m.\u001b[0m\u001b[0mHello\u001b[0m\u001b[0;34m(\u001b[0m\u001b[0;34m\"arg1\"\u001b[0m\u001b[0;34m)\u001b[0m\u001b[0;34m\u001b[0m\u001b[0;34m\u001b[0m\u001b[0m\n\u001b[0m\u001b[1;32m      3\u001b[0m \u001b[0mm\u001b[0m\u001b[0;34m.\u001b[0m\u001b[0mHello\u001b[0m\u001b[0;34m(\u001b[0m\u001b[0;34m\"arg1,arg2\"\u001b[0m\u001b[0;34m)\u001b[0m\u001b[0;34m\u001b[0m\u001b[0;34m\u001b[0m\u001b[0m\n",
            "\u001b[0;31mTypeError\u001b[0m: Hello() missing 1 required positional argument: 'arg2'"
          ]
        }
      ]
    },
    {
      "cell_type": "markdown",
      "source": [
        "This is because both methods have the same name and argument count, and therefore the second method will overwrite the first method. To avoid this issue, we can give different names to the two methods:"
      ],
      "metadata": {
        "id": "WOl5hmmV2Yb9"
      }
    },
    {
      "cell_type": "markdown",
      "source": [
        "9. Create a method named ‘Sum’ that can accept multiple user inputs. Now add those user- defined input values using for loop and the function should return the addition of the numbers."
      ],
      "metadata": {
        "id": "HLyRVb8y2ktJ"
      }
    },
    {
      "cell_type": "code",
      "source": [
        "class MyClass:\n",
        "  def Sum(self, *args):\n",
        "    total = 0\n",
        "    for num in args:\n",
        "      total += num\n",
        "    return total"
      ],
      "metadata": {
        "id": "ng97tm8M1vpR"
      },
      "execution_count": 43,
      "outputs": []
    },
    {
      "cell_type": "code",
      "source": [
        "my_instance = MyClass()\n",
        "result1 = my_instance.Sum(1, 2, 3, 4, 5)\n",
        "result2 = my_instance.Sum(10, 20, 30)\n",
        "print(result1)\n",
        "print(result2)"
      ],
      "metadata": {
        "colab": {
          "base_uri": "https://localhost:8080/"
        },
        "id": "IIYWpNHA3S5f",
        "outputId": "4c31b70d-2012-40fc-d0c8-ab4421a73d26"
      },
      "execution_count": 46,
      "outputs": [
        {
          "output_type": "stream",
          "name": "stdout",
          "text": [
            "15\n",
            "60\n"
          ]
        }
      ]
    },
    {
      "cell_type": "markdown",
      "source": [
        "10. Create a class named ‘Encapsulation’:\n",
        "\n",
        "a. Inside the class, first create a constructor. Inside the constructor, initialize originalValue variable as 10.\n",
        "\n",
        "b. After creating the constructor, define a function named ‘Value’ and this function should return the variable that we have initialized in the constructor.\n",
        "\n",
        "c. Now create 2nd function named setValue, and pass an argument named ‘newValue’. The task of this function will be to replace the value of the originalValue variable by the value of the newValue variable."
      ],
      "metadata": {
        "id": "4FYMZEWF30Ym"
      }
    },
    {
      "cell_type": "code",
      "source": [
        "class Encapsulation:\n",
        "  def __init__(self):\n",
        "    self.real_value = 10\n",
        "  def Value(self):\n",
        "    return self.real_value\n",
        "  def setValue(self, newValue):\n",
        "    self.real_value = newValue"
      ],
      "metadata": {
        "id": "ziKAisCa3mQr"
      },
      "execution_count": 48,
      "outputs": []
    }
  ]
}