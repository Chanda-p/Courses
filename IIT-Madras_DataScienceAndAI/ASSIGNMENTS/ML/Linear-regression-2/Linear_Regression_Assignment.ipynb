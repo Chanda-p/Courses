{
  "nbformat": 4,
  "nbformat_minor": 0,
  "metadata": {
    "colab": {
      "provenance": []
    },
    "kernelspec": {
      "name": "python3",
      "display_name": "Python 3"
    },
    "language_info": {
      "name": "python"
    }
  },
  "cells": [
    {
      "cell_type": "markdown",
      "source": [
        "Problem Statement:\n",
        "1. You have access to the salary information of several employees along with their Years of Experience. Using Linear regression analysis in machine learning, create a linear regression model can predict the salary of an employee based on the years of experience.\n",
        "\n",
        "2. House prices can be an ever changing trend, but it does change based on certain parameters. You are provided with housing data that has information on various houses and their prices. Use the data at hand to predict the prices of the house using linear regression in machine learning.\n",
        "\n",
        "\n",
        "Dataset Information:\n",
        "1. Data.csv - This dataset contains two columns with 30 entries each for employee years\n",
        "of experience and their salary.\n",
        "\n",
        "Column Name\n",
        "\n",
        "YearsExperience - The column contains 30 entries of the employee’s years of experience.\n",
        "Salary - The salary column contains 30 entries of their respective salary for their years of experience.\n",
        "\n",
        "2. Housing.csv - The dataset is considerably larger and contains the following columns in the data. The dataset contains more than 20,000 entries for information about the houses, prices and various other parameters.\n",
        "\n",
        "id - The id column contains a separate id for the houses in the data.\n",
        "\n",
        "date - The data contains the time series in which all the houses' respective dates have been mentioned.\n",
        "\n",
        "price - The price column lists the price of the house.\n",
        "\n",
        "bedrooms - The number of bedrooms in the house.\n",
        "\n",
        "bathrooms - The number of bathrooms in the house.\n",
        "\n",
        "sqft_living - The area of the living room.\n",
        "\n",
        "sqft_lot - The area of the lot.\n",
        "\n",
        "floors - Number of floors in the house.\n",
        "\n",
        "waterfront - If the house has a waterfront or not\n",
        "\n",
        "view - If the house has a viewfront or not.\n",
        "\n",
        "condition - Condition of the house represented in various categories.\n",
        "\n",
        "grade - The grade of the house in various categories.\n",
        "\n",
        "sqft_above - The area above.\n",
        "\n",
        "sqft_basement - The basement area.\n",
        "\n",
        "yr_built - In which year the house was built.\n",
        "\n",
        "yr_renovated - In which year the house was renovated.\n",
        "\n",
        "zipcode - The zipcode of the house.\n",
        "\n",
        "lat - The latitude information of the house.\n",
        "\n",
        "long - The longitude information of the house.\n",
        "\n",
        "sqft_lot15 - The average square footage of the 15 closest houses.\n",
        "\n",
        "Sqft_basement_15 - The average square footage of the 15 closest houses.\n",
        "\n",
        "Explore the datasets, and perform EDA on both the datasets before starting the following exercise."
      ],
      "metadata": {
        "id": "gtSXB2v7AooA"
      }
    },
    {
      "cell_type": "code",
      "execution_count": 1,
      "metadata": {
        "id": "h5WcCGz-9tSm"
      },
      "outputs": [],
      "source": [
        "import pandas as pd\n",
        "import numpy as np\n",
        "import matplotlib.pyplot as plt\n",
        "from sklearn.model_selection import train_test_split\n",
        "from sklearn.linear_model import LinearRegression\n",
        "from sklearn.metrics import mean_squared_error, r2_score"
      ]
    },
    {
      "cell_type": "code",
      "source": [
        "# Load the data\n",
        "data = pd.read_csv(\"data.csv\")"
      ],
      "metadata": {
        "id": "lyEKi_N8CM_L"
      },
      "execution_count": 3,
      "outputs": []
    },
    {
      "cell_type": "markdown",
      "source": [
        "# EDA - data exploration and preprocessing steps"
      ],
      "metadata": {
        "id": "pSI5cWANDoNb"
      }
    },
    {
      "cell_type": "code",
      "source": [
        "# Check first few rows of the dataset\n",
        "data.head()"
      ],
      "metadata": {
        "colab": {
          "base_uri": "https://localhost:8080/",
          "height": 206
        },
        "id": "b6sLvlu5DhlX",
        "outputId": "0a3acb57-6733-47a9-9af5-76d007795332"
      },
      "execution_count": 5,
      "outputs": [
        {
          "output_type": "execute_result",
          "data": {
            "text/plain": [
              "   YearsExperience   Salary\n",
              "0              1.1  39343.0\n",
              "1              1.3  46205.0\n",
              "2              1.5  37731.0\n",
              "3              2.0  43525.0\n",
              "4              2.2  39891.0"
            ],
            "text/html": [
              "\n",
              "  <div id=\"df-e13dae16-6bdf-45f8-91dc-ffb15489b064\" class=\"colab-df-container\">\n",
              "    <div>\n",
              "<style scoped>\n",
              "    .dataframe tbody tr th:only-of-type {\n",
              "        vertical-align: middle;\n",
              "    }\n",
              "\n",
              "    .dataframe tbody tr th {\n",
              "        vertical-align: top;\n",
              "    }\n",
              "\n",
              "    .dataframe thead th {\n",
              "        text-align: right;\n",
              "    }\n",
              "</style>\n",
              "<table border=\"1\" class=\"dataframe\">\n",
              "  <thead>\n",
              "    <tr style=\"text-align: right;\">\n",
              "      <th></th>\n",
              "      <th>YearsExperience</th>\n",
              "      <th>Salary</th>\n",
              "    </tr>\n",
              "  </thead>\n",
              "  <tbody>\n",
              "    <tr>\n",
              "      <th>0</th>\n",
              "      <td>1.1</td>\n",
              "      <td>39343.0</td>\n",
              "    </tr>\n",
              "    <tr>\n",
              "      <th>1</th>\n",
              "      <td>1.3</td>\n",
              "      <td>46205.0</td>\n",
              "    </tr>\n",
              "    <tr>\n",
              "      <th>2</th>\n",
              "      <td>1.5</td>\n",
              "      <td>37731.0</td>\n",
              "    </tr>\n",
              "    <tr>\n",
              "      <th>3</th>\n",
              "      <td>2.0</td>\n",
              "      <td>43525.0</td>\n",
              "    </tr>\n",
              "    <tr>\n",
              "      <th>4</th>\n",
              "      <td>2.2</td>\n",
              "      <td>39891.0</td>\n",
              "    </tr>\n",
              "  </tbody>\n",
              "</table>\n",
              "</div>\n",
              "    <div class=\"colab-df-buttons\">\n",
              "\n",
              "  <div class=\"colab-df-container\">\n",
              "    <button class=\"colab-df-convert\" onclick=\"convertToInteractive('df-e13dae16-6bdf-45f8-91dc-ffb15489b064')\"\n",
              "            title=\"Convert this dataframe to an interactive table.\"\n",
              "            style=\"display:none;\">\n",
              "\n",
              "  <svg xmlns=\"http://www.w3.org/2000/svg\" height=\"24px\" viewBox=\"0 -960 960 960\">\n",
              "    <path d=\"M120-120v-720h720v720H120Zm60-500h600v-160H180v160Zm220 220h160v-160H400v160Zm0 220h160v-160H400v160ZM180-400h160v-160H180v160Zm440 0h160v-160H620v160ZM180-180h160v-160H180v160Zm440 0h160v-160H620v160Z\"/>\n",
              "  </svg>\n",
              "    </button>\n",
              "\n",
              "  <style>\n",
              "    .colab-df-container {\n",
              "      display:flex;\n",
              "      gap: 12px;\n",
              "    }\n",
              "\n",
              "    .colab-df-convert {\n",
              "      background-color: #E8F0FE;\n",
              "      border: none;\n",
              "      border-radius: 50%;\n",
              "      cursor: pointer;\n",
              "      display: none;\n",
              "      fill: #1967D2;\n",
              "      height: 32px;\n",
              "      padding: 0 0 0 0;\n",
              "      width: 32px;\n",
              "    }\n",
              "\n",
              "    .colab-df-convert:hover {\n",
              "      background-color: #E2EBFA;\n",
              "      box-shadow: 0px 1px 2px rgba(60, 64, 67, 0.3), 0px 1px 3px 1px rgba(60, 64, 67, 0.15);\n",
              "      fill: #174EA6;\n",
              "    }\n",
              "\n",
              "    .colab-df-buttons div {\n",
              "      margin-bottom: 4px;\n",
              "    }\n",
              "\n",
              "    [theme=dark] .colab-df-convert {\n",
              "      background-color: #3B4455;\n",
              "      fill: #D2E3FC;\n",
              "    }\n",
              "\n",
              "    [theme=dark] .colab-df-convert:hover {\n",
              "      background-color: #434B5C;\n",
              "      box-shadow: 0px 1px 3px 1px rgba(0, 0, 0, 0.15);\n",
              "      filter: drop-shadow(0px 1px 2px rgba(0, 0, 0, 0.3));\n",
              "      fill: #FFFFFF;\n",
              "    }\n",
              "  </style>\n",
              "\n",
              "    <script>\n",
              "      const buttonEl =\n",
              "        document.querySelector('#df-e13dae16-6bdf-45f8-91dc-ffb15489b064 button.colab-df-convert');\n",
              "      buttonEl.style.display =\n",
              "        google.colab.kernel.accessAllowed ? 'block' : 'none';\n",
              "\n",
              "      async function convertToInteractive(key) {\n",
              "        const element = document.querySelector('#df-e13dae16-6bdf-45f8-91dc-ffb15489b064');\n",
              "        const dataTable =\n",
              "          await google.colab.kernel.invokeFunction('convertToInteractive',\n",
              "                                                    [key], {});\n",
              "        if (!dataTable) return;\n",
              "\n",
              "        const docLinkHtml = 'Like what you see? Visit the ' +\n",
              "          '<a target=\"_blank\" href=https://colab.research.google.com/notebooks/data_table.ipynb>data table notebook</a>'\n",
              "          + ' to learn more about interactive tables.';\n",
              "        element.innerHTML = '';\n",
              "        dataTable['output_type'] = 'display_data';\n",
              "        await google.colab.output.renderOutput(dataTable, element);\n",
              "        const docLink = document.createElement('div');\n",
              "        docLink.innerHTML = docLinkHtml;\n",
              "        element.appendChild(docLink);\n",
              "      }\n",
              "    </script>\n",
              "  </div>\n",
              "\n",
              "\n",
              "<div id=\"df-92058da6-6f90-4df1-9513-8e38f28de4a8\">\n",
              "  <button class=\"colab-df-quickchart\" onclick=\"quickchart('df-92058da6-6f90-4df1-9513-8e38f28de4a8')\"\n",
              "            title=\"Suggest charts.\"\n",
              "            style=\"display:none;\">\n",
              "\n",
              "<svg xmlns=\"http://www.w3.org/2000/svg\" height=\"24px\"viewBox=\"0 0 24 24\"\n",
              "     width=\"24px\">\n",
              "    <g>\n",
              "        <path d=\"M19 3H5c-1.1 0-2 .9-2 2v14c0 1.1.9 2 2 2h14c1.1 0 2-.9 2-2V5c0-1.1-.9-2-2-2zM9 17H7v-7h2v7zm4 0h-2V7h2v10zm4 0h-2v-4h2v4z\"/>\n",
              "    </g>\n",
              "</svg>\n",
              "  </button>\n",
              "\n",
              "<style>\n",
              "  .colab-df-quickchart {\n",
              "      --bg-color: #E8F0FE;\n",
              "      --fill-color: #1967D2;\n",
              "      --hover-bg-color: #E2EBFA;\n",
              "      --hover-fill-color: #174EA6;\n",
              "      --disabled-fill-color: #AAA;\n",
              "      --disabled-bg-color: #DDD;\n",
              "  }\n",
              "\n",
              "  [theme=dark] .colab-df-quickchart {\n",
              "      --bg-color: #3B4455;\n",
              "      --fill-color: #D2E3FC;\n",
              "      --hover-bg-color: #434B5C;\n",
              "      --hover-fill-color: #FFFFFF;\n",
              "      --disabled-bg-color: #3B4455;\n",
              "      --disabled-fill-color: #666;\n",
              "  }\n",
              "\n",
              "  .colab-df-quickchart {\n",
              "    background-color: var(--bg-color);\n",
              "    border: none;\n",
              "    border-radius: 50%;\n",
              "    cursor: pointer;\n",
              "    display: none;\n",
              "    fill: var(--fill-color);\n",
              "    height: 32px;\n",
              "    padding: 0;\n",
              "    width: 32px;\n",
              "  }\n",
              "\n",
              "  .colab-df-quickchart:hover {\n",
              "    background-color: var(--hover-bg-color);\n",
              "    box-shadow: 0 1px 2px rgba(60, 64, 67, 0.3), 0 1px 3px 1px rgba(60, 64, 67, 0.15);\n",
              "    fill: var(--button-hover-fill-color);\n",
              "  }\n",
              "\n",
              "  .colab-df-quickchart-complete:disabled,\n",
              "  .colab-df-quickchart-complete:disabled:hover {\n",
              "    background-color: var(--disabled-bg-color);\n",
              "    fill: var(--disabled-fill-color);\n",
              "    box-shadow: none;\n",
              "  }\n",
              "\n",
              "  .colab-df-spinner {\n",
              "    border: 2px solid var(--fill-color);\n",
              "    border-color: transparent;\n",
              "    border-bottom-color: var(--fill-color);\n",
              "    animation:\n",
              "      spin 1s steps(1) infinite;\n",
              "  }\n",
              "\n",
              "  @keyframes spin {\n",
              "    0% {\n",
              "      border-color: transparent;\n",
              "      border-bottom-color: var(--fill-color);\n",
              "      border-left-color: var(--fill-color);\n",
              "    }\n",
              "    20% {\n",
              "      border-color: transparent;\n",
              "      border-left-color: var(--fill-color);\n",
              "      border-top-color: var(--fill-color);\n",
              "    }\n",
              "    30% {\n",
              "      border-color: transparent;\n",
              "      border-left-color: var(--fill-color);\n",
              "      border-top-color: var(--fill-color);\n",
              "      border-right-color: var(--fill-color);\n",
              "    }\n",
              "    40% {\n",
              "      border-color: transparent;\n",
              "      border-right-color: var(--fill-color);\n",
              "      border-top-color: var(--fill-color);\n",
              "    }\n",
              "    60% {\n",
              "      border-color: transparent;\n",
              "      border-right-color: var(--fill-color);\n",
              "    }\n",
              "    80% {\n",
              "      border-color: transparent;\n",
              "      border-right-color: var(--fill-color);\n",
              "      border-bottom-color: var(--fill-color);\n",
              "    }\n",
              "    90% {\n",
              "      border-color: transparent;\n",
              "      border-bottom-color: var(--fill-color);\n",
              "    }\n",
              "  }\n",
              "</style>\n",
              "\n",
              "  <script>\n",
              "    async function quickchart(key) {\n",
              "      const quickchartButtonEl =\n",
              "        document.querySelector('#' + key + ' button');\n",
              "      quickchartButtonEl.disabled = true;  // To prevent multiple clicks.\n",
              "      quickchartButtonEl.classList.add('colab-df-spinner');\n",
              "      try {\n",
              "        const charts = await google.colab.kernel.invokeFunction(\n",
              "            'suggestCharts', [key], {});\n",
              "      } catch (error) {\n",
              "        console.error('Error during call to suggestCharts:', error);\n",
              "      }\n",
              "      quickchartButtonEl.classList.remove('colab-df-spinner');\n",
              "      quickchartButtonEl.classList.add('colab-df-quickchart-complete');\n",
              "    }\n",
              "    (() => {\n",
              "      let quickchartButtonEl =\n",
              "        document.querySelector('#df-92058da6-6f90-4df1-9513-8e38f28de4a8 button');\n",
              "      quickchartButtonEl.style.display =\n",
              "        google.colab.kernel.accessAllowed ? 'block' : 'none';\n",
              "    })();\n",
              "  </script>\n",
              "</div>\n",
              "    </div>\n",
              "  </div>\n"
            ]
          },
          "metadata": {},
          "execution_count": 5
        }
      ]
    },
    {
      "cell_type": "code",
      "source": [
        "# Check for missing values\n",
        "missing_values = data.isnull().sum()\n",
        "print(missing_values)\n"
      ],
      "metadata": {
        "colab": {
          "base_uri": "https://localhost:8080/"
        },
        "id": "uMeB9HOuDvfv",
        "outputId": "50f0ce56-29a9-41d7-eff7-61309ada2c05"
      },
      "execution_count": 6,
      "outputs": [
        {
          "output_type": "stream",
          "name": "stdout",
          "text": [
            "YearsExperience    0\n",
            "Salary             0\n",
            "dtype: int64\n"
          ]
        }
      ]
    },
    {
      "cell_type": "code",
      "source": [
        "# Calculate summary statistics\n",
        "summary_stats = data.describe()\n",
        "print(summary_stats)"
      ],
      "metadata": {
        "colab": {
          "base_uri": "https://localhost:8080/"
        },
        "id": "nDpV2BZTES9O",
        "outputId": "afbe0047-5443-45cf-8859-f6627c3beb45"
      },
      "execution_count": 7,
      "outputs": [
        {
          "output_type": "stream",
          "name": "stdout",
          "text": [
            "       YearsExperience         Salary\n",
            "count        30.000000      30.000000\n",
            "mean          5.313333   76003.000000\n",
            "std           2.837888   27414.429785\n",
            "min           1.100000   37731.000000\n",
            "25%           3.200000   56720.750000\n",
            "50%           4.700000   65237.000000\n",
            "75%           7.700000  100544.750000\n",
            "max          10.500000  122391.000000\n"
          ]
        }
      ]
    },
    {
      "cell_type": "code",
      "source": [
        "data.info()"
      ],
      "metadata": {
        "colab": {
          "base_uri": "https://localhost:8080/"
        },
        "id": "laIcB0IWEW-U",
        "outputId": "c8db3ec6-6939-45c8-a8c9-0813d1fe4121"
      },
      "execution_count": 8,
      "outputs": [
        {
          "output_type": "stream",
          "name": "stdout",
          "text": [
            "<class 'pandas.core.frame.DataFrame'>\n",
            "RangeIndex: 30 entries, 0 to 29\n",
            "Data columns (total 2 columns):\n",
            " #   Column           Non-Null Count  Dtype  \n",
            "---  ------           --------------  -----  \n",
            " 0   YearsExperience  30 non-null     float64\n",
            " 1   Salary           30 non-null     float64\n",
            "dtypes: float64(2)\n",
            "memory usage: 608.0 bytes\n"
          ]
        }
      ]
    },
    {
      "cell_type": "markdown",
      "source": [
        "**1.How many employees having more than 5 years experience are earning more than 60000?**"
      ],
      "metadata": {
        "id": "q3DrsaQxGEkR"
      }
    },
    {
      "cell_type": "code",
      "source": [
        "# Filter employees with more than 5 years of experience and earning more than 60000\n",
        "filtered_data = data[(data['YearsExperience'] > 5) & (data['Salary'] > 60000)]\n",
        "\n",
        "# Get the count of such employees\n",
        "result = filtered_data.shape[0]\n",
        "\n",
        "print(result)"
      ],
      "metadata": {
        "colab": {
          "base_uri": "https://localhost:8080/"
        },
        "id": "TDO4UzX7FXCj",
        "outputId": "907a6e18-f9a7-4969-93b6-fa2a17a305c8"
      },
      "execution_count": 9,
      "outputs": [
        {
          "output_type": "stream",
          "name": "stdout",
          "text": [
            "14\n"
          ]
        }
      ]
    },
    {
      "cell_type": "markdown",
      "source": [
        "**2.How many employees are earning between 50000-80000?**"
      ],
      "metadata": {
        "id": "9EpE-l60Gp_I"
      }
    },
    {
      "cell_type": "code",
      "source": [
        "# Filter employees earning between 50000 and 80000\n",
        "filtered_data = data[(data['Salary'] >= 50000) & (data['Salary'] <= 80000)]\n",
        "\n",
        "# Get the count of such employees\n",
        "result = filtered_data.shape[0]\n",
        "\n",
        "print(result)"
      ],
      "metadata": {
        "colab": {
          "base_uri": "https://localhost:8080/"
        },
        "id": "ubMmd4hGGjhm",
        "outputId": "ee30cfe8-c789-4cfd-d117-dfe9b53be684"
      },
      "execution_count": 10,
      "outputs": [
        {
          "output_type": "stream",
          "name": "stdout",
          "text": [
            "12\n"
          ]
        }
      ]
    },
    {
      "cell_type": "markdown",
      "source": [
        "**3.The scatter plot in the following image shows the relationship between the “YearsExperience” and “Salary” columns. What possible inferences can be drawn from the plot?**\n",
        "\n",
        "![Screenshot 2023-10-17 at 10.59.29.png](data:image/png;base64,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)"
      ],
      "metadata": {
        "id": "xVEIzTWTG7ny"
      }
    },
    {
      "cell_type": "markdown",
      "source": [
        "a. The plot shows a positive correlation between the ‘YearsExperience” and “Salary” column."
      ],
      "metadata": {
        "id": "NTYtd9iMHge5"
      }
    },
    {
      "cell_type": "markdown",
      "source": [
        "**4. The distribution plot of the column “YearsExperience” is shown in the image below, what possible inferences can be drawn from the plot.**\n",
        "\n",
        "![Screenshot 2023-10-17 at 11.01.58.png](data:image/png;base64,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)"
      ],
      "metadata": {
        "id": "FB1ftduOHkrK"
      }
    },
    {
      "cell_type": "markdown",
      "source": [
        "b. “YearsExperience” data is positively skewed."
      ],
      "metadata": {
        "id": "jd5-0hx3IpH8"
      }
    },
    {
      "cell_type": "markdown",
      "source": [
        "**5. What all inferences can be drawn from the table shown below:**\n",
        "\n",
        "\n",
        "![Screenshot 2023-10-17 at 11.06.52.png](data:image/png;base64,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)"
      ],
      "metadata": {
        "id": "l2hI0We1Is2U"
      }
    },
    {
      "cell_type": "code",
      "source": [
        "# Calculate the range for 'YearsExperience'\n",
        "years_experience_range = data['YearsExperience'].max() - data['YearsExperience'].min()\n",
        "\n",
        "# Calculate the range for 'Salary'\n",
        "salary_range = data['Salary'].max() - data['Salary'].min()\n",
        "\n",
        "print(\"Range of 'YearsExperience':\", years_experience_range)\n",
        "print(\"Range of 'Salary':\", salary_range)"
      ],
      "metadata": {
        "colab": {
          "base_uri": "https://localhost:8080/"
        },
        "id": "A4IKoR-zGyRV",
        "outputId": "b3bb2a30-fc6e-4fdf-b9a7-682e656fa7ab"
      },
      "execution_count": 12,
      "outputs": [
        {
          "output_type": "stream",
          "name": "stdout",
          "text": [
            "Range of 'YearsExperience': 9.4\n",
            "Range of 'Salary': 84660.0\n"
          ]
        }
      ]
    },
    {
      "cell_type": "markdown",
      "source": [
        "a. The range of the “YearsExperience” and “Salary” data is (9.4 , 84660 )\n",
        "\n"
      ],
      "metadata": {
        "id": "EnCHmocIKB7f"
      }
    },
    {
      "cell_type": "markdown",
      "source": [
        "**6. To split the dataset into training and testing data, if we use the following code. X = data['YearsExperience']\n",
        "y = data['Salary']\n",
        "X_train, X_test, y_train, y_test = train_test_split(X, y, test_size=0.2,\n",
        "random_state=0)      What does it mean when we write the test size as 0.2?**"
      ],
      "metadata": {
        "id": "YnZRFSTdMp68"
      }
    },
    {
      "cell_type": "markdown",
      "source": [
        "d. The training data will consist of 80% of the samples from the total population."
      ],
      "metadata": {
        "id": "vQedXyvHM8rA"
      }
    },
    {
      "cell_type": "markdown",
      "source": [
        "**7. In the above example code, we have taken the random state as 0, if we change the random state as 42, what does it mean for our training and testing data?**"
      ],
      "metadata": {
        "id": "mDm_FjBSNRZa"
      }
    },
    {
      "cell_type": "markdown",
      "source": [
        "c. The random state does not have any effect on the shape of the data."
      ],
      "metadata": {
        "id": "nLyt9D7NNbJm"
      }
    },
    {
      "cell_type": "markdown",
      "source": [
        "**8. If the r2 score calculated in the above example is 0.98 , change the sample size of the training and testing set in the ratio 60:40, and build a linear regression model again. After plotting the best fit line on the test data, calculate the r2_score for the new model.**"
      ],
      "metadata": {
        "id": "4hXNmBnUNeT8"
      }
    },
    {
      "cell_type": "code",
      "source": [
        "# Split the data into training (60%) and testing (40%) sets\n",
        "X = data[['YearsExperience']]\n",
        "y = data['Salary']\n",
        "X_train, X_test, y_train, y_test = train_test_split(X, y, test_size=0.4, random_state=0)\n",
        "\n",
        "# Create a linear regression model\n",
        "model = LinearRegression()\n",
        "\n",
        "# Fit the model on the training data\n",
        "model.fit(X_train, y_train)\n",
        "\n",
        "# Make predictions on the test data\n",
        "y_pred = model.predict(X_test)\n",
        "\n",
        "# Calculate the r2_score for the new model\n",
        "r2 = r2_score(y_test, y_pred)\n",
        "\n",
        "print(\"R-squared (r2) score:\", r2)"
      ],
      "metadata": {
        "colab": {
          "base_uri": "https://localhost:8080/"
        },
        "id": "HljeF0WsNPg5",
        "outputId": "25ff1f4c-d134-4a3d-cb4f-86af68efc49d"
      },
      "execution_count": 15,
      "outputs": [
        {
          "output_type": "stream",
          "name": "stdout",
          "text": [
            "R-squared (r2) score: 0.9679117063698979\n"
          ]
        }
      ]
    },
    {
      "cell_type": "markdown",
      "source": [
        "b. 0.96"
      ],
      "metadata": {
        "id": "fLnoz09AOPw2"
      }
    },
    {
      "cell_type": "markdown",
      "source": [
        "**9. If while fitting the model with training and testing data, you get the following error ValueError: Expected 2D array, got 1D array instead: What could be the issue with the data, and how can you solve it?**"
      ],
      "metadata": {
        "id": "UN5cpwHPOWYB"
      }
    },
    {
      "cell_type": "markdown",
      "source": [
        "a. Reshape the data to a two-dimensional array"
      ],
      "metadata": {
        "id": "b9mOA3xjOqPf"
      }
    },
    {
      "cell_type": "markdown",
      "source": [
        "### **HOUSING**"
      ],
      "metadata": {
        "id": "r-t0j5umP6dF"
      }
    },
    {
      "cell_type": "markdown",
      "source": [
        "**10. How many houses have a waterfront?**"
      ],
      "metadata": {
        "id": "JRSWqsaaQHME"
      }
    },
    {
      "cell_type": "code",
      "source": [
        "# Load the 'Housing' dataset\n",
        "housing_data = pd.read_csv('housing.csv')\n",
        "\n",
        "# Count the number of houses with waterfront\n",
        "num_waterfront_houses = housing_data[housing_data['waterfront'] == 1].shape[0]\n",
        "\n",
        "print(\"Number of houses with waterfront:\", num_waterfront_houses)\n"
      ],
      "metadata": {
        "colab": {
          "base_uri": "https://localhost:8080/"
        },
        "id": "nooMawY-N_jA",
        "outputId": "3e495aa8-6a1f-4918-b6d9-c61f83c2655c"
      },
      "execution_count": 17,
      "outputs": [
        {
          "output_type": "stream",
          "name": "stdout",
          "text": [
            "Number of houses with waterfront: 163\n"
          ]
        }
      ]
    },
    {
      "cell_type": "markdown",
      "source": [
        "**11. How many houses have 2 floors?**"
      ],
      "metadata": {
        "id": "93vYhfVEQKee"
      }
    },
    {
      "cell_type": "code",
      "source": [
        "# Count the number of houses with 2 floors\n",
        "num_houses_with_2_floors = housing_data[housing_data['floors'] == 2].shape[0]\n",
        "\n",
        "print(\"Number of houses with 2 floors:\", num_houses_with_2_floors)"
      ],
      "metadata": {
        "colab": {
          "base_uri": "https://localhost:8080/"
        },
        "id": "2FIM1sNdP2C6",
        "outputId": "518eb86d-ddb1-4e1b-8f0c-7892ed6541ab"
      },
      "execution_count": 18,
      "outputs": [
        {
          "output_type": "stream",
          "name": "stdout",
          "text": [
            "Number of houses with 2 floors: 8241\n"
          ]
        }
      ]
    },
    {
      "cell_type": "markdown",
      "source": [
        "**12. How many houses built before 1960 have a waterfront?**"
      ],
      "metadata": {
        "id": "7RKsAN4AQXVT"
      }
    },
    {
      "cell_type": "code",
      "source": [
        "# Filter houses built before 1960\n",
        "houses_built_before_1960 = housing_data[housing_data['yr_built'] < 1960]\n",
        "\n",
        "# Count the number of houses with a waterfront among those built before 1960\n",
        "num_waterfront_houses_built_before_1960 = houses_built_before_1960[houses_built_before_1960['waterfront'] == 1].shape[0]\n",
        "\n",
        "print(\"Number of houses built before 1960 with a waterfront:\", num_waterfront_houses_built_before_1960)"
      ],
      "metadata": {
        "colab": {
          "base_uri": "https://localhost:8080/"
        },
        "id": "rSvvsi-sQQAC",
        "outputId": "c8a4263b-4694-4971-aa5a-4a8c9c535a49"
      },
      "execution_count": 19,
      "outputs": [
        {
          "output_type": "stream",
          "name": "stdout",
          "text": [
            "Number of houses built before 1960 with a waterfront: 80\n"
          ]
        }
      ]
    },
    {
      "cell_type": "markdown",
      "source": [
        "**13. What is the price of the most expensive house having more than 4 bathrooms?**"
      ],
      "metadata": {
        "id": "tWLQRL7PQmYd"
      }
    },
    {
      "cell_type": "code",
      "source": [
        "# Filter houses with more than 4 bathrooms\n",
        "houses_with_more_than_4_bathrooms = housing_data[housing_data['bathrooms'] > 4]\n",
        "\n",
        "# Find the price of the most expensive house among these\n",
        "most_expensive_house_price = houses_with_more_than_4_bathrooms['price'].max()\n",
        "\n",
        "print(\"Price of the most expensive house with more than 4 bathrooms:\", most_expensive_house_price)"
      ],
      "metadata": {
        "colab": {
          "base_uri": "https://localhost:8080/"
        },
        "id": "6Ou2oU9MQlBz",
        "outputId": "57ff5349-9f69-4e74-f037-8665b5eae881"
      },
      "execution_count": 21,
      "outputs": [
        {
          "output_type": "stream",
          "name": "stdout",
          "text": [
            "Price of the most expensive house with more than 4 bathrooms: 7700000\n"
          ]
        }
      ]
    },
    {
      "cell_type": "markdown",
      "source": [
        "**14. The image shown below shows the boxplot of the price column from the housing dataset. What inferences can you make from the plot?**\n",
        "\n",
        "![Screenshot 2023-10-17 at 11.42.04.png](data:image/png;base64,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)"
      ],
      "metadata": {
        "id": "ab1mcP4bQw29"
      }
    },
    {
      "cell_type": "markdown",
      "source": [
        "c. There is a presence of outliers in the price data."
      ],
      "metadata": {
        "id": "b_ZPg3wFQ7vI"
      }
    },
    {
      "cell_type": "markdown",
      "source": [
        "**15. For instance, if the ‘price’ column consists of outliers, how can you make the data clean and remove the redundancies?**"
      ],
      "metadata": {
        "id": "c6HFveKhRI7f"
      }
    },
    {
      "cell_type": "markdown",
      "source": [
        "a. Calculate the IQR range and drop the values outside the range."
      ],
      "metadata": {
        "id": "CD13iIfTRPlK"
      }
    },
    {
      "cell_type": "markdown",
      "source": [
        "**16. What are the various parameters that can be used to determine the dependent variables in the housing data to determine the price of the house?**"
      ],
      "metadata": {
        "id": "k_8_EiKnRTxy"
      }
    },
    {
      "cell_type": "markdown",
      "source": [
        "a. Correlation coefficients"
      ],
      "metadata": {
        "id": "A_J0AkPnRiBT"
      }
    },
    {
      "cell_type": "markdown",
      "source": [
        "**17. If we get the r2 score as 0.38, what inferences can we make about the model and its efficiency?**"
      ],
      "metadata": {
        "id": "ioAPzv5zRknc"
      }
    },
    {
      "cell_type": "markdown",
      "source": [
        "c. Low difference between observed and fitted values."
      ],
      "metadata": {
        "id": "KfgcRNH6R50t"
      }
    },
    {
      "cell_type": "markdown",
      "source": [
        "**18. If the metrics show that the p-value for the grade column is 0.092, what all inferences can we make about the grade column?**"
      ],
      "metadata": {
        "id": "TpP6DLhKR8M0"
      }
    },
    {
      "cell_type": "markdown",
      "source": [
        "c. insignificance in presence of other variables"
      ],
      "metadata": {
        "id": "zJLryVUvSL0R"
      }
    },
    {
      "cell_type": "markdown",
      "source": [
        "**19. If the Variance Inflation Factor value for a feature is considerably higher than the other features, what can we say about that column/feature?**"
      ],
      "metadata": {
        "id": "ZThpEzrkSOS0"
      }
    },
    {
      "cell_type": "markdown",
      "source": [
        "a. High multicollinearity"
      ],
      "metadata": {
        "id": "kuurK0r_SYfn"
      }
    }
  ]
}