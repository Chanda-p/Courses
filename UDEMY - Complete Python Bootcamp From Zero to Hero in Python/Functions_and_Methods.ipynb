{
  "cells": [
    {
      "cell_type": "markdown",
      "metadata": {
        "id": "Mk65qg0p1inw"
      },
      "source": [
        "# Functions and Methods \n",
        "____\n",
        "**Write a function that computes the volume of a sphere given its radius.**"
      ]
    },
    {
      "cell_type": "code",
      "execution_count": null,
      "metadata": {
        "collapsed": true,
        "id": "xRC1d3uR1inx"
      },
      "outputs": [],
      "source": [
        "def vol(rad):\n",
        "    return (4/3)*(3.14)*(rad**3)"
      ]
    },
    {
      "cell_type": "code",
      "execution_count": null,
      "metadata": {
        "id": "GJDCqATJ1inz",
        "outputId": "84432ae8-bfa2-42ec-b77c-91f1c9281806"
      },
      "outputs": [
        {
          "data": {
            "text/plain": [
              "33.49333333333333"
            ]
          },
          "execution_count": 2,
          "metadata": {},
          "output_type": "execute_result"
        }
      ],
      "source": [
        "# Check\n",
        "vol(2)"
      ]
    },
    {
      "cell_type": "markdown",
      "metadata": {
        "id": "-N5SLUP31in0"
      },
      "source": [
        "___\n",
        "**Write a function that checks whether a number is in a given range (inclusive of high and low)**"
      ]
    },
    {
      "cell_type": "code",
      "execution_count": null,
      "metadata": {
        "collapsed": true,
        "id": "mWE7PWPv1in1"
      },
      "outputs": [],
      "source": [
        "def ran_check(num,low,high):\n",
        "    #Check if num is between low and high (including low and high)\n",
        "    if num in range(low,high+1):\n",
        "        print('{} is in the range between {} and {}'.format(num,low,high))\n",
        "    else:\n",
        "        print('The number is outside the range.')"
      ]
    },
    {
      "cell_type": "code",
      "execution_count": null,
      "metadata": {
        "id": "L6ptBpfU1in1",
        "outputId": "6d6a195a-a72a-4265-ad39-f0222092612b"
      },
      "outputs": [
        {
          "name": "stdout",
          "output_type": "stream",
          "text": [
            "5 is in the range between 2 and 7\n"
          ]
        }
      ],
      "source": [
        "# Check\n",
        "ran_check(5,2,7)"
      ]
    },
    {
      "cell_type": "markdown",
      "metadata": {
        "id": "wwCJMPwk1in2"
      },
      "source": [
        "To return a boolean:"
      ]
    },
    {
      "cell_type": "code",
      "execution_count": null,
      "metadata": {
        "collapsed": true,
        "id": "NVmDcz6s1in2"
      },
      "outputs": [],
      "source": [
        "def ran_bool(num,low,high):\n",
        "    return num in range(low,high+1)"
      ]
    },
    {
      "cell_type": "code",
      "execution_count": null,
      "metadata": {
        "id": "3_aSp-T41in3",
        "outputId": "058dc389-53fc-451e-b634-a0df1a3a4c5b"
      },
      "outputs": [
        {
          "data": {
            "text/plain": [
              "True"
            ]
          },
          "execution_count": 6,
          "metadata": {},
          "output_type": "execute_result"
        }
      ],
      "source": [
        "ran_bool(3,1,10)"
      ]
    },
    {
      "cell_type": "markdown",
      "metadata": {
        "id": "wZXoHysJ1in3"
      },
      "source": [
        "____\n",
        "**Write a Python function that accepts a string and calculates the number of upper case letters and lower case letters.**\n",
        "\n",
        "    Sample String : 'Hello Mr. Rogers, how are you this fine Tuesday?'\n",
        "    Expected Output : \n",
        "    No. of Upper case characters : 4\n",
        "    No. of Lower case Characters : 33\n",
        "\n"
      ]
    },
    {
      "cell_type": "code",
      "execution_count": null,
      "metadata": {
        "collapsed": true,
        "id": "2OGTavPc1in3"
      },
      "outputs": [],
      "source": [
        "def up_low(s):\n",
        "    d={\"upper\":0, \"lower\":0}\n",
        "    for c in s:\n",
        "        if c.isupper():\n",
        "            d[\"upper\"]+=1\n",
        "        elif c.islower():\n",
        "            d[\"lower\"]+=1\n",
        "        else:\n",
        "            pass\n",
        "    print(\"Original String : \", s)\n",
        "    print(\"No. of Upper case characters : \", d[\"upper\"])\n",
        "    print(\"No. of Lower case Characters : \", d[\"lower\"])"
      ]
    },
    {
      "cell_type": "code",
      "execution_count": null,
      "metadata": {
        "id": "gFdEjgjK1in4",
        "outputId": "496fbfcc-5971-4c4f-a47c-5a051adad76a"
      },
      "outputs": [
        {
          "name": "stdout",
          "output_type": "stream",
          "text": [
            "Original String :  Hello Mr. Rogers, how are you this fine Tuesday?\n",
            "No. of Upper case characters :  4\n",
            "No. of Lower case Characters :  33\n"
          ]
        }
      ],
      "source": [
        "s = 'Hello Mr. Rogers, how are you this fine Tuesday?'\n",
        "up_low(s)"
      ]
    },
    {
      "cell_type": "markdown",
      "metadata": {
        "id": "0sD73aIq1in5"
      },
      "source": [
        "____\n",
        "**Write a Python function that takes a list and returns a new list with unique elements of the first list.**\n",
        "\n",
        "    Sample List : [1,1,1,1,2,2,3,3,3,3,4,5]\n",
        "    Unique List : [1, 2, 3, 4, 5]"
      ]
    },
    {
      "cell_type": "code",
      "execution_count": null,
      "metadata": {
        "collapsed": true,
        "id": "lTaPl_DK1in6"
      },
      "outputs": [],
      "source": [
        "def unique_list(lst):\n",
        "    # Also possible to use list(set())\n",
        "    x = []\n",
        "    for a in lst:\n",
        "        if a not in x:\n",
        "            x.append(a)\n",
        "    return x"
      ]
    },
    {
      "cell_type": "code",
      "execution_count": null,
      "metadata": {
        "id": "oT1sYB3b1in6",
        "outputId": "6cdb317a-0090-45d6-8442-8a2cc47104b9"
      },
      "outputs": [
        {
          "data": {
            "text/plain": [
              "[1, 2, 3, 4, 5]"
            ]
          },
          "execution_count": 10,
          "metadata": {},
          "output_type": "execute_result"
        }
      ],
      "source": [
        "unique_list([1,1,1,1,2,2,3,3,3,3,4,5])"
      ]
    },
    {
      "cell_type": "markdown",
      "metadata": {
        "id": "n_OGK45y1in6"
      },
      "source": [
        "____\n",
        "**Write a Python function to multiply all the numbers in a list.**\n",
        "\n",
        "    Sample List : [1, 2, 3, -4]\n",
        "    Expected Output : -24"
      ]
    },
    {
      "cell_type": "code",
      "execution_count": null,
      "metadata": {
        "collapsed": true,
        "id": "xfVJiM0D1in7"
      },
      "outputs": [],
      "source": [
        "def multiply(numbers):\n",
        "    total = 1\n",
        "    for x in numbers:\n",
        "        total *= x\n",
        "    return total"
      ]
    },
    {
      "cell_type": "code",
      "execution_count": null,
      "metadata": {
        "id": "8Cx2o62d1in7",
        "outputId": "a9bd24b6-9613-42e8-f908-08c191f5d5be"
      },
      "outputs": [
        {
          "data": {
            "text/plain": [
              "-24"
            ]
          },
          "execution_count": 12,
          "metadata": {},
          "output_type": "execute_result"
        }
      ],
      "source": [
        "multiply([1,2,3,-4])"
      ]
    },
    {
      "cell_type": "markdown",
      "metadata": {
        "id": "55q4pI631in8"
      },
      "source": [
        "____\n",
        "**Write a Python function that checks whether a word or phrase is palindrome or not.**\n",
        "\n",
        "Note: A palindrome is word, phrase, or sequence that reads the same backward as forward, e.g., madam,kayak,racecar, or a phrase \"nurses run\". Hint: You may want to check out the .replace() method in a string to help out with dealing with spaces. Also google search how to reverse a string in Python, there are some clever ways to do it with slicing notation."
      ]
    },
    {
      "cell_type": "code",
      "execution_count": null,
      "metadata": {
        "collapsed": true,
        "id": "Ofz4-of31in8"
      },
      "outputs": [],
      "source": [
        "def palindrome(s):\n",
        "    \n",
        "    s = s.replace(' ','') # This replaces all spaces ' ' with no space ''. (Fixes issues with strings that have spaces)\n",
        "    return s == s[::-1]   # Check through slicing"
      ]
    },
    {
      "cell_type": "code",
      "execution_count": null,
      "metadata": {
        "id": "s1-fG7l31in8",
        "outputId": "c6646d25-cdde-4f62-ae7c-eaf9d506964f"
      },
      "outputs": [
        {
          "data": {
            "text/plain": [
              "True"
            ]
          },
          "execution_count": 14,
          "metadata": {},
          "output_type": "execute_result"
        }
      ],
      "source": [
        "palindrome('nurses run')"
      ]
    },
    {
      "cell_type": "code",
      "execution_count": null,
      "metadata": {
        "id": "vONp8fMb1in8",
        "outputId": "d90b5250-5eb2-404a-9056-2e39829b19f8"
      },
      "outputs": [
        {
          "data": {
            "text/plain": [
              "True"
            ]
          },
          "execution_count": 15,
          "metadata": {},
          "output_type": "execute_result"
        }
      ],
      "source": [
        "palindrome('abcba')"
      ]
    },
    {
      "cell_type": "markdown",
      "metadata": {
        "id": "TBHREDyr1in9"
      },
      "source": [
        "____\n",
        "#### Hard:\n",
        "\n",
        "**Write a Python function to check whether a string is pangram or not. (Assume the string passed in does not have any punctuation)**\n",
        "\n",
        "    Note : Pangrams are words or sentences containing every letter of the alphabet at least once.\n",
        "    For example : \"The quick brown fox jumps over the lazy dog\"\n",
        "\n",
        "Hint: You may want to use .replace() method to get rid of spaces.\n",
        "\n",
        "Hint: Look at the [string module](https://stackoverflow.com/questions/16060899/alphabet-range-in-python)\n",
        "\n",
        "Hint: In case you want to use [set comparisons](https://medium.com/better-programming/a-visual-guide-to-set-comparisons-in-python-6ab7edb9ec41)"
      ]
    },
    {
      "cell_type": "code",
      "execution_count": null,
      "metadata": {
        "collapsed": true,
        "id": "nA6fARd41in9"
      },
      "outputs": [],
      "source": [
        "import string\n",
        "\n",
        "def ispangram(str1, alphabet=string.ascii_lowercase): \n",
        "    # Create a set of the alphabet\n",
        "    alphaset = set(alphabet)  \n",
        "    \n",
        "    # Remove spaces from str1\n",
        "    str1 = str1.replace(\" \",'')\n",
        "    \n",
        "    # Lowercase all strings in the passed in string\n",
        "    # Recall we assume no punctuation \n",
        "    str1 = str1.lower()\n",
        "    \n",
        "    # Grab all unique letters in the string as a set\n",
        "    str1 = set(str1)\n",
        "    \n",
        "    # Now check that the alpahbet set is same as string set\n",
        "    return str1 == alphaset"
      ]
    },
    {
      "cell_type": "code",
      "execution_count": null,
      "metadata": {
        "id": "-E5l07Ik1in9",
        "outputId": "0eb4a80d-a527-4b3f-c61f-380bc603c5a8"
      },
      "outputs": [
        {
          "data": {
            "text/plain": [
              "True"
            ]
          },
          "execution_count": 8,
          "metadata": {},
          "output_type": "execute_result"
        }
      ],
      "source": [
        "ispangram(\"The quick brown fox jumps over the lazy dog\")"
      ]
    },
    {
      "cell_type": "code",
      "execution_count": null,
      "metadata": {
        "id": "j_81jstb1in-",
        "outputId": "b1781ed6-b2b8-4783-8c97-4f4957be98ca"
      },
      "outputs": [
        {
          "data": {
            "text/plain": [
              "'abcdefghijklmnopqrstuvwxyz'"
            ]
          },
          "execution_count": 18,
          "metadata": {},
          "output_type": "execute_result"
        }
      ],
      "source": [
        "string.ascii_lowercase"
      ]
    }
  ],
  "metadata": {
    "kernelspec": {
      "display_name": "Python 3",
      "language": "python",
      "name": "python3"
    },
    "language_info": {
      "codemirror_mode": {
        "name": "ipython",
        "version": 3
      },
      "file_extension": ".py",
      "mimetype": "text/x-python",
      "name": "python",
      "nbconvert_exporter": "python",
      "pygments_lexer": "ipython3",
      "version": "3.6.6"
    },
    "colab": {
      "provenance": []
    }
  },
  "nbformat": 4,
  "nbformat_minor": 0
}