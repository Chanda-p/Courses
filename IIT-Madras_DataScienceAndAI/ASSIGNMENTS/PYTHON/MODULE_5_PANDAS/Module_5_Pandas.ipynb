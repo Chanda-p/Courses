{
  "nbformat": 4,
  "nbformat_minor": 0,
  "metadata": {
    "colab": {
      "provenance": []
    },
    "kernelspec": {
      "name": "python3",
      "display_name": "Python 3"
    },
    "language_info": {
      "name": "python"
    }
  },
  "cells": [
    {
      "cell_type": "markdown",
      "source": [
        "##ASSIGNMENT 1"
      ],
      "metadata": {
        "id": "CMCF2yLXKboF"
      }
    },
    {
      "cell_type": "markdown",
      "source": [
        "***1. Start off by importing the customer_churn.csv file in the jupyter notebook and store that in churn data frame***"
      ],
      "metadata": {
        "id": "yHhBu6thKWHU"
      }
    },
    {
      "cell_type": "code",
      "source": [
        "import pandas as pd\n",
        "\n",
        "churn_data = pd.read_csv(\"customer_churn-1.csv\")"
      ],
      "metadata": {
        "id": "vo8-zHjmK9kQ"
      },
      "execution_count": 43,
      "outputs": []
    },
    {
      "cell_type": "markdown",
      "source": [
        "**2. From the churn data frame, select only 3rd, 7th, 9th, and 20th columns and all the rows and store that in new data frame named newCols.**"
      ],
      "metadata": {
        "id": "7WXe40WnK4Q2"
      }
    },
    {
      "cell_type": "code",
      "source": [
        "newCols = churn_data.iloc[:, [2, 6, 8, 19]]"
      ],
      "metadata": {
        "id": "EgEGWY6EKxhu"
      },
      "execution_count": 44,
      "outputs": []
    },
    {
      "cell_type": "markdown",
      "source": [
        "**3. From the original data frame, select only the rows from 200th index till 1000th index(inclusive) column.**"
      ],
      "metadata": {
        "id": "PxPu9yQDLKhb"
      }
    },
    {
      "cell_type": "code",
      "source": [
        "newRows = churn_data.iloc[199:1001, :]"
      ],
      "metadata": {
        "id": "p2RvK-VQLQpN"
      },
      "execution_count": 45,
      "outputs": []
    },
    {
      "cell_type": "markdown",
      "source": [
        "**4. Now select the rows from 20th index till 200th index(exclusive),and columns from 2nd index till 15th index value.**"
      ],
      "metadata": {
        "id": "7RsfeVwkLZsx"
      }
    },
    {
      "cell_type": "code",
      "source": [
        "newRowsCols = churn_data.iloc[20:200, 2:15]"
      ],
      "metadata": {
        "id": "3UMPL4qZMH-5"
      },
      "execution_count": 46,
      "outputs": []
    },
    {
      "cell_type": "markdown",
      "source": [
        "**5. Display the top 100 records from the original data frame.**"
      ],
      "metadata": {
        "id": "e-VN2D7RMK5V"
      }
    },
    {
      "cell_type": "code",
      "source": [
        "churn_data.head(100)"
      ],
      "metadata": {
        "colab": {
          "base_uri": "https://localhost:8080/",
          "height": 661
        },
        "id": "pBcrBt9GMOU3",
        "outputId": "25e04455-56d0-46ae-b27d-a0ebe4a6e26e"
      },
      "execution_count": 47,
      "outputs": [
        {
          "output_type": "execute_result",
          "data": {
            "text/plain": [
              "    customerID  gender  SeniorCitizen Partner Dependents  tenure PhoneService  \\\n",
              "0   7590-VHVEG  Female              0     Yes         No       1           No   \n",
              "1   5575-GNVDE    Male              0      No         No      34          Yes   \n",
              "2   3668-QPYBK    Male              0      No         No       2          Yes   \n",
              "3   7795-CFOCW    Male              0      No         No      45           No   \n",
              "4   9237-HQITU  Female              0      No         No       2          Yes   \n",
              "..         ...     ...            ...     ...        ...     ...          ...   \n",
              "95  8637-XJIVR  Female              0      No         No      12          Yes   \n",
              "96  9803-FTJCG    Male              0     Yes        Yes      71          Yes   \n",
              "97  0278-YXOOG    Male              0      No         No       5          Yes   \n",
              "98  3212-KXOCR    Male              0      No         No      52          Yes   \n",
              "99  4598-XLKNJ  Female              1     Yes         No      25          Yes   \n",
              "\n",
              "       MultipleLines InternetService       OnlineSecurity  ...  \\\n",
              "0   No phone service             DSL                   No  ...   \n",
              "1                 No             DSL                  Yes  ...   \n",
              "2                 No             DSL                  Yes  ...   \n",
              "3   No phone service             DSL                  Yes  ...   \n",
              "4                 No     Fiber optic                   No  ...   \n",
              "..               ...             ...                  ...  ...   \n",
              "95               Yes     Fiber optic                  Yes  ...   \n",
              "96               Yes             DSL                  Yes  ...   \n",
              "97                No              No  No internet service  ...   \n",
              "98                No              No  No internet service  ...   \n",
              "99                No     Fiber optic                   No  ...   \n",
              "\n",
              "       DeviceProtection          TechSupport          StreamingTV  \\\n",
              "0                    No                   No                   No   \n",
              "1                   Yes                   No                   No   \n",
              "2                    No                   No                   No   \n",
              "3                   Yes                  Yes                   No   \n",
              "4                    No                   No                   No   \n",
              "..                  ...                  ...                  ...   \n",
              "95                   No                   No                   No   \n",
              "96                   No                  Yes                   No   \n",
              "97  No internet service  No internet service  No internet service   \n",
              "98  No internet service  No internet service  No internet service   \n",
              "99                  Yes                   No                  Yes   \n",
              "\n",
              "        StreamingMovies        Contract PaperlessBilling  \\\n",
              "0                    No  Month-to-month              Yes   \n",
              "1                    No        One year               No   \n",
              "2                    No  Month-to-month              Yes   \n",
              "3                    No        One year               No   \n",
              "4                    No  Month-to-month              Yes   \n",
              "..                  ...             ...              ...   \n",
              "95                   No  Month-to-month              Yes   \n",
              "96                   No        One year              Yes   \n",
              "97  No internet service  Month-to-month               No   \n",
              "98  No internet service        Two year               No   \n",
              "99                  Yes  Month-to-month              Yes   \n",
              "\n",
              "                PaymentMethod MonthlyCharges  TotalCharges Churn  \n",
              "0            Electronic check          29.85         29.85    No  \n",
              "1                Mailed check          56.95        1889.5    No  \n",
              "2                Mailed check          53.85        108.15   Yes  \n",
              "3   Bank transfer (automatic)          42.30       1840.75    No  \n",
              "4            Electronic check          70.70        151.65   Yes  \n",
              "..                        ...            ...           ...   ...  \n",
              "95           Electronic check          78.95        927.35   Yes  \n",
              "96    Credit card (automatic)          66.85        4748.7    No  \n",
              "97               Mailed check          21.05        113.85   Yes  \n",
              "98  Bank transfer (automatic)          21.00        1107.2    No  \n",
              "99           Electronic check          98.50        2514.5   Yes  \n",
              "\n",
              "[100 rows x 21 columns]"
            ],
            "text/html": [
              "\n",
              "  <div id=\"df-aa431450-5ef5-411b-af4c-d155742c29fc\">\n",
              "    <div class=\"colab-df-container\">\n",
              "      <div>\n",
              "<style scoped>\n",
              "    .dataframe tbody tr th:only-of-type {\n",
              "        vertical-align: middle;\n",
              "    }\n",
              "\n",
              "    .dataframe tbody tr th {\n",
              "        vertical-align: top;\n",
              "    }\n",
              "\n",
              "    .dataframe thead th {\n",
              "        text-align: right;\n",
              "    }\n",
              "</style>\n",
              "<table border=\"1\" class=\"dataframe\">\n",
              "  <thead>\n",
              "    <tr style=\"text-align: right;\">\n",
              "      <th></th>\n",
              "      <th>customerID</th>\n",
              "      <th>gender</th>\n",
              "      <th>SeniorCitizen</th>\n",
              "      <th>Partner</th>\n",
              "      <th>Dependents</th>\n",
              "      <th>tenure</th>\n",
              "      <th>PhoneService</th>\n",
              "      <th>MultipleLines</th>\n",
              "      <th>InternetService</th>\n",
              "      <th>OnlineSecurity</th>\n",
              "      <th>...</th>\n",
              "      <th>DeviceProtection</th>\n",
              "      <th>TechSupport</th>\n",
              "      <th>StreamingTV</th>\n",
              "      <th>StreamingMovies</th>\n",
              "      <th>Contract</th>\n",
              "      <th>PaperlessBilling</th>\n",
              "      <th>PaymentMethod</th>\n",
              "      <th>MonthlyCharges</th>\n",
              "      <th>TotalCharges</th>\n",
              "      <th>Churn</th>\n",
              "    </tr>\n",
              "  </thead>\n",
              "  <tbody>\n",
              "    <tr>\n",
              "      <th>0</th>\n",
              "      <td>7590-VHVEG</td>\n",
              "      <td>Female</td>\n",
              "      <td>0</td>\n",
              "      <td>Yes</td>\n",
              "      <td>No</td>\n",
              "      <td>1</td>\n",
              "      <td>No</td>\n",
              "      <td>No phone service</td>\n",
              "      <td>DSL</td>\n",
              "      <td>No</td>\n",
              "      <td>...</td>\n",
              "      <td>No</td>\n",
              "      <td>No</td>\n",
              "      <td>No</td>\n",
              "      <td>No</td>\n",
              "      <td>Month-to-month</td>\n",
              "      <td>Yes</td>\n",
              "      <td>Electronic check</td>\n",
              "      <td>29.85</td>\n",
              "      <td>29.85</td>\n",
              "      <td>No</td>\n",
              "    </tr>\n",
              "    <tr>\n",
              "      <th>1</th>\n",
              "      <td>5575-GNVDE</td>\n",
              "      <td>Male</td>\n",
              "      <td>0</td>\n",
              "      <td>No</td>\n",
              "      <td>No</td>\n",
              "      <td>34</td>\n",
              "      <td>Yes</td>\n",
              "      <td>No</td>\n",
              "      <td>DSL</td>\n",
              "      <td>Yes</td>\n",
              "      <td>...</td>\n",
              "      <td>Yes</td>\n",
              "      <td>No</td>\n",
              "      <td>No</td>\n",
              "      <td>No</td>\n",
              "      <td>One year</td>\n",
              "      <td>No</td>\n",
              "      <td>Mailed check</td>\n",
              "      <td>56.95</td>\n",
              "      <td>1889.5</td>\n",
              "      <td>No</td>\n",
              "    </tr>\n",
              "    <tr>\n",
              "      <th>2</th>\n",
              "      <td>3668-QPYBK</td>\n",
              "      <td>Male</td>\n",
              "      <td>0</td>\n",
              "      <td>No</td>\n",
              "      <td>No</td>\n",
              "      <td>2</td>\n",
              "      <td>Yes</td>\n",
              "      <td>No</td>\n",
              "      <td>DSL</td>\n",
              "      <td>Yes</td>\n",
              "      <td>...</td>\n",
              "      <td>No</td>\n",
              "      <td>No</td>\n",
              "      <td>No</td>\n",
              "      <td>No</td>\n",
              "      <td>Month-to-month</td>\n",
              "      <td>Yes</td>\n",
              "      <td>Mailed check</td>\n",
              "      <td>53.85</td>\n",
              "      <td>108.15</td>\n",
              "      <td>Yes</td>\n",
              "    </tr>\n",
              "    <tr>\n",
              "      <th>3</th>\n",
              "      <td>7795-CFOCW</td>\n",
              "      <td>Male</td>\n",
              "      <td>0</td>\n",
              "      <td>No</td>\n",
              "      <td>No</td>\n",
              "      <td>45</td>\n",
              "      <td>No</td>\n",
              "      <td>No phone service</td>\n",
              "      <td>DSL</td>\n",
              "      <td>Yes</td>\n",
              "      <td>...</td>\n",
              "      <td>Yes</td>\n",
              "      <td>Yes</td>\n",
              "      <td>No</td>\n",
              "      <td>No</td>\n",
              "      <td>One year</td>\n",
              "      <td>No</td>\n",
              "      <td>Bank transfer (automatic)</td>\n",
              "      <td>42.30</td>\n",
              "      <td>1840.75</td>\n",
              "      <td>No</td>\n",
              "    </tr>\n",
              "    <tr>\n",
              "      <th>4</th>\n",
              "      <td>9237-HQITU</td>\n",
              "      <td>Female</td>\n",
              "      <td>0</td>\n",
              "      <td>No</td>\n",
              "      <td>No</td>\n",
              "      <td>2</td>\n",
              "      <td>Yes</td>\n",
              "      <td>No</td>\n",
              "      <td>Fiber optic</td>\n",
              "      <td>No</td>\n",
              "      <td>...</td>\n",
              "      <td>No</td>\n",
              "      <td>No</td>\n",
              "      <td>No</td>\n",
              "      <td>No</td>\n",
              "      <td>Month-to-month</td>\n",
              "      <td>Yes</td>\n",
              "      <td>Electronic check</td>\n",
              "      <td>70.70</td>\n",
              "      <td>151.65</td>\n",
              "      <td>Yes</td>\n",
              "    </tr>\n",
              "    <tr>\n",
              "      <th>...</th>\n",
              "      <td>...</td>\n",
              "      <td>...</td>\n",
              "      <td>...</td>\n",
              "      <td>...</td>\n",
              "      <td>...</td>\n",
              "      <td>...</td>\n",
              "      <td>...</td>\n",
              "      <td>...</td>\n",
              "      <td>...</td>\n",
              "      <td>...</td>\n",
              "      <td>...</td>\n",
              "      <td>...</td>\n",
              "      <td>...</td>\n",
              "      <td>...</td>\n",
              "      <td>...</td>\n",
              "      <td>...</td>\n",
              "      <td>...</td>\n",
              "      <td>...</td>\n",
              "      <td>...</td>\n",
              "      <td>...</td>\n",
              "      <td>...</td>\n",
              "    </tr>\n",
              "    <tr>\n",
              "      <th>95</th>\n",
              "      <td>8637-XJIVR</td>\n",
              "      <td>Female</td>\n",
              "      <td>0</td>\n",
              "      <td>No</td>\n",
              "      <td>No</td>\n",
              "      <td>12</td>\n",
              "      <td>Yes</td>\n",
              "      <td>Yes</td>\n",
              "      <td>Fiber optic</td>\n",
              "      <td>Yes</td>\n",
              "      <td>...</td>\n",
              "      <td>No</td>\n",
              "      <td>No</td>\n",
              "      <td>No</td>\n",
              "      <td>No</td>\n",
              "      <td>Month-to-month</td>\n",
              "      <td>Yes</td>\n",
              "      <td>Electronic check</td>\n",
              "      <td>78.95</td>\n",
              "      <td>927.35</td>\n",
              "      <td>Yes</td>\n",
              "    </tr>\n",
              "    <tr>\n",
              "      <th>96</th>\n",
              "      <td>9803-FTJCG</td>\n",
              "      <td>Male</td>\n",
              "      <td>0</td>\n",
              "      <td>Yes</td>\n",
              "      <td>Yes</td>\n",
              "      <td>71</td>\n",
              "      <td>Yes</td>\n",
              "      <td>Yes</td>\n",
              "      <td>DSL</td>\n",
              "      <td>Yes</td>\n",
              "      <td>...</td>\n",
              "      <td>No</td>\n",
              "      <td>Yes</td>\n",
              "      <td>No</td>\n",
              "      <td>No</td>\n",
              "      <td>One year</td>\n",
              "      <td>Yes</td>\n",
              "      <td>Credit card (automatic)</td>\n",
              "      <td>66.85</td>\n",
              "      <td>4748.7</td>\n",
              "      <td>No</td>\n",
              "    </tr>\n",
              "    <tr>\n",
              "      <th>97</th>\n",
              "      <td>0278-YXOOG</td>\n",
              "      <td>Male</td>\n",
              "      <td>0</td>\n",
              "      <td>No</td>\n",
              "      <td>No</td>\n",
              "      <td>5</td>\n",
              "      <td>Yes</td>\n",
              "      <td>No</td>\n",
              "      <td>No</td>\n",
              "      <td>No internet service</td>\n",
              "      <td>...</td>\n",
              "      <td>No internet service</td>\n",
              "      <td>No internet service</td>\n",
              "      <td>No internet service</td>\n",
              "      <td>No internet service</td>\n",
              "      <td>Month-to-month</td>\n",
              "      <td>No</td>\n",
              "      <td>Mailed check</td>\n",
              "      <td>21.05</td>\n",
              "      <td>113.85</td>\n",
              "      <td>Yes</td>\n",
              "    </tr>\n",
              "    <tr>\n",
              "      <th>98</th>\n",
              "      <td>3212-KXOCR</td>\n",
              "      <td>Male</td>\n",
              "      <td>0</td>\n",
              "      <td>No</td>\n",
              "      <td>No</td>\n",
              "      <td>52</td>\n",
              "      <td>Yes</td>\n",
              "      <td>No</td>\n",
              "      <td>No</td>\n",
              "      <td>No internet service</td>\n",
              "      <td>...</td>\n",
              "      <td>No internet service</td>\n",
              "      <td>No internet service</td>\n",
              "      <td>No internet service</td>\n",
              "      <td>No internet service</td>\n",
              "      <td>Two year</td>\n",
              "      <td>No</td>\n",
              "      <td>Bank transfer (automatic)</td>\n",
              "      <td>21.00</td>\n",
              "      <td>1107.2</td>\n",
              "      <td>No</td>\n",
              "    </tr>\n",
              "    <tr>\n",
              "      <th>99</th>\n",
              "      <td>4598-XLKNJ</td>\n",
              "      <td>Female</td>\n",
              "      <td>1</td>\n",
              "      <td>Yes</td>\n",
              "      <td>No</td>\n",
              "      <td>25</td>\n",
              "      <td>Yes</td>\n",
              "      <td>No</td>\n",
              "      <td>Fiber optic</td>\n",
              "      <td>No</td>\n",
              "      <td>...</td>\n",
              "      <td>Yes</td>\n",
              "      <td>No</td>\n",
              "      <td>Yes</td>\n",
              "      <td>Yes</td>\n",
              "      <td>Month-to-month</td>\n",
              "      <td>Yes</td>\n",
              "      <td>Electronic check</td>\n",
              "      <td>98.50</td>\n",
              "      <td>2514.5</td>\n",
              "      <td>Yes</td>\n",
              "    </tr>\n",
              "  </tbody>\n",
              "</table>\n",
              "<p>100 rows × 21 columns</p>\n",
              "</div>\n",
              "      <button class=\"colab-df-convert\" onclick=\"convertToInteractive('df-aa431450-5ef5-411b-af4c-d155742c29fc')\"\n",
              "              title=\"Convert this dataframe to an interactive table.\"\n",
              "              style=\"display:none;\">\n",
              "        \n",
              "  <svg xmlns=\"http://www.w3.org/2000/svg\" height=\"24px\"viewBox=\"0 0 24 24\"\n",
              "       width=\"24px\">\n",
              "    <path d=\"M0 0h24v24H0V0z\" fill=\"none\"/>\n",
              "    <path d=\"M18.56 5.44l.94 2.06.94-2.06 2.06-.94-2.06-.94-.94-2.06-.94 2.06-2.06.94zm-11 1L8.5 8.5l.94-2.06 2.06-.94-2.06-.94L8.5 2.5l-.94 2.06-2.06.94zm10 10l.94 2.06.94-2.06 2.06-.94-2.06-.94-.94-2.06-.94 2.06-2.06.94z\"/><path d=\"M17.41 7.96l-1.37-1.37c-.4-.4-.92-.59-1.43-.59-.52 0-1.04.2-1.43.59L10.3 9.45l-7.72 7.72c-.78.78-.78 2.05 0 2.83L4 21.41c.39.39.9.59 1.41.59.51 0 1.02-.2 1.41-.59l7.78-7.78 2.81-2.81c.8-.78.8-2.07 0-2.86zM5.41 20L4 18.59l7.72-7.72 1.47 1.35L5.41 20z\"/>\n",
              "  </svg>\n",
              "      </button>\n",
              "      \n",
              "  <style>\n",
              "    .colab-df-container {\n",
              "      display:flex;\n",
              "      flex-wrap:wrap;\n",
              "      gap: 12px;\n",
              "    }\n",
              "\n",
              "    .colab-df-convert {\n",
              "      background-color: #E8F0FE;\n",
              "      border: none;\n",
              "      border-radius: 50%;\n",
              "      cursor: pointer;\n",
              "      display: none;\n",
              "      fill: #1967D2;\n",
              "      height: 32px;\n",
              "      padding: 0 0 0 0;\n",
              "      width: 32px;\n",
              "    }\n",
              "\n",
              "    .colab-df-convert:hover {\n",
              "      background-color: #E2EBFA;\n",
              "      box-shadow: 0px 1px 2px rgba(60, 64, 67, 0.3), 0px 1px 3px 1px rgba(60, 64, 67, 0.15);\n",
              "      fill: #174EA6;\n",
              "    }\n",
              "\n",
              "    [theme=dark] .colab-df-convert {\n",
              "      background-color: #3B4455;\n",
              "      fill: #D2E3FC;\n",
              "    }\n",
              "\n",
              "    [theme=dark] .colab-df-convert:hover {\n",
              "      background-color: #434B5C;\n",
              "      box-shadow: 0px 1px 3px 1px rgba(0, 0, 0, 0.15);\n",
              "      filter: drop-shadow(0px 1px 2px rgba(0, 0, 0, 0.3));\n",
              "      fill: #FFFFFF;\n",
              "    }\n",
              "  </style>\n",
              "\n",
              "      <script>\n",
              "        const buttonEl =\n",
              "          document.querySelector('#df-aa431450-5ef5-411b-af4c-d155742c29fc button.colab-df-convert');\n",
              "        buttonEl.style.display =\n",
              "          google.colab.kernel.accessAllowed ? 'block' : 'none';\n",
              "\n",
              "        async function convertToInteractive(key) {\n",
              "          const element = document.querySelector('#df-aa431450-5ef5-411b-af4c-d155742c29fc');\n",
              "          const dataTable =\n",
              "            await google.colab.kernel.invokeFunction('convertToInteractive',\n",
              "                                                     [key], {});\n",
              "          if (!dataTable) return;\n",
              "\n",
              "          const docLinkHtml = 'Like what you see? Visit the ' +\n",
              "            '<a target=\"_blank\" href=https://colab.research.google.com/notebooks/data_table.ipynb>data table notebook</a>'\n",
              "            + ' to learn more about interactive tables.';\n",
              "          element.innerHTML = '';\n",
              "          dataTable['output_type'] = 'display_data';\n",
              "          await google.colab.output.renderOutput(dataTable, element);\n",
              "          const docLink = document.createElement('div');\n",
              "          docLink.innerHTML = docLinkHtml;\n",
              "          element.appendChild(docLink);\n",
              "        }\n",
              "      </script>\n",
              "    </div>\n",
              "  </div>\n",
              "  "
            ]
          },
          "metadata": {},
          "execution_count": 47
        }
      ]
    },
    {
      "cell_type": "markdown",
      "source": [
        "**6. Display the last 10 records from the data frame.**"
      ],
      "metadata": {
        "id": "Uf2KW9BDMREt"
      }
    },
    {
      "cell_type": "code",
      "source": [
        "churn_data.tail(10)"
      ],
      "metadata": {
        "colab": {
          "base_uri": "https://localhost:8080/",
          "height": 613
        },
        "id": "Y_3DkHI4Fipl",
        "outputId": "44c1f0f3-0f58-4fe8-d5b6-ca76416726a1"
      },
      "execution_count": 48,
      "outputs": [
        {
          "output_type": "execute_result",
          "data": {
            "text/plain": [
              "      customerID  gender  SeniorCitizen Partner Dependents  tenure  \\\n",
              "7033  9767-FFLEM    Male              0      No         No      38   \n",
              "7034  0639-TSIQW  Female              0      No         No      67   \n",
              "7035  8456-QDAVC    Male              0      No         No      19   \n",
              "7036  7750-EYXWZ  Female              0      No         No      12   \n",
              "7037  2569-WGERO  Female              0      No         No      72   \n",
              "7038  6840-RESVB    Male              0     Yes        Yes      24   \n",
              "7039  2234-XADUH  Female              0     Yes        Yes      72   \n",
              "7040  4801-JZAZL  Female              0     Yes        Yes      11   \n",
              "7041  8361-LTMKD    Male              1     Yes         No       4   \n",
              "7042  3186-AJIEK    Male              0      No         No      66   \n",
              "\n",
              "     PhoneService     MultipleLines InternetService       OnlineSecurity  ...  \\\n",
              "7033          Yes                No     Fiber optic                   No  ...   \n",
              "7034          Yes               Yes     Fiber optic                  Yes  ...   \n",
              "7035          Yes                No     Fiber optic                   No  ...   \n",
              "7036           No  No phone service             DSL                   No  ...   \n",
              "7037          Yes                No              No  No internet service  ...   \n",
              "7038          Yes               Yes             DSL                  Yes  ...   \n",
              "7039          Yes               Yes     Fiber optic                   No  ...   \n",
              "7040           No  No phone service             DSL                  Yes  ...   \n",
              "7041          Yes               Yes     Fiber optic                   No  ...   \n",
              "7042          Yes                No     Fiber optic                  Yes  ...   \n",
              "\n",
              "         DeviceProtection          TechSupport          StreamingTV  \\\n",
              "7033                   No                   No                   No   \n",
              "7034                  Yes                   No                  Yes   \n",
              "7035                   No                   No                  Yes   \n",
              "7036                  Yes                  Yes                  Yes   \n",
              "7037  No internet service  No internet service  No internet service   \n",
              "7038                  Yes                  Yes                  Yes   \n",
              "7039                  Yes                   No                  Yes   \n",
              "7040                   No                   No                   No   \n",
              "7041                   No                   No                   No   \n",
              "7042                  Yes                  Yes                  Yes   \n",
              "\n",
              "          StreamingMovies        Contract PaperlessBilling  \\\n",
              "7033                   No  Month-to-month              Yes   \n",
              "7034                   No  Month-to-month              Yes   \n",
              "7035                   No  Month-to-month              Yes   \n",
              "7036                  Yes        One year               No   \n",
              "7037  No internet service        Two year              Yes   \n",
              "7038                  Yes        One year              Yes   \n",
              "7039                  Yes        One year              Yes   \n",
              "7040                   No  Month-to-month              Yes   \n",
              "7041                   No  Month-to-month              Yes   \n",
              "7042                  Yes        Two year              Yes   \n",
              "\n",
              "                  PaymentMethod MonthlyCharges  TotalCharges Churn  \n",
              "7033    Credit card (automatic)          69.50       2625.25    No  \n",
              "7034    Credit card (automatic)         102.95       6886.25   Yes  \n",
              "7035  Bank transfer (automatic)          78.70        1495.1    No  \n",
              "7036           Electronic check          60.65         743.3    No  \n",
              "7037  Bank transfer (automatic)          21.15        1419.4    No  \n",
              "7038               Mailed check          84.80        1990.5    No  \n",
              "7039    Credit card (automatic)         103.20        7362.9    No  \n",
              "7040           Electronic check          29.60        346.45    No  \n",
              "7041               Mailed check          74.40         306.6   Yes  \n",
              "7042  Bank transfer (automatic)         105.65        6844.5    No  \n",
              "\n",
              "[10 rows x 21 columns]"
            ],
            "text/html": [
              "\n",
              "  <div id=\"df-ef674693-ad8c-44d8-8268-9ebc2dad2673\">\n",
              "    <div class=\"colab-df-container\">\n",
              "      <div>\n",
              "<style scoped>\n",
              "    .dataframe tbody tr th:only-of-type {\n",
              "        vertical-align: middle;\n",
              "    }\n",
              "\n",
              "    .dataframe tbody tr th {\n",
              "        vertical-align: top;\n",
              "    }\n",
              "\n",
              "    .dataframe thead th {\n",
              "        text-align: right;\n",
              "    }\n",
              "</style>\n",
              "<table border=\"1\" class=\"dataframe\">\n",
              "  <thead>\n",
              "    <tr style=\"text-align: right;\">\n",
              "      <th></th>\n",
              "      <th>customerID</th>\n",
              "      <th>gender</th>\n",
              "      <th>SeniorCitizen</th>\n",
              "      <th>Partner</th>\n",
              "      <th>Dependents</th>\n",
              "      <th>tenure</th>\n",
              "      <th>PhoneService</th>\n",
              "      <th>MultipleLines</th>\n",
              "      <th>InternetService</th>\n",
              "      <th>OnlineSecurity</th>\n",
              "      <th>...</th>\n",
              "      <th>DeviceProtection</th>\n",
              "      <th>TechSupport</th>\n",
              "      <th>StreamingTV</th>\n",
              "      <th>StreamingMovies</th>\n",
              "      <th>Contract</th>\n",
              "      <th>PaperlessBilling</th>\n",
              "      <th>PaymentMethod</th>\n",
              "      <th>MonthlyCharges</th>\n",
              "      <th>TotalCharges</th>\n",
              "      <th>Churn</th>\n",
              "    </tr>\n",
              "  </thead>\n",
              "  <tbody>\n",
              "    <tr>\n",
              "      <th>7033</th>\n",
              "      <td>9767-FFLEM</td>\n",
              "      <td>Male</td>\n",
              "      <td>0</td>\n",
              "      <td>No</td>\n",
              "      <td>No</td>\n",
              "      <td>38</td>\n",
              "      <td>Yes</td>\n",
              "      <td>No</td>\n",
              "      <td>Fiber optic</td>\n",
              "      <td>No</td>\n",
              "      <td>...</td>\n",
              "      <td>No</td>\n",
              "      <td>No</td>\n",
              "      <td>No</td>\n",
              "      <td>No</td>\n",
              "      <td>Month-to-month</td>\n",
              "      <td>Yes</td>\n",
              "      <td>Credit card (automatic)</td>\n",
              "      <td>69.50</td>\n",
              "      <td>2625.25</td>\n",
              "      <td>No</td>\n",
              "    </tr>\n",
              "    <tr>\n",
              "      <th>7034</th>\n",
              "      <td>0639-TSIQW</td>\n",
              "      <td>Female</td>\n",
              "      <td>0</td>\n",
              "      <td>No</td>\n",
              "      <td>No</td>\n",
              "      <td>67</td>\n",
              "      <td>Yes</td>\n",
              "      <td>Yes</td>\n",
              "      <td>Fiber optic</td>\n",
              "      <td>Yes</td>\n",
              "      <td>...</td>\n",
              "      <td>Yes</td>\n",
              "      <td>No</td>\n",
              "      <td>Yes</td>\n",
              "      <td>No</td>\n",
              "      <td>Month-to-month</td>\n",
              "      <td>Yes</td>\n",
              "      <td>Credit card (automatic)</td>\n",
              "      <td>102.95</td>\n",
              "      <td>6886.25</td>\n",
              "      <td>Yes</td>\n",
              "    </tr>\n",
              "    <tr>\n",
              "      <th>7035</th>\n",
              "      <td>8456-QDAVC</td>\n",
              "      <td>Male</td>\n",
              "      <td>0</td>\n",
              "      <td>No</td>\n",
              "      <td>No</td>\n",
              "      <td>19</td>\n",
              "      <td>Yes</td>\n",
              "      <td>No</td>\n",
              "      <td>Fiber optic</td>\n",
              "      <td>No</td>\n",
              "      <td>...</td>\n",
              "      <td>No</td>\n",
              "      <td>No</td>\n",
              "      <td>Yes</td>\n",
              "      <td>No</td>\n",
              "      <td>Month-to-month</td>\n",
              "      <td>Yes</td>\n",
              "      <td>Bank transfer (automatic)</td>\n",
              "      <td>78.70</td>\n",
              "      <td>1495.1</td>\n",
              "      <td>No</td>\n",
              "    </tr>\n",
              "    <tr>\n",
              "      <th>7036</th>\n",
              "      <td>7750-EYXWZ</td>\n",
              "      <td>Female</td>\n",
              "      <td>0</td>\n",
              "      <td>No</td>\n",
              "      <td>No</td>\n",
              "      <td>12</td>\n",
              "      <td>No</td>\n",
              "      <td>No phone service</td>\n",
              "      <td>DSL</td>\n",
              "      <td>No</td>\n",
              "      <td>...</td>\n",
              "      <td>Yes</td>\n",
              "      <td>Yes</td>\n",
              "      <td>Yes</td>\n",
              "      <td>Yes</td>\n",
              "      <td>One year</td>\n",
              "      <td>No</td>\n",
              "      <td>Electronic check</td>\n",
              "      <td>60.65</td>\n",
              "      <td>743.3</td>\n",
              "      <td>No</td>\n",
              "    </tr>\n",
              "    <tr>\n",
              "      <th>7037</th>\n",
              "      <td>2569-WGERO</td>\n",
              "      <td>Female</td>\n",
              "      <td>0</td>\n",
              "      <td>No</td>\n",
              "      <td>No</td>\n",
              "      <td>72</td>\n",
              "      <td>Yes</td>\n",
              "      <td>No</td>\n",
              "      <td>No</td>\n",
              "      <td>No internet service</td>\n",
              "      <td>...</td>\n",
              "      <td>No internet service</td>\n",
              "      <td>No internet service</td>\n",
              "      <td>No internet service</td>\n",
              "      <td>No internet service</td>\n",
              "      <td>Two year</td>\n",
              "      <td>Yes</td>\n",
              "      <td>Bank transfer (automatic)</td>\n",
              "      <td>21.15</td>\n",
              "      <td>1419.4</td>\n",
              "      <td>No</td>\n",
              "    </tr>\n",
              "    <tr>\n",
              "      <th>7038</th>\n",
              "      <td>6840-RESVB</td>\n",
              "      <td>Male</td>\n",
              "      <td>0</td>\n",
              "      <td>Yes</td>\n",
              "      <td>Yes</td>\n",
              "      <td>24</td>\n",
              "      <td>Yes</td>\n",
              "      <td>Yes</td>\n",
              "      <td>DSL</td>\n",
              "      <td>Yes</td>\n",
              "      <td>...</td>\n",
              "      <td>Yes</td>\n",
              "      <td>Yes</td>\n",
              "      <td>Yes</td>\n",
              "      <td>Yes</td>\n",
              "      <td>One year</td>\n",
              "      <td>Yes</td>\n",
              "      <td>Mailed check</td>\n",
              "      <td>84.80</td>\n",
              "      <td>1990.5</td>\n",
              "      <td>No</td>\n",
              "    </tr>\n",
              "    <tr>\n",
              "      <th>7039</th>\n",
              "      <td>2234-XADUH</td>\n",
              "      <td>Female</td>\n",
              "      <td>0</td>\n",
              "      <td>Yes</td>\n",
              "      <td>Yes</td>\n",
              "      <td>72</td>\n",
              "      <td>Yes</td>\n",
              "      <td>Yes</td>\n",
              "      <td>Fiber optic</td>\n",
              "      <td>No</td>\n",
              "      <td>...</td>\n",
              "      <td>Yes</td>\n",
              "      <td>No</td>\n",
              "      <td>Yes</td>\n",
              "      <td>Yes</td>\n",
              "      <td>One year</td>\n",
              "      <td>Yes</td>\n",
              "      <td>Credit card (automatic)</td>\n",
              "      <td>103.20</td>\n",
              "      <td>7362.9</td>\n",
              "      <td>No</td>\n",
              "    </tr>\n",
              "    <tr>\n",
              "      <th>7040</th>\n",
              "      <td>4801-JZAZL</td>\n",
              "      <td>Female</td>\n",
              "      <td>0</td>\n",
              "      <td>Yes</td>\n",
              "      <td>Yes</td>\n",
              "      <td>11</td>\n",
              "      <td>No</td>\n",
              "      <td>No phone service</td>\n",
              "      <td>DSL</td>\n",
              "      <td>Yes</td>\n",
              "      <td>...</td>\n",
              "      <td>No</td>\n",
              "      <td>No</td>\n",
              "      <td>No</td>\n",
              "      <td>No</td>\n",
              "      <td>Month-to-month</td>\n",
              "      <td>Yes</td>\n",
              "      <td>Electronic check</td>\n",
              "      <td>29.60</td>\n",
              "      <td>346.45</td>\n",
              "      <td>No</td>\n",
              "    </tr>\n",
              "    <tr>\n",
              "      <th>7041</th>\n",
              "      <td>8361-LTMKD</td>\n",
              "      <td>Male</td>\n",
              "      <td>1</td>\n",
              "      <td>Yes</td>\n",
              "      <td>No</td>\n",
              "      <td>4</td>\n",
              "      <td>Yes</td>\n",
              "      <td>Yes</td>\n",
              "      <td>Fiber optic</td>\n",
              "      <td>No</td>\n",
              "      <td>...</td>\n",
              "      <td>No</td>\n",
              "      <td>No</td>\n",
              "      <td>No</td>\n",
              "      <td>No</td>\n",
              "      <td>Month-to-month</td>\n",
              "      <td>Yes</td>\n",
              "      <td>Mailed check</td>\n",
              "      <td>74.40</td>\n",
              "      <td>306.6</td>\n",
              "      <td>Yes</td>\n",
              "    </tr>\n",
              "    <tr>\n",
              "      <th>7042</th>\n",
              "      <td>3186-AJIEK</td>\n",
              "      <td>Male</td>\n",
              "      <td>0</td>\n",
              "      <td>No</td>\n",
              "      <td>No</td>\n",
              "      <td>66</td>\n",
              "      <td>Yes</td>\n",
              "      <td>No</td>\n",
              "      <td>Fiber optic</td>\n",
              "      <td>Yes</td>\n",
              "      <td>...</td>\n",
              "      <td>Yes</td>\n",
              "      <td>Yes</td>\n",
              "      <td>Yes</td>\n",
              "      <td>Yes</td>\n",
              "      <td>Two year</td>\n",
              "      <td>Yes</td>\n",
              "      <td>Bank transfer (automatic)</td>\n",
              "      <td>105.65</td>\n",
              "      <td>6844.5</td>\n",
              "      <td>No</td>\n",
              "    </tr>\n",
              "  </tbody>\n",
              "</table>\n",
              "<p>10 rows × 21 columns</p>\n",
              "</div>\n",
              "      <button class=\"colab-df-convert\" onclick=\"convertToInteractive('df-ef674693-ad8c-44d8-8268-9ebc2dad2673')\"\n",
              "              title=\"Convert this dataframe to an interactive table.\"\n",
              "              style=\"display:none;\">\n",
              "        \n",
              "  <svg xmlns=\"http://www.w3.org/2000/svg\" height=\"24px\"viewBox=\"0 0 24 24\"\n",
              "       width=\"24px\">\n",
              "    <path d=\"M0 0h24v24H0V0z\" fill=\"none\"/>\n",
              "    <path d=\"M18.56 5.44l.94 2.06.94-2.06 2.06-.94-2.06-.94-.94-2.06-.94 2.06-2.06.94zm-11 1L8.5 8.5l.94-2.06 2.06-.94-2.06-.94L8.5 2.5l-.94 2.06-2.06.94zm10 10l.94 2.06.94-2.06 2.06-.94-2.06-.94-.94-2.06-.94 2.06-2.06.94z\"/><path d=\"M17.41 7.96l-1.37-1.37c-.4-.4-.92-.59-1.43-.59-.52 0-1.04.2-1.43.59L10.3 9.45l-7.72 7.72c-.78.78-.78 2.05 0 2.83L4 21.41c.39.39.9.59 1.41.59.51 0 1.02-.2 1.41-.59l7.78-7.78 2.81-2.81c.8-.78.8-2.07 0-2.86zM5.41 20L4 18.59l7.72-7.72 1.47 1.35L5.41 20z\"/>\n",
              "  </svg>\n",
              "      </button>\n",
              "      \n",
              "  <style>\n",
              "    .colab-df-container {\n",
              "      display:flex;\n",
              "      flex-wrap:wrap;\n",
              "      gap: 12px;\n",
              "    }\n",
              "\n",
              "    .colab-df-convert {\n",
              "      background-color: #E8F0FE;\n",
              "      border: none;\n",
              "      border-radius: 50%;\n",
              "      cursor: pointer;\n",
              "      display: none;\n",
              "      fill: #1967D2;\n",
              "      height: 32px;\n",
              "      padding: 0 0 0 0;\n",
              "      width: 32px;\n",
              "    }\n",
              "\n",
              "    .colab-df-convert:hover {\n",
              "      background-color: #E2EBFA;\n",
              "      box-shadow: 0px 1px 2px rgba(60, 64, 67, 0.3), 0px 1px 3px 1px rgba(60, 64, 67, 0.15);\n",
              "      fill: #174EA6;\n",
              "    }\n",
              "\n",
              "    [theme=dark] .colab-df-convert {\n",
              "      background-color: #3B4455;\n",
              "      fill: #D2E3FC;\n",
              "    }\n",
              "\n",
              "    [theme=dark] .colab-df-convert:hover {\n",
              "      background-color: #434B5C;\n",
              "      box-shadow: 0px 1px 3px 1px rgba(0, 0, 0, 0.15);\n",
              "      filter: drop-shadow(0px 1px 2px rgba(0, 0, 0, 0.3));\n",
              "      fill: #FFFFFF;\n",
              "    }\n",
              "  </style>\n",
              "\n",
              "      <script>\n",
              "        const buttonEl =\n",
              "          document.querySelector('#df-ef674693-ad8c-44d8-8268-9ebc2dad2673 button.colab-df-convert');\n",
              "        buttonEl.style.display =\n",
              "          google.colab.kernel.accessAllowed ? 'block' : 'none';\n",
              "\n",
              "        async function convertToInteractive(key) {\n",
              "          const element = document.querySelector('#df-ef674693-ad8c-44d8-8268-9ebc2dad2673');\n",
              "          const dataTable =\n",
              "            await google.colab.kernel.invokeFunction('convertToInteractive',\n",
              "                                                     [key], {});\n",
              "          if (!dataTable) return;\n",
              "\n",
              "          const docLinkHtml = 'Like what you see? Visit the ' +\n",
              "            '<a target=\"_blank\" href=https://colab.research.google.com/notebooks/data_table.ipynb>data table notebook</a>'\n",
              "            + ' to learn more about interactive tables.';\n",
              "          element.innerHTML = '';\n",
              "          dataTable['output_type'] = 'display_data';\n",
              "          await google.colab.output.renderOutput(dataTable, element);\n",
              "          const docLink = document.createElement('div');\n",
              "          docLink.innerHTML = docLinkHtml;\n",
              "          element.appendChild(docLink);\n",
              "        }\n",
              "      </script>\n",
              "    </div>\n",
              "  </div>\n",
              "  "
            ]
          },
          "metadata": {},
          "execution_count": 48
        }
      ]
    },
    {
      "cell_type": "markdown",
      "source": [
        "**7. Display the last record from the data frame.**"
      ],
      "metadata": {
        "id": "CiQzzuYeFraR"
      }
    },
    {
      "cell_type": "code",
      "source": [
        "churn_data.tail(1)"
      ],
      "metadata": {
        "colab": {
          "base_uri": "https://localhost:8080/",
          "height": 191
        },
        "id": "jqFv5AKQFubF",
        "outputId": "07fd5046-9fbf-43fe-cf11-fded0763fe7e"
      },
      "execution_count": 49,
      "outputs": [
        {
          "output_type": "execute_result",
          "data": {
            "text/plain": [
              "      customerID gender  SeniorCitizen Partner Dependents  tenure  \\\n",
              "7042  3186-AJIEK   Male              0      No         No      66   \n",
              "\n",
              "     PhoneService MultipleLines InternetService OnlineSecurity  ...  \\\n",
              "7042          Yes            No     Fiber optic            Yes  ...   \n",
              "\n",
              "     DeviceProtection TechSupport StreamingTV StreamingMovies  Contract  \\\n",
              "7042              Yes         Yes         Yes             Yes  Two year   \n",
              "\n",
              "     PaperlessBilling              PaymentMethod MonthlyCharges  TotalCharges  \\\n",
              "7042              Yes  Bank transfer (automatic)         105.65        6844.5   \n",
              "\n",
              "     Churn  \n",
              "7042    No  \n",
              "\n",
              "[1 rows x 21 columns]"
            ],
            "text/html": [
              "\n",
              "  <div id=\"df-ebf20942-a41c-49b1-b553-26ccf985997e\">\n",
              "    <div class=\"colab-df-container\">\n",
              "      <div>\n",
              "<style scoped>\n",
              "    .dataframe tbody tr th:only-of-type {\n",
              "        vertical-align: middle;\n",
              "    }\n",
              "\n",
              "    .dataframe tbody tr th {\n",
              "        vertical-align: top;\n",
              "    }\n",
              "\n",
              "    .dataframe thead th {\n",
              "        text-align: right;\n",
              "    }\n",
              "</style>\n",
              "<table border=\"1\" class=\"dataframe\">\n",
              "  <thead>\n",
              "    <tr style=\"text-align: right;\">\n",
              "      <th></th>\n",
              "      <th>customerID</th>\n",
              "      <th>gender</th>\n",
              "      <th>SeniorCitizen</th>\n",
              "      <th>Partner</th>\n",
              "      <th>Dependents</th>\n",
              "      <th>tenure</th>\n",
              "      <th>PhoneService</th>\n",
              "      <th>MultipleLines</th>\n",
              "      <th>InternetService</th>\n",
              "      <th>OnlineSecurity</th>\n",
              "      <th>...</th>\n",
              "      <th>DeviceProtection</th>\n",
              "      <th>TechSupport</th>\n",
              "      <th>StreamingTV</th>\n",
              "      <th>StreamingMovies</th>\n",
              "      <th>Contract</th>\n",
              "      <th>PaperlessBilling</th>\n",
              "      <th>PaymentMethod</th>\n",
              "      <th>MonthlyCharges</th>\n",
              "      <th>TotalCharges</th>\n",
              "      <th>Churn</th>\n",
              "    </tr>\n",
              "  </thead>\n",
              "  <tbody>\n",
              "    <tr>\n",
              "      <th>7042</th>\n",
              "      <td>3186-AJIEK</td>\n",
              "      <td>Male</td>\n",
              "      <td>0</td>\n",
              "      <td>No</td>\n",
              "      <td>No</td>\n",
              "      <td>66</td>\n",
              "      <td>Yes</td>\n",
              "      <td>No</td>\n",
              "      <td>Fiber optic</td>\n",
              "      <td>Yes</td>\n",
              "      <td>...</td>\n",
              "      <td>Yes</td>\n",
              "      <td>Yes</td>\n",
              "      <td>Yes</td>\n",
              "      <td>Yes</td>\n",
              "      <td>Two year</td>\n",
              "      <td>Yes</td>\n",
              "      <td>Bank transfer (automatic)</td>\n",
              "      <td>105.65</td>\n",
              "      <td>6844.5</td>\n",
              "      <td>No</td>\n",
              "    </tr>\n",
              "  </tbody>\n",
              "</table>\n",
              "<p>1 rows × 21 columns</p>\n",
              "</div>\n",
              "      <button class=\"colab-df-convert\" onclick=\"convertToInteractive('df-ebf20942-a41c-49b1-b553-26ccf985997e')\"\n",
              "              title=\"Convert this dataframe to an interactive table.\"\n",
              "              style=\"display:none;\">\n",
              "        \n",
              "  <svg xmlns=\"http://www.w3.org/2000/svg\" height=\"24px\"viewBox=\"0 0 24 24\"\n",
              "       width=\"24px\">\n",
              "    <path d=\"M0 0h24v24H0V0z\" fill=\"none\"/>\n",
              "    <path d=\"M18.56 5.44l.94 2.06.94-2.06 2.06-.94-2.06-.94-.94-2.06-.94 2.06-2.06.94zm-11 1L8.5 8.5l.94-2.06 2.06-.94-2.06-.94L8.5 2.5l-.94 2.06-2.06.94zm10 10l.94 2.06.94-2.06 2.06-.94-2.06-.94-.94-2.06-.94 2.06-2.06.94z\"/><path d=\"M17.41 7.96l-1.37-1.37c-.4-.4-.92-.59-1.43-.59-.52 0-1.04.2-1.43.59L10.3 9.45l-7.72 7.72c-.78.78-.78 2.05 0 2.83L4 21.41c.39.39.9.59 1.41.59.51 0 1.02-.2 1.41-.59l7.78-7.78 2.81-2.81c.8-.78.8-2.07 0-2.86zM5.41 20L4 18.59l7.72-7.72 1.47 1.35L5.41 20z\"/>\n",
              "  </svg>\n",
              "      </button>\n",
              "      \n",
              "  <style>\n",
              "    .colab-df-container {\n",
              "      display:flex;\n",
              "      flex-wrap:wrap;\n",
              "      gap: 12px;\n",
              "    }\n",
              "\n",
              "    .colab-df-convert {\n",
              "      background-color: #E8F0FE;\n",
              "      border: none;\n",
              "      border-radius: 50%;\n",
              "      cursor: pointer;\n",
              "      display: none;\n",
              "      fill: #1967D2;\n",
              "      height: 32px;\n",
              "      padding: 0 0 0 0;\n",
              "      width: 32px;\n",
              "    }\n",
              "\n",
              "    .colab-df-convert:hover {\n",
              "      background-color: #E2EBFA;\n",
              "      box-shadow: 0px 1px 2px rgba(60, 64, 67, 0.3), 0px 1px 3px 1px rgba(60, 64, 67, 0.15);\n",
              "      fill: #174EA6;\n",
              "    }\n",
              "\n",
              "    [theme=dark] .colab-df-convert {\n",
              "      background-color: #3B4455;\n",
              "      fill: #D2E3FC;\n",
              "    }\n",
              "\n",
              "    [theme=dark] .colab-df-convert:hover {\n",
              "      background-color: #434B5C;\n",
              "      box-shadow: 0px 1px 3px 1px rgba(0, 0, 0, 0.15);\n",
              "      filter: drop-shadow(0px 1px 2px rgba(0, 0, 0, 0.3));\n",
              "      fill: #FFFFFF;\n",
              "    }\n",
              "  </style>\n",
              "\n",
              "      <script>\n",
              "        const buttonEl =\n",
              "          document.querySelector('#df-ebf20942-a41c-49b1-b553-26ccf985997e button.colab-df-convert');\n",
              "        buttonEl.style.display =\n",
              "          google.colab.kernel.accessAllowed ? 'block' : 'none';\n",
              "\n",
              "        async function convertToInteractive(key) {\n",
              "          const element = document.querySelector('#df-ebf20942-a41c-49b1-b553-26ccf985997e');\n",
              "          const dataTable =\n",
              "            await google.colab.kernel.invokeFunction('convertToInteractive',\n",
              "                                                     [key], {});\n",
              "          if (!dataTable) return;\n",
              "\n",
              "          const docLinkHtml = 'Like what you see? Visit the ' +\n",
              "            '<a target=\"_blank\" href=https://colab.research.google.com/notebooks/data_table.ipynb>data table notebook</a>'\n",
              "            + ' to learn more about interactive tables.';\n",
              "          element.innerHTML = '';\n",
              "          dataTable['output_type'] = 'display_data';\n",
              "          await google.colab.output.renderOutput(dataTable, element);\n",
              "          const docLink = document.createElement('div');\n",
              "          docLink.innerHTML = docLinkHtml;\n",
              "          element.appendChild(docLink);\n",
              "        }\n",
              "      </script>\n",
              "    </div>\n",
              "  </div>\n",
              "  "
            ]
          },
          "metadata": {},
          "execution_count": 49
        }
      ]
    },
    {
      "cell_type": "markdown",
      "source": [
        "**8. Now from the churn data frame, try to sort the data by the tenure column according to the descending order.**"
      ],
      "metadata": {
        "id": "16rCSS9jF3ZA"
      }
    },
    {
      "cell_type": "code",
      "source": [
        "sorted_data = churn_data.sort_values(by=\"tenure\", ascending=False)"
      ],
      "metadata": {
        "id": "FwjLaJ2ZF7kJ"
      },
      "execution_count": 50,
      "outputs": []
    },
    {
      "cell_type": "markdown",
      "source": [
        "**9. Fetch all the records that are satisfying the following condition:**\n",
        "\n",
        "**a. Tenure>50 and the gender as ‘Female’.**\n",
        "\n",
        "**b. Gender as ‘Male’ and SeniorCitizen as 0.**\n",
        "\n",
        "**c. TechSupport as ‘Yes’ and Churn as ‘No’.**\n",
        "\n",
        "**d. Contract type as ‘Month-to-month’ and Churn as ‘Yes’ . **"
      ],
      "metadata": {
        "id": "SlD4MqKjGCwk"
      }
    },
    {
      "cell_type": "code",
      "source": [
        "condition_a = churn_data[(churn_data[\"tenure\"] > 50) & (churn_data[\"gender\"] == \"Female\")]"
      ],
      "metadata": {
        "id": "60gwl5DVGJ31"
      },
      "execution_count": 51,
      "outputs": []
    },
    {
      "cell_type": "code",
      "source": [
        "condition_b = churn_data[(churn_data[\"gender\"] == \"Male\") & (churn_data[\"SeniorCitizen\"] == 0)]"
      ],
      "metadata": {
        "id": "PxXcVLSYGVdq"
      },
      "execution_count": 52,
      "outputs": []
    },
    {
      "cell_type": "code",
      "source": [
        "condition_c = churn_data[(churn_data[\"TechSupport\"] == \"Yes\") & (churn_data[\"Churn\"] == \"No\")]"
      ],
      "metadata": {
        "id": "6UJcNJ3pGVTj"
      },
      "execution_count": 53,
      "outputs": []
    },
    {
      "cell_type": "code",
      "source": [
        "condition_d = churn_data[(churn_data[\"Contract\"] == \"Month-to-month\") & (churn_data[\"Churn\"] == \"Yes\")]"
      ],
      "metadata": {
        "id": "RtLdAGLkGVKs"
      },
      "execution_count": 54,
      "outputs": []
    },
    {
      "cell_type": "markdown",
      "source": [
        "**10. Use a for loop to calculate the number of customers that are getting the tech support and are male senior citizen.**"
      ],
      "metadata": {
        "id": "efzwxkUQGhRG"
      }
    },
    {
      "cell_type": "code",
      "source": [
        "count = 0\n",
        "for i in range(len(churn_data)):\n",
        "    if churn_data.iloc[i][\"TechSupport\"] == \"Yes\" and churn_data.iloc[i][\"gender\"] == \"Male\" and churn_data.iloc[i][\"SeniorCitizen\"] == 1:\n",
        "        count += 1\n",
        "print(\"Number of customers getting tech support and are male senior citizen:\", count)"
      ],
      "metadata": {
        "colab": {
          "base_uri": "https://localhost:8080/"
        },
        "id": "rweXTlFkGVCU",
        "outputId": "8ca1a52e-9fdd-4ff1-994f-a0d9173c2868"
      },
      "execution_count": 55,
      "outputs": [
        {
          "output_type": "stream",
          "name": "stdout",
          "text": [
            "Number of customers getting tech support and are male senior citizen: 119\n"
          ]
        }
      ]
    },
    {
      "cell_type": "markdown",
      "source": [
        "# **ASSIGNMENT 2**"
      ],
      "metadata": {
        "id": "blDetY9dHDXO"
      }
    },
    {
      "cell_type": "markdown",
      "source": [
        "**1. Now select the rows from 20th index till 200th index (exclusive), and columns from 2nd index till 15th index value.**"
      ],
      "metadata": {
        "id": "64qEFCnVHIh4"
      }
    },
    {
      "cell_type": "code",
      "source": [
        "selected_data = churn_data.iloc[20:200, 2:15]"
      ],
      "metadata": {
        "id": "HIJuDT8mGU3z"
      },
      "execution_count": 56,
      "outputs": []
    },
    {
      "cell_type": "markdown",
      "source": [
        "## **ASSIGNMENT 3**"
      ],
      "metadata": {
        "id": "qWK3qQm1HRJA"
      }
    },
    {
      "cell_type": "markdown",
      "source": [
        "**1. Display the top 100 records from the original data frame.**\n",
        "\n",
        "**2. Display the last 10 records from the data frame.**\n",
        "\n",
        "**3. Display the last record from the data frame. **"
      ],
      "metadata": {
        "id": "GNQe-vx0HdLx"
      }
    },
    {
      "cell_type": "code",
      "source": [
        "top_100 = churn_data.head(100)\n",
        "print(top_100)"
      ],
      "metadata": {
        "colab": {
          "base_uri": "https://localhost:8080/"
        },
        "id": "l-lWu3YpHcLm",
        "outputId": "1f3cd9bd-ae36-49ef-8384-8fee6e984f03"
      },
      "execution_count": 57,
      "outputs": [
        {
          "output_type": "stream",
          "name": "stdout",
          "text": [
            "    customerID  gender  SeniorCitizen Partner Dependents  tenure PhoneService  \\\n",
            "0   7590-VHVEG  Female              0     Yes         No       1           No   \n",
            "1   5575-GNVDE    Male              0      No         No      34          Yes   \n",
            "2   3668-QPYBK    Male              0      No         No       2          Yes   \n",
            "3   7795-CFOCW    Male              0      No         No      45           No   \n",
            "4   9237-HQITU  Female              0      No         No       2          Yes   \n",
            "..         ...     ...            ...     ...        ...     ...          ...   \n",
            "95  8637-XJIVR  Female              0      No         No      12          Yes   \n",
            "96  9803-FTJCG    Male              0     Yes        Yes      71          Yes   \n",
            "97  0278-YXOOG    Male              0      No         No       5          Yes   \n",
            "98  3212-KXOCR    Male              0      No         No      52          Yes   \n",
            "99  4598-XLKNJ  Female              1     Yes         No      25          Yes   \n",
            "\n",
            "       MultipleLines InternetService       OnlineSecurity  ...  \\\n",
            "0   No phone service             DSL                   No  ...   \n",
            "1                 No             DSL                  Yes  ...   \n",
            "2                 No             DSL                  Yes  ...   \n",
            "3   No phone service             DSL                  Yes  ...   \n",
            "4                 No     Fiber optic                   No  ...   \n",
            "..               ...             ...                  ...  ...   \n",
            "95               Yes     Fiber optic                  Yes  ...   \n",
            "96               Yes             DSL                  Yes  ...   \n",
            "97                No              No  No internet service  ...   \n",
            "98                No              No  No internet service  ...   \n",
            "99                No     Fiber optic                   No  ...   \n",
            "\n",
            "       DeviceProtection          TechSupport          StreamingTV  \\\n",
            "0                    No                   No                   No   \n",
            "1                   Yes                   No                   No   \n",
            "2                    No                   No                   No   \n",
            "3                   Yes                  Yes                   No   \n",
            "4                    No                   No                   No   \n",
            "..                  ...                  ...                  ...   \n",
            "95                   No                   No                   No   \n",
            "96                   No                  Yes                   No   \n",
            "97  No internet service  No internet service  No internet service   \n",
            "98  No internet service  No internet service  No internet service   \n",
            "99                  Yes                   No                  Yes   \n",
            "\n",
            "        StreamingMovies        Contract PaperlessBilling  \\\n",
            "0                    No  Month-to-month              Yes   \n",
            "1                    No        One year               No   \n",
            "2                    No  Month-to-month              Yes   \n",
            "3                    No        One year               No   \n",
            "4                    No  Month-to-month              Yes   \n",
            "..                  ...             ...              ...   \n",
            "95                   No  Month-to-month              Yes   \n",
            "96                   No        One year              Yes   \n",
            "97  No internet service  Month-to-month               No   \n",
            "98  No internet service        Two year               No   \n",
            "99                  Yes  Month-to-month              Yes   \n",
            "\n",
            "                PaymentMethod MonthlyCharges  TotalCharges Churn  \n",
            "0            Electronic check          29.85         29.85    No  \n",
            "1                Mailed check          56.95        1889.5    No  \n",
            "2                Mailed check          53.85        108.15   Yes  \n",
            "3   Bank transfer (automatic)          42.30       1840.75    No  \n",
            "4            Electronic check          70.70        151.65   Yes  \n",
            "..                        ...            ...           ...   ...  \n",
            "95           Electronic check          78.95        927.35   Yes  \n",
            "96    Credit card (automatic)          66.85        4748.7    No  \n",
            "97               Mailed check          21.05        113.85   Yes  \n",
            "98  Bank transfer (automatic)          21.00        1107.2    No  \n",
            "99           Electronic check          98.50        2514.5   Yes  \n",
            "\n",
            "[100 rows x 21 columns]\n"
          ]
        }
      ]
    },
    {
      "cell_type": "code",
      "source": [
        "last_10 = churn_data.tail(10)\n",
        "print(last_10)"
      ],
      "metadata": {
        "colab": {
          "base_uri": "https://localhost:8080/"
        },
        "id": "z76kLxC9Hjru",
        "outputId": "91214844-7c26-4025-ed68-99140a42e181"
      },
      "execution_count": 58,
      "outputs": [
        {
          "output_type": "stream",
          "name": "stdout",
          "text": [
            "      customerID  gender  SeniorCitizen Partner Dependents  tenure  \\\n",
            "7033  9767-FFLEM    Male              0      No         No      38   \n",
            "7034  0639-TSIQW  Female              0      No         No      67   \n",
            "7035  8456-QDAVC    Male              0      No         No      19   \n",
            "7036  7750-EYXWZ  Female              0      No         No      12   \n",
            "7037  2569-WGERO  Female              0      No         No      72   \n",
            "7038  6840-RESVB    Male              0     Yes        Yes      24   \n",
            "7039  2234-XADUH  Female              0     Yes        Yes      72   \n",
            "7040  4801-JZAZL  Female              0     Yes        Yes      11   \n",
            "7041  8361-LTMKD    Male              1     Yes         No       4   \n",
            "7042  3186-AJIEK    Male              0      No         No      66   \n",
            "\n",
            "     PhoneService     MultipleLines InternetService       OnlineSecurity  ...  \\\n",
            "7033          Yes                No     Fiber optic                   No  ...   \n",
            "7034          Yes               Yes     Fiber optic                  Yes  ...   \n",
            "7035          Yes                No     Fiber optic                   No  ...   \n",
            "7036           No  No phone service             DSL                   No  ...   \n",
            "7037          Yes                No              No  No internet service  ...   \n",
            "7038          Yes               Yes             DSL                  Yes  ...   \n",
            "7039          Yes               Yes     Fiber optic                   No  ...   \n",
            "7040           No  No phone service             DSL                  Yes  ...   \n",
            "7041          Yes               Yes     Fiber optic                   No  ...   \n",
            "7042          Yes                No     Fiber optic                  Yes  ...   \n",
            "\n",
            "         DeviceProtection          TechSupport          StreamingTV  \\\n",
            "7033                   No                   No                   No   \n",
            "7034                  Yes                   No                  Yes   \n",
            "7035                   No                   No                  Yes   \n",
            "7036                  Yes                  Yes                  Yes   \n",
            "7037  No internet service  No internet service  No internet service   \n",
            "7038                  Yes                  Yes                  Yes   \n",
            "7039                  Yes                   No                  Yes   \n",
            "7040                   No                   No                   No   \n",
            "7041                   No                   No                   No   \n",
            "7042                  Yes                  Yes                  Yes   \n",
            "\n",
            "          StreamingMovies        Contract PaperlessBilling  \\\n",
            "7033                   No  Month-to-month              Yes   \n",
            "7034                   No  Month-to-month              Yes   \n",
            "7035                   No  Month-to-month              Yes   \n",
            "7036                  Yes        One year               No   \n",
            "7037  No internet service        Two year              Yes   \n",
            "7038                  Yes        One year              Yes   \n",
            "7039                  Yes        One year              Yes   \n",
            "7040                   No  Month-to-month              Yes   \n",
            "7041                   No  Month-to-month              Yes   \n",
            "7042                  Yes        Two year              Yes   \n",
            "\n",
            "                  PaymentMethod MonthlyCharges  TotalCharges Churn  \n",
            "7033    Credit card (automatic)          69.50       2625.25    No  \n",
            "7034    Credit card (automatic)         102.95       6886.25   Yes  \n",
            "7035  Bank transfer (automatic)          78.70        1495.1    No  \n",
            "7036           Electronic check          60.65         743.3    No  \n",
            "7037  Bank transfer (automatic)          21.15        1419.4    No  \n",
            "7038               Mailed check          84.80        1990.5    No  \n",
            "7039    Credit card (automatic)         103.20        7362.9    No  \n",
            "7040           Electronic check          29.60        346.45    No  \n",
            "7041               Mailed check          74.40         306.6   Yes  \n",
            "7042  Bank transfer (automatic)         105.65        6844.5    No  \n",
            "\n",
            "[10 rows x 21 columns]\n"
          ]
        }
      ]
    },
    {
      "cell_type": "code",
      "source": [
        "last_record = churn_data.tail(1)\n",
        "print(last_record)"
      ],
      "metadata": {
        "colab": {
          "base_uri": "https://localhost:8080/"
        },
        "id": "2PDk-8q4HmK-",
        "outputId": "86da4390-7ade-4297-e4f4-df55176a1ae7"
      },
      "execution_count": 59,
      "outputs": [
        {
          "output_type": "stream",
          "name": "stdout",
          "text": [
            "      customerID gender  SeniorCitizen Partner Dependents  tenure  \\\n",
            "7042  3186-AJIEK   Male              0      No         No      66   \n",
            "\n",
            "     PhoneService MultipleLines InternetService OnlineSecurity  ...  \\\n",
            "7042          Yes            No     Fiber optic            Yes  ...   \n",
            "\n",
            "     DeviceProtection TechSupport StreamingTV StreamingMovies  Contract  \\\n",
            "7042              Yes         Yes         Yes             Yes  Two year   \n",
            "\n",
            "     PaperlessBilling              PaymentMethod MonthlyCharges  TotalCharges  \\\n",
            "7042              Yes  Bank transfer (automatic)         105.65        6844.5   \n",
            "\n",
            "     Churn  \n",
            "7042    No  \n",
            "\n",
            "[1 rows x 21 columns]\n"
          ]
        }
      ]
    },
    {
      "cell_type": "markdown",
      "source": [
        "## **ASSIGNMENT 4**"
      ],
      "metadata": {
        "id": "8aE_djCsHpvZ"
      }
    },
    {
      "cell_type": "markdown",
      "source": [
        "1. Now from the churn data frame, try to sort the data by the tenure column according to the descending order."
      ],
      "metadata": {
        "id": "TlFBn1mpH2Ez"
      }
    },
    {
      "cell_type": "code",
      "source": [
        "sorted_data = churn_data.sort_values(by='tenure', ascending=False)\n",
        "print(sorted_data.head())"
      ],
      "metadata": {
        "colab": {
          "base_uri": "https://localhost:8080/"
        },
        "id": "nk_FDSIzH1Vv",
        "outputId": "1670274a-198b-457a-a777-361a5df75588"
      },
      "execution_count": 60,
      "outputs": [
        {
          "output_type": "stream",
          "name": "stdout",
          "text": [
            "      customerID  gender  SeniorCitizen Partner Dependents  tenure  \\\n",
            "1672  4737-AQCPU    Male              0     Yes        Yes      72   \n",
            "193   9680-NIAUV  Female              0     Yes        Yes      72   \n",
            "4553  5914-XRFQB    Male              0     Yes         No      72   \n",
            "483   5168-MQQCA  Female              0     Yes         No      72   \n",
            "3266  0464-WJTKO  Female              0     Yes        Yes      72   \n",
            "\n",
            "     PhoneService MultipleLines InternetService       OnlineSecurity  ...  \\\n",
            "1672          Yes           Yes             DSL                  Yes  ...   \n",
            "193           Yes           Yes     Fiber optic                  Yes  ...   \n",
            "4553          Yes           Yes     Fiber optic                  Yes  ...   \n",
            "483           Yes           Yes     Fiber optic                   No  ...   \n",
            "3266          Yes            No              No  No internet service  ...   \n",
            "\n",
            "         DeviceProtection          TechSupport          StreamingTV  \\\n",
            "1672                  Yes                  Yes                   No   \n",
            "193                   Yes                   No                  Yes   \n",
            "4553                  Yes                  Yes                  Yes   \n",
            "483                   Yes                  Yes                  Yes   \n",
            "3266  No internet service  No internet service  No internet service   \n",
            "\n",
            "          StreamingMovies  Contract PaperlessBilling  \\\n",
            "1672                   No  Two year               No   \n",
            "193                   Yes  Two year               No   \n",
            "4553                  Yes  Two year              Yes   \n",
            "483                   Yes  One year              Yes   \n",
            "3266  No internet service  Two year               No   \n",
            "\n",
            "                  PaymentMethod MonthlyCharges  TotalCharges Churn  \n",
            "1672    Credit card (automatic)           72.1       5016.65    No  \n",
            "193     Credit card (automatic)          109.7        8129.3    No  \n",
            "4553  Bank transfer (automatic)          115.8        8424.9    No  \n",
            "483   Bank transfer (automatic)          108.5        8003.8    No  \n",
            "3266  Bank transfer (automatic)           20.1       1460.85    No  \n",
            "\n",
            "[5 rows x 21 columns]\n"
          ]
        }
      ]
    },
    {
      "cell_type": "markdown",
      "source": [
        "2. Fetch all the records that are satisfying the following condition:\n",
        "\n",
        "a. Tenure>50 and the gender as ‘Female’.\n",
        "\n",
        "b. Gender as ‘Male’ and SeniorCitizen as 0.\n",
        "\n",
        "c. TechSupport as ‘Yes’ and Churn as ‘No’.\n",
        "\n",
        "d. Contract type as ‘Month-to-month’ and Churn as‘Yes’."
      ],
      "metadata": {
        "id": "HTVkf0k2H8c1"
      }
    },
    {
      "cell_type": "code",
      "source": [
        "condition_a = churn_data[(churn_data['tenure'] > 50) & (churn_data['gender'] == 'Female')]\n",
        "print(condition_a.head())"
      ],
      "metadata": {
        "colab": {
          "base_uri": "https://localhost:8080/"
        },
        "id": "chfJFyj3IBYO",
        "outputId": "55047ac3-12b5-4f4a-ddf9-46b8e9859196"
      },
      "execution_count": 61,
      "outputs": [
        {
          "output_type": "stream",
          "name": "stdout",
          "text": [
            "    customerID  gender  SeniorCitizen Partner Dependents  tenure PhoneService  \\\n",
            "15  3655-SNQYZ  Female              0     Yes        Yes      69          Yes   \n",
            "16  8191-XWSZG  Female              0      No         No      52          Yes   \n",
            "23  3638-WEABW  Female              0     Yes         No      58          Yes   \n",
            "30  3841-NFECX  Female              1     Yes         No      71          Yes   \n",
            "35  6234-RAAPL  Female              0     Yes        Yes      72          Yes   \n",
            "\n",
            "   MultipleLines InternetService       OnlineSecurity  ...  \\\n",
            "15           Yes     Fiber optic                  Yes  ...   \n",
            "16            No              No  No internet service  ...   \n",
            "23           Yes             DSL                   No  ...   \n",
            "30           Yes     Fiber optic                  Yes  ...   \n",
            "35           Yes     Fiber optic                  Yes  ...   \n",
            "\n",
            "       DeviceProtection          TechSupport          StreamingTV  \\\n",
            "15                  Yes                  Yes                  Yes   \n",
            "16  No internet service  No internet service  No internet service   \n",
            "23                   No                  Yes                   No   \n",
            "30                  Yes                  Yes                   No   \n",
            "35                   No                  Yes                  Yes   \n",
            "\n",
            "        StreamingMovies  Contract PaperlessBilling              PaymentMethod  \\\n",
            "15                  Yes  Two year               No    Credit card (automatic)   \n",
            "16  No internet service  One year               No               Mailed check   \n",
            "23                   No  Two year              Yes    Credit card (automatic)   \n",
            "30                   No  Two year              Yes    Credit card (automatic)   \n",
            "35                   No  Two year               No  Bank transfer (automatic)   \n",
            "\n",
            "   MonthlyCharges  TotalCharges Churn  \n",
            "15         113.25       7895.15    No  \n",
            "16          20.65       1022.95    No  \n",
            "23          59.90        3505.1    No  \n",
            "30          96.35       6766.95    No  \n",
            "35          99.90        7251.7    No  \n",
            "\n",
            "[5 rows x 21 columns]\n"
          ]
        }
      ]
    },
    {
      "cell_type": "code",
      "source": [
        "condition_b = churn_data[(churn_data['gender'] == 'Male') & (churn_data['SeniorCitizen'] == 0)]\n",
        "print(condition_b.head())"
      ],
      "metadata": {
        "colab": {
          "base_uri": "https://localhost:8080/"
        },
        "id": "baLqwlHvIG2K",
        "outputId": "5dcc66c4-4de4-40a5-c269-c051173b8b0e"
      },
      "execution_count": 62,
      "outputs": [
        {
          "output_type": "stream",
          "name": "stdout",
          "text": [
            "   customerID gender  SeniorCitizen Partner Dependents  tenure PhoneService  \\\n",
            "1  5575-GNVDE   Male              0      No         No      34          Yes   \n",
            "2  3668-QPYBK   Male              0      No         No       2          Yes   \n",
            "3  7795-CFOCW   Male              0      No         No      45           No   \n",
            "6  1452-KIOVK   Male              0      No        Yes      22          Yes   \n",
            "9  6388-TABGU   Male              0      No        Yes      62          Yes   \n",
            "\n",
            "      MultipleLines InternetService OnlineSecurity  ... DeviceProtection  \\\n",
            "1                No             DSL            Yes  ...              Yes   \n",
            "2                No             DSL            Yes  ...               No   \n",
            "3  No phone service             DSL            Yes  ...              Yes   \n",
            "6               Yes     Fiber optic             No  ...               No   \n",
            "9                No             DSL            Yes  ...               No   \n",
            "\n",
            "  TechSupport StreamingTV StreamingMovies        Contract PaperlessBilling  \\\n",
            "1          No          No              No        One year               No   \n",
            "2          No          No              No  Month-to-month              Yes   \n",
            "3         Yes          No              No        One year               No   \n",
            "6          No         Yes              No  Month-to-month              Yes   \n",
            "9          No          No              No        One year               No   \n",
            "\n",
            "               PaymentMethod MonthlyCharges  TotalCharges Churn  \n",
            "1               Mailed check          56.95        1889.5    No  \n",
            "2               Mailed check          53.85        108.15   Yes  \n",
            "3  Bank transfer (automatic)          42.30       1840.75    No  \n",
            "6    Credit card (automatic)          89.10        1949.4    No  \n",
            "9  Bank transfer (automatic)          56.15       3487.95    No  \n",
            "\n",
            "[5 rows x 21 columns]\n"
          ]
        }
      ]
    },
    {
      "cell_type": "code",
      "source": [
        "condition_c = churn_data[(churn_data['TechSupport'] == 'Yes') & (churn_data['Churn'] == 'No')]\n",
        "print(condition_c.head())"
      ],
      "metadata": {
        "colab": {
          "base_uri": "https://localhost:8080/"
        },
        "id": "TyFykVhYIGdr",
        "outputId": "d42b2484-8b89-4b61-96e4-f6ce2589e935"
      },
      "execution_count": 63,
      "outputs": [
        {
          "output_type": "stream",
          "name": "stdout",
          "text": [
            "    customerID  gender  SeniorCitizen Partner Dependents  tenure PhoneService  \\\n",
            "3   7795-CFOCW    Male              0      No         No      45           No   \n",
            "14  5129-JLPIS    Male              0      No         No      25          Yes   \n",
            "15  3655-SNQYZ  Female              0     Yes        Yes      69          Yes   \n",
            "23  3638-WEABW  Female              0     Yes         No      58          Yes   \n",
            "24  6322-HRPFA    Male              0     Yes        Yes      49          Yes   \n",
            "\n",
            "       MultipleLines InternetService OnlineSecurity  ... DeviceProtection  \\\n",
            "3   No phone service             DSL            Yes  ...              Yes   \n",
            "14                No     Fiber optic            Yes  ...              Yes   \n",
            "15               Yes     Fiber optic            Yes  ...              Yes   \n",
            "23               Yes             DSL             No  ...               No   \n",
            "24                No             DSL            Yes  ...               No   \n",
            "\n",
            "   TechSupport StreamingTV StreamingMovies        Contract PaperlessBilling  \\\n",
            "3          Yes          No              No        One year               No   \n",
            "14         Yes         Yes             Yes  Month-to-month              Yes   \n",
            "15         Yes         Yes             Yes        Two year               No   \n",
            "23         Yes          No              No        Two year              Yes   \n",
            "24         Yes          No              No  Month-to-month               No   \n",
            "\n",
            "                PaymentMethod MonthlyCharges  TotalCharges Churn  \n",
            "3   Bank transfer (automatic)          42.30       1840.75    No  \n",
            "14           Electronic check         105.50       2686.05    No  \n",
            "15    Credit card (automatic)         113.25       7895.15    No  \n",
            "23    Credit card (automatic)          59.90        3505.1    No  \n",
            "24    Credit card (automatic)          59.60        2970.3    No  \n",
            "\n",
            "[5 rows x 21 columns]\n"
          ]
        }
      ]
    },
    {
      "cell_type": "code",
      "source": [
        "condition_d = churn_data[(churn_data['Contract'] == 'Month-to-month') & (churn_data['Churn'] == 'Yes')]\n",
        "print(condition_d.head())"
      ],
      "metadata": {
        "colab": {
          "base_uri": "https://localhost:8080/"
        },
        "id": "FgB_N1MfIGSd",
        "outputId": "4d987507-f921-494d-d863-f384b6f3881a"
      },
      "execution_count": 64,
      "outputs": [
        {
          "output_type": "stream",
          "name": "stdout",
          "text": [
            "    customerID  gender  SeniorCitizen Partner Dependents  tenure PhoneService  \\\n",
            "2   3668-QPYBK    Male              0      No         No       2          Yes   \n",
            "4   9237-HQITU  Female              0      No         No       2          Yes   \n",
            "5   9305-CDSKC  Female              0      No         No       8          Yes   \n",
            "8   7892-POOKP  Female              0     Yes         No      28          Yes   \n",
            "13  0280-XJGEX    Male              0      No         No      49          Yes   \n",
            "\n",
            "   MultipleLines InternetService OnlineSecurity  ... DeviceProtection  \\\n",
            "2             No             DSL            Yes  ...               No   \n",
            "4             No     Fiber optic             No  ...               No   \n",
            "5            Yes     Fiber optic             No  ...              Yes   \n",
            "8            Yes     Fiber optic             No  ...              Yes   \n",
            "13           Yes     Fiber optic             No  ...              Yes   \n",
            "\n",
            "   TechSupport StreamingTV StreamingMovies        Contract PaperlessBilling  \\\n",
            "2           No          No              No  Month-to-month              Yes   \n",
            "4           No          No              No  Month-to-month              Yes   \n",
            "5           No         Yes             Yes  Month-to-month              Yes   \n",
            "8          Yes         Yes             Yes  Month-to-month              Yes   \n",
            "13          No         Yes             Yes  Month-to-month              Yes   \n",
            "\n",
            "                PaymentMethod MonthlyCharges  TotalCharges Churn  \n",
            "2                Mailed check          53.85        108.15   Yes  \n",
            "4            Electronic check          70.70        151.65   Yes  \n",
            "5            Electronic check          99.65         820.5   Yes  \n",
            "8            Electronic check         104.80       3046.05   Yes  \n",
            "13  Bank transfer (automatic)         103.70        5036.3   Yes  \n",
            "\n",
            "[5 rows x 21 columns]\n"
          ]
        }
      ]
    },
    {
      "cell_type": "markdown",
      "source": [
        "## **ASSIGNMENT 5**"
      ],
      "metadata": {
        "id": "hCcJ8NojJ0c1"
      }
    },
    {
      "cell_type": "markdown",
      "source": [
        "**1. Use a for loop to calculate the number of customers that are getting the tech support and are male senior citizen.**"
      ],
      "metadata": {
        "id": "8UgamSRKIVZf"
      }
    },
    {
      "cell_type": "code",
      "source": [
        "# Initialize a count variable to 0\n",
        "count = 0\n",
        "\n",
        "# Loop through each row in the dataframe\n",
        "for index, row in churn_data.iterrows():\n",
        "    # Check if the customer is a male senior citizen and getting tech support\n",
        "    if row['gender'] == 'Male' and row['SeniorCitizen'] == 1 and row['TechSupport'] == 'Yes':\n",
        "        # If the condition is true, increment the count\n",
        "        count += 1\n",
        "\n",
        "# Print the count of customers getting tech support and are male senior citizen\n",
        "print(\"Number of customers getting tech support and are male senior citizen:\", count)"
      ],
      "metadata": {
        "colab": {
          "base_uri": "https://localhost:8080/"
        },
        "id": "rUZ94qtMIYFJ",
        "outputId": "062c2cd2-acbe-4a0d-852a-5b553d053446"
      },
      "execution_count": 75,
      "outputs": [
        {
          "output_type": "stream",
          "name": "stdout",
          "text": [
            "Number of customers getting tech support and are male senior citizen: 119\n"
          ]
        }
      ]
    },
    {
      "cell_type": "markdown",
      "source": [
        "## **CASE STUDY 1**"
      ],
      "metadata": {
        "id": "eMivYG8TKUi7"
      }
    },
    {
      "cell_type": "markdown",
      "source": [
        "1. Write a function that takes start and end of a range returns a Pandas series object containing numbers within that range.\n",
        " In case the user does not pass start or end or both they should default to 1 and 10 respectively.\n",
        "\n",
        "e.g. ->\n",
        "\n",
        "range_series() -> Should Return a pandas series from 1 to 10\n",
        "\n",
        "range_series(5) -> Should Return a pandas series from 5 to 10\n",
        "\n",
        "range_series(5, 10) -> Should Return a pandas series from 5 to 15\n",
        "\n",
        "Create a method that takes n numpy arrays of same dimensions sums them and return the answer."
      ],
      "metadata": {
        "id": "wPk_RN82KYiC"
      }
    },
    {
      "cell_type": "code",
      "source": [
        "import pandas as pd\n",
        "\n",
        "def range_series(start=1, end=10):\n",
        "    \n",
        "    # Create a range of numbers using the specified start and end values\n",
        "    numbers = range(start, end+1)\n",
        "\n",
        "    # Convert the range to a Pandas series and return it\n",
        "    return pd.Series(numbers)"
      ],
      "metadata": {
        "id": "8jzQZcWwKXkR"
      },
      "execution_count": 66,
      "outputs": []
    },
    {
      "cell_type": "code",
      "source": [
        "# Call the function with default parameters\n",
        "series1 = range_series()\n",
        "print(series1)\n",
        "\n",
        "# Call the function with a start parameter of 5\n",
        "series2 = range_series(5)\n",
        "print(series2)\n",
        "\n",
        "# Call the function with a start parameter of 5 and an end parameter of 15\n",
        "series3 = range_series(5, 15)\n",
        "print(series3)"
      ],
      "metadata": {
        "colab": {
          "base_uri": "https://localhost:8080/"
        },
        "id": "bwnU1qqZK6wO",
        "outputId": "fbde8f28-fe8f-4915-acb0-e56a73b3ea30"
      },
      "execution_count": 67,
      "outputs": [
        {
          "output_type": "stream",
          "name": "stdout",
          "text": [
            "0     1\n",
            "1     2\n",
            "2     3\n",
            "3     4\n",
            "4     5\n",
            "5     6\n",
            "6     7\n",
            "7     8\n",
            "8     9\n",
            "9    10\n",
            "dtype: int64\n",
            "0     5\n",
            "1     6\n",
            "2     7\n",
            "3     8\n",
            "4     9\n",
            "5    10\n",
            "dtype: int64\n",
            "0      5\n",
            "1      6\n",
            "2      7\n",
            "3      8\n",
            "4      9\n",
            "5     10\n",
            "6     11\n",
            "7     12\n",
            "8     13\n",
            "9     14\n",
            "10    15\n",
            "dtype: int64\n"
          ]
        }
      ]
    },
    {
      "cell_type": "markdown",
      "source": [
        "2. Create a function that takes in two lists named keys and values as arguments.\n",
        " - Keys would be strings and contain n string values.\n",
        " - Values would be a list containing n lists.\n",
        " - The methods should return a new pandas data frame with keys as column names and values as their corresponding values\n",
        " \n",
        " e.g. ->create_dataframe([\"One\", \"Two\"], [[\"X\", \"Y\"], [\"A\", \"B\"]]) -> should return a data frame\n",
        " \n",
        " One Two\n",
        " \n",
        " 0 X A\n",
        " \n",
        " 1 Y B"
      ],
      "metadata": {
        "id": "oZZuI6PzLGfZ"
      }
    },
    {
      "cell_type": "code",
      "source": [
        "def create_dataframe(keys, values):\n",
        "    data = {}\n",
        "    for i in range(len(keys)):\n",
        "        data[keys[i]] = values[i]\n",
        "    df = pd.DataFrame(data)\n",
        "    return df"
      ],
      "metadata": {
        "id": "NItep5d0K-WQ"
      },
      "execution_count": 68,
      "outputs": []
    },
    {
      "cell_type": "code",
      "source": [
        "keys = [\"One\", \"Two\"]\n",
        "values = [[\"X\", \"Y\"], [\"A\", \"B\"]]\n",
        "df = create_dataframe(keys, values)\n",
        "print(df)"
      ],
      "metadata": {
        "colab": {
          "base_uri": "https://localhost:8080/"
        },
        "id": "hCD3lOE0Lckf",
        "outputId": "654ff73a-d8c8-4ad1-cf91-43b2240909af"
      },
      "execution_count": 69,
      "outputs": [
        {
          "output_type": "stream",
          "name": "stdout",
          "text": [
            "  One Two\n",
            "0   X   A\n",
            "1   Y   B\n"
          ]
        }
      ]
    },
    {
      "cell_type": "markdown",
      "source": [
        "3. Create a function that concatenates two dataframes. Use previously created function to create two dataframes and pass them as parameters Make sure that the indexes are reset before returning:"
      ],
      "metadata": {
        "id": "lB3SqGenLoO0"
      }
    },
    {
      "cell_type": "code",
      "source": [
        "def concatenate_dataframes(df1, df2):\n",
        "    # concatenate the two dataframes\n",
        "    result = pd.concat([df1, df2])\n",
        "    \n",
        "    # reset the indexes\n",
        "    result = result.reset_index(drop=True)\n",
        "    \n",
        "    return result"
      ],
      "metadata": {
        "id": "Jxx4FDnVLeU_"
      },
      "execution_count": 70,
      "outputs": []
    },
    {
      "cell_type": "code",
      "source": [
        "df1 = create_dataframe([\"One\", \"Two\"], [[\"X\", \"Y\"], [\"A\", \"B\"]])\n",
        "df2 = create_dataframe([\"Three\", \"Four\"], [[\"C\", \"D\"], [\"E\", \"F\"]])\n",
        "concatenated_df = concatenate_dataframes(df1, df2)"
      ],
      "metadata": {
        "id": "bvt8mkSULy-d"
      },
      "execution_count": 71,
      "outputs": []
    },
    {
      "cell_type": "markdown",
      "source": [
        "4. Write code to load data from cars.csv into a dataframe and print it's details. Details like: 'count', 'mean', 'std', 'min', '25%', '50%', '75%', 'max'."
      ],
      "metadata": {
        "id": "7lAY-5S1MF0Z"
      }
    },
    {
      "cell_type": "code",
      "source": [
        "# Load data from cars.csv into a dataframe\n",
        "cars_data = pd.read_csv('cars.csv')\n",
        "\n",
        "# Print dataframe details\n",
        "print(cars_data.describe())"
      ],
      "metadata": {
        "colab": {
          "base_uri": "https://localhost:8080/"
        },
        "id": "82pFiHQkL7pA",
        "outputId": "3b6c7ed0-a1e7-45cf-aa79-9edc8a18b1f1"
      },
      "execution_count": 72,
      "outputs": [
        {
          "output_type": "stream",
          "name": "stdout",
          "text": [
            "            S.No        mpg        cyl        disp          hp       drat  \\\n",
            "count  32.000000  32.000000  32.000000   32.000000   32.000000  32.000000   \n",
            "mean   16.500000  20.090625   6.187500  230.721875  146.687500   3.596563   \n",
            "std     9.380832   6.026948   1.785922  123.938694   68.562868   0.534679   \n",
            "min     1.000000  10.400000   4.000000   71.100000   52.000000   2.760000   \n",
            "25%     8.750000  15.425000   4.000000  120.825000   96.500000   3.080000   \n",
            "50%    16.500000  19.200000   6.000000  196.300000  123.000000   3.695000   \n",
            "75%    24.250000  22.800000   8.000000  326.000000  180.000000   3.920000   \n",
            "max    32.000000  33.900000   8.000000  472.000000  335.000000   4.930000   \n",
            "\n",
            "              wt       qsec         vs         am       gear     carb  \n",
            "count  32.000000  29.000000  32.000000  32.000000  32.000000  32.0000  \n",
            "mean    3.217250  17.674828   0.437500   0.406250   3.687500   2.8125  \n",
            "std     0.978457   1.780394   0.504016   0.498991   0.737804   1.6152  \n",
            "min     1.513000  14.500000   0.000000   0.000000   3.000000   1.0000  \n",
            "25%     2.581250  16.870000   0.000000   0.000000   3.000000   2.0000  \n",
            "50%     3.325000  17.420000   0.000000   0.000000   4.000000   2.0000  \n",
            "75%     3.610000  18.600000   1.000000   1.000000   4.000000   4.0000  \n",
            "max     5.424000  22.900000   1.000000   1.000000   5.000000   8.0000  \n"
          ]
        }
      ]
    },
    {
      "cell_type": "markdown",
      "source": [
        "5. Write a method that will take a column name as argument and return the name of the column with which the given column has the highest correlation.\n",
        " \n",
        " The data to be used is the cars dataset.\n",
        " \n",
        " The returned value should not the column named that was passed as the parameters.\n",
        " \n",
        " E.G: get_max_correlated_column('mpg') -> should return 'drat'"
      ],
      "metadata": {
        "id": "zrSKQMnDMfTO"
      }
    },
    {
      "cell_type": "code",
      "source": [
        "def get_max_correlated_column(column_name):\n",
        "    cars_df = pd.read_csv('cars.csv')\n",
        "    corr_df = cars_df.corr(numeric_only=True)[column_name].abs().sort_values(ascending=False)\n",
        "    max_corr_col = corr_df.index[1] # index 0 is the column itself\n",
        "    return max_corr_col"
      ],
      "metadata": {
        "id": "p1veVZpyMOaB"
      },
      "execution_count": 73,
      "outputs": []
    },
    {
      "cell_type": "code",
      "source": [
        "max_corr_col = get_max_correlated_column('mpg')\n",
        "print(max_corr_col) "
      ],
      "metadata": {
        "colab": {
          "base_uri": "https://localhost:8080/"
        },
        "id": "0wl_wEvCMth4",
        "outputId": "0f43d194-35fb-4af7-9c8f-086946c30031"
      },
      "execution_count": 74,
      "outputs": [
        {
          "output_type": "stream",
          "name": "stdout",
          "text": [
            "wt\n"
          ]
        }
      ]
    }
  ]
}