{
  "cells": [
    {
      "cell_type": "code",
      "execution_count": null,
      "id": "f14811dd",
      "metadata": {
        "id": "f14811dd",
        "outputId": "cc37b127-4f9d-470b-a315-000b66794300"
      },
      "outputs": [
        {
          "ename": "ModuleNotFoundError",
          "evalue": "No module named 'module'",
          "output_type": "error",
          "traceback": [
            "\u001b[0;31m---------------------------------------------------------------------------\u001b[0m",
            "\u001b[0;31mModuleNotFoundError\u001b[0m                       Traceback (most recent call last)",
            "Input \u001b[0;32mIn [2]\u001b[0m, in \u001b[0;36m<cell line: 24>\u001b[0;34m()\u001b[0m\n\u001b[1;32m     19\u001b[0m     \u001b[38;5;28;01mreturn\u001b[39;00m (a\u001b[38;5;241m/\u001b[39mb)\n\u001b[1;32m     21\u001b[0m \u001b[38;5;66;03m# Open a new python file and import the Module.py file.\u001b[39;00m\n\u001b[1;32m     22\u001b[0m \u001b[38;5;66;03m#   a. Now call the 4 methods from the Module.py file, i.e., addition(), subtraction(), multiplication(), and division().\u001b[39;00m\n\u001b[0;32m---> 24\u001b[0m \u001b[38;5;28;01mimport\u001b[39;00m \u001b[38;5;21;01mmodule\u001b[39;00m\n\u001b[1;32m     26\u001b[0m add \u001b[38;5;241m=\u001b[39m module\u001b[38;5;241m.\u001b[39maddition(\u001b[38;5;241m10\u001b[39m,\u001b[38;5;241m5\u001b[39m)\n\u001b[1;32m     27\u001b[0m \u001b[38;5;28mprint\u001b[39m(add)\n",
            "\u001b[0;31mModuleNotFoundError\u001b[0m: No module named 'module'"
          ]
        }
      ],
      "source": [
        "# Getting Started with Python (Hands-on 1)\n",
        "\n",
        "# Module 1 - Getting Started with Python\n",
        "\n",
        "# 1. Create a python file named Module.\n",
        "#   a. Inside the file, define 4 methods named – addition, subtraction, multiplication and division.\n",
        "#   b. Each method should only accept 2 arguments and should return the result of the operation performed in each method. For e.g., addition() should return the sum of two arguments.\n",
        "#   c. Save the Module file in .py format.\n",
        "\n",
        "# creating the module\n",
        "\n",
        "def addition(a,b):\n",
        "    return a+b\n",
        "def subtraction(a,b):\n",
        "    return a-b\n",
        "def multiplication(a,b):\n",
        "    return a*b\n",
        "def division(a,b):\n",
        "    return a/b\n",
        "\n",
        "# Open a new python file and import the Module.py file.\n",
        "#   a. Now call the 4 methods from the Module.py file, i.e., addition(), subtraction(), multiplication(), and division().\n",
        "\n",
        "import module\n",
        "\n",
        "add = module.addition(10,5)\n",
        "print(add)\n",
        "\n",
        "sub = module.subtraction(10,5)\n",
        "print(sub)\n",
        "\n",
        "mul = module.multiplication(10,5)\n",
        "print(mul)\n",
        "\n",
        "div = module.division(10,5)\n",
        "print(div)\n",
        "\n",
        "# From the Module file, import only the addition() and pass the arguments so that it can display the result from the method.\n",
        "\n",
        "from module import addition\n",
        "a = addition(11,3)\n",
        "print(a)\n",
        "\n",
        "# From the Module file, import only the subtraction() and pass the arguments so that it can display the result from the method.\n",
        "\n",
        "from module import subtraction\n",
        "b = subtraction(11,4)\n",
        "print(b)\n",
        "\n",
        "# From the Module file, import both the multiplication() and division() and pass the arguments so that it can display the result from the methods.\n",
        "\n",
        "from module import multiplication\n",
        "c = multiplication(11,5)\n",
        "print(c)\n",
        "\n",
        "from module import division\n",
        "d = division(15,3)\n",
        "print(d)\n"
      ]
    },
    {
      "cell_type": "code",
      "execution_count": null,
      "id": "606df14b",
      "metadata": {
        "colab": {
          "base_uri": "https://localhost:8080/"
        },
        "id": "606df14b",
        "outputId": "87207690-555c-4292-8e40-208db26444e9"
      },
      "outputs": [
        {
          "output_type": "stream",
          "name": "stdout",
          "text": [
            "Enter first number: 3\n",
            "Enter second number: 5\n",
            "3 is lesser than 5\n"
          ]
        }
      ],
      "source": [
        "# a. Create a python if-else program to check if the given numbers are greater or not, also \n",
        "\n",
        "num1 = input('Enter first number: ')\n",
        "num2 = input('Enter second number: ')\n",
        "\n",
        "if num1 > num2:\n",
        "    print(f'{num1} is greater than {num2}')\n",
        "else:\n",
        "    print(f'{num1} is lesser than {num2}')\n"
      ]
    },
    {
      "cell_type": "code",
      "execution_count": null,
      "id": "6bcb28a0",
      "metadata": {
        "id": "6bcb28a0",
        "outputId": "eb415df1-cc8c-4e86-ce78-c05319ab124d"
      },
      "outputs": [
        {
          "name": "stdout",
          "output_type": "stream",
          "text": [
            "Enter the number: 555\n",
            "It is not an Armstrong number\n"
          ]
        }
      ],
      "source": [
        "# b. check whether the given number is an armstrong number or not, and \n",
        "\n",
        "# Armstrong number - sum of cube of each digit is equal to the number\n",
        "# 153 = (1**3) + (5**3) + (3**3) = 1 + 45 + 27 = 153\n",
        "\n",
        "n = int(input('Enter the number: '))\n",
        "sum = 0\n",
        "temp = n\n",
        "\n",
        "while temp > 0:\n",
        "    digit = temp % 10   #returns last digit\n",
        "    sum += digit**3\n",
        "    temp//=10\n",
        "    \n",
        "if n == sum:\n",
        "    print('It is an Armstrong number')\n",
        "else:\n",
        "    print('It is not an Armstrong number')"
      ]
    },
    {
      "cell_type": "code",
      "execution_count": null,
      "id": "1df82c08",
      "metadata": {
        "id": "1df82c08",
        "outputId": "50b74999-9395-4df3-833d-a1ad7c798770"
      },
      "outputs": [
        {
          "name": "stdout",
          "output_type": "stream",
          "text": [
            "Enter the number: 3\n",
            "3 is a prime number\n"
          ]
        }
      ],
      "source": [
        "# c. check whether the given number is a prime number or not. \n",
        "\n",
        "num = int(input('Enter the number: '))\n",
        "\n",
        "if num > 1:\n",
        "    for i in range(2, int(num/2)+1):\n",
        "        if (num % i) == 0:\n",
        "            print(num, \"is not a prime number\")\n",
        "    else:\n",
        "        print(num, \"is a prime number\")\n",
        "else:\n",
        "    print(num, \"is not a prime number\")"
      ]
    },
    {
      "cell_type": "code",
      "execution_count": null,
      "id": "ad2ea37c",
      "metadata": {
        "colab": {
          "base_uri": "https://localhost:8080/"
        },
        "id": "ad2ea37c",
        "outputId": "155fa147-a8d6-4e8d-ea41-d8c365d82813"
      },
      "outputs": [
        {
          "output_type": "stream",
          "name": "stdout",
          "text": [
            "Enter first number: 4\n",
            "Enter second number: 2\n",
            "Enter the operator: +\n",
            "Result: 6.0\n"
          ]
        }
      ],
      "source": [
        "# Create a calculator program for addition, subtraction, multiplication and floor division. \n",
        "def calculator(num1, num2, choice):\n",
        "    if operator == '+':\n",
        "        return num1 + num2\n",
        "    elif operator == '-':\n",
        "        return num1 - num2\n",
        "    elif operator == '*':\n",
        "        return num1 * num2\n",
        "    elif operator == '//':\n",
        "        return num1 // num2\n",
        "    else:\n",
        "        return \"Invalid input\"\n",
        "\n",
        "# Take input from the user\n",
        "\n",
        "num1 = float(input(\"Enter first number: \"))\n",
        "num2 = float(input(\"Enter second number: \"))\n",
        "\n",
        "operator = (input(\"Enter the operator: \"))\n",
        "\n",
        "result = calculator(num1, num2, operator)\n",
        "\n",
        "print(\"Result:\", result)"
      ]
    },
    {
      "cell_type": "code",
      "execution_count": null,
      "id": "b391e072",
      "metadata": {
        "id": "b391e072",
        "outputId": "2b9138fa-7c5f-49e2-9519-d4fba13b0e9f"
      },
      "outputs": [
        {
          "name": "stdout",
          "output_type": "stream",
          "text": [
            "What should be the length of sequence? 7\n",
            "0\n",
            "1\n",
            "1\n",
            "2\n",
            "3\n",
            "5\n",
            "8\n"
          ]
        }
      ],
      "source": [
        "#  Create a fibonacci sequence using python if-else statements.\n",
        "\n",
        "def fibo(n):\n",
        "            if n <= 1:\n",
        "                return n\n",
        "            else:\n",
        "                return(fibo(n-1) + fibo(n-2))\n",
        "            \n",
        "length = int(input('What should be the length of sequence? '))\n",
        "            \n",
        "if length <= 0:\n",
        "    print(\"Please enter a positive integer\")\n",
        "else:\n",
        "    for i in range(length):  \n",
        "        print(fibo(i))    "
      ]
    },
    {
      "cell_type": "code",
      "execution_count": null,
      "id": "c22a8664",
      "metadata": {
        "id": "c22a8664",
        "outputId": "951a1157-c8d8-42b6-ead5-2e48b04a5e0e"
      },
      "outputs": [
        {
          "name": "stdout",
          "output_type": "stream",
          "text": [
            "Enter no. of items5\n",
            "Fibonacci sequence:\n",
            "0\n",
            "1\n",
            "1\n",
            "2\n",
            "3\n"
          ]
        }
      ],
      "source": [
        "n = int(input(\"Enter the length of the Fibonacci sequence: \"))\n",
        "\n",
        "# initialize the first two terms of the sequence\n",
        "a, b = 0, 1\n",
        "\n",
        "# print the first two terms\n",
        "print(a)\n",
        "print(b)\n",
        "\n",
        "# generate the rest of the sequence using if-else statements\n",
        "if n > 2:\n",
        "    for i in range(2, n):\n",
        "        if i % 2 == 0:\n",
        "            a = a + b\n",
        "            print(a)\n",
        "        else:\n",
        "            b = a + b\n",
        "            print(b)"
      ]
    },
    {
      "cell_type": "code",
      "execution_count": 1,
      "id": "746924af",
      "metadata": {
        "colab": {
          "base_uri": "https://localhost:8080/"
        },
        "id": "746924af",
        "outputId": "cfb4234e-a2a6-4438-e1a8-e32c79714688"
      },
      "outputs": [
        {
          "output_type": "execute_result",
          "data": {
            "text/plain": [
              "{'Aadhya_dict': {'Age': 4.1, 'Class': 'pp2', 'weight': 12},\n",
              " 'Aanya_dict': {'Age': 2.5, 'Class': 'Nursery', 'weight': 8},\n",
              " 'Mariam_dict': {'Age': 2.3, 'Class': 'Nursery', 'weight': 6},\n",
              " 'Arheer_dict': {'Age': 2.1, 'Class': 'Nursery', 'weight': 5.8}}"
            ]
          },
          "metadata": {},
          "execution_count": 1
        }
      ],
      "source": [
        "# Create a nested dictionary with values as a nested list for each key in the dictionary.\n",
        "\n",
        "# Create a nested dictionary\n",
        "Kids= {\"Aadhya_dict\" : {\"Age\": 4.1, \"Class\":  \"pp2\" , \"weight\":12},  \n",
        "       \"Aanya_dict\" : {\"Age\" : 2.5, \"Class\" :  \"Nursery\" , \"weight\":8},\n",
        "       \"Mariam_dict\" : {\"Age\": 2.3, \"Class\":  \"Nursery\" , \"weight\":6},\n",
        "       \"Arheer_dict\" : {\"Age\": 2.1, \"Class\":  \"Nursery\" , \"weight\":5.8}}\n",
        "Kids"
      ]
    },
    {
      "cell_type": "code",
      "execution_count": null,
      "id": "c48f1822",
      "metadata": {
        "id": "c48f1822",
        "outputId": "4dd5291d-f0cf-434d-b8c5-49b972eecc03"
      },
      "outputs": [
        {
          "name": "stdout",
          "output_type": "stream",
          "text": [
            "union:  {1, 2, 3, 4, 5, 6, 7, 8}\n",
            "Intersection:  {4, 5}\n"
          ]
        }
      ],
      "source": [
        "#  Create two sets and perform the following:\n",
        "#  a. Union of the two sets\n",
        "#  b. Intersection of the two sets\n",
        "\n",
        "# Create two sets\n",
        "set1 = {1, 2, 3, 4, 5}\n",
        "set2 = {4, 5, 6, 7, 8}\n",
        "\n",
        "# Perform union of the two sets\n",
        "union_set = set1.union(set2)\n",
        "print(\"Union of set1 and set2:\", union_set)\n",
        "\n",
        "# Perform intersection of the two sets\n",
        "intersection_set = set1.intersection(set2)\n",
        "print(\"Intersection of set1 and set2:\", intersection_set)\n"
      ]
    },
    {
      "cell_type": "code",
      "execution_count": null,
      "id": "222f3fa5",
      "metadata": {
        "id": "222f3fa5",
        "outputId": "16a2998f-160a-4046-e391-8a12bb9339d0"
      },
      "outputs": [
        {
          "name": "stdout",
          "output_type": "stream",
          "text": [
            "((1, 'apple'), (2, 'banana'), (3, 'potato'))\n"
          ]
        }
      ],
      "source": [
        "#  Create a nested tuple from the dictionary, with each item in the tuple as a key value pair from the dictionary.\n",
        "\n",
        "dict = {1:'apple', 2:'banana', 3:'potato'}\n",
        "\n",
        "ntuple = tuple(dict.items())\n",
        "\n",
        "print(ntuple)"
      ]
    },
    {
      "cell_type": "code",
      "execution_count": null,
      "id": "d097b3cb",
      "metadata": {
        "colab": {
          "base_uri": "https://localhost:8080/"
        },
        "id": "d097b3cb",
        "outputId": "16ea5ca0-22ec-402c-d15c-1504234a4907"
      },
      "outputs": [
        {
          "output_type": "stream",
          "name": "stdout",
          "text": [
            "The number of elements in the list is: 50\n",
            "The reversed list is: [100, 98, 96, 94, 92, 90, 88, 86, 84, 82, 80, 78, 76, 74, 72, 70, 68, 66, 64, 62, 60, 58, 56, 54, 52, 50, 48, 46, 44, 42, 40, 38, 36, 34, 32, 30, 28, 26, 24, 22, 20, 18, 16, 14, 12, 10, 8, 6, 4, 2]\n",
            "The list sorted in ascending order: [2, 4, 6, 8, 10, 12, 14, 16, 18, 20, 22, 24, 26, 28, 30, 32, 34, 36, 38, 40, 42, 44, 46, 48, 50, 52, 54, 56, 58, 60, 62, 64, 66, 68, 70, 72, 74, 76, 78, 80, 82, 84, 86, 88, 90, 92, 94, 96, 98, 100]\n",
            "The list sorted in descending order: [100, 98, 96, 94, 92, 90, 88, 86, 84, 82, 80, 78, 76, 74, 72, 70, 68, 66, 64, 62, 60, 58, 56, 54, 52, 50, 48, 46, 44, 42, 40, 38, 36, 34, 32, 30, 28, 26, 24, 22, 20, 18, 16, 14, 12, 10, 8, 6, 4, 2]\n",
            "The updated list is: [100, 98, 96, 94, 92, 90, 88, 86, 84, 82, 80, 78, 76, 74, 72, 70, 68, 66, 64, 62, 60, 58, 56, 54, 52, 50, 48, 46, 100, 42, 40, 38, 36, 34, 32, 30, 28, 26, 24, 22, 20, 18, 16, 14, 12, 10, 8, 6, 4, 2]\n",
            "The list with squared elements: [10000, 9604, 9216, 8836, 8464, 8100, 7744, 7396, 7056, 6724, 6400, 6084, 5776, 5476, 5184, 4900, 4624, 4356, 4096, 3844, 3600, 3364, 3136, 2916, 2704, 2500, 2304, 2116, 10000, 1764, 1600, 1444, 1296, 1156, 1024, 900, 784, 676, 576, 484, 400, 324, 256, 196, 144, 100, 64, 36, 16, 4]\n"
          ]
        }
      ],
      "source": [
        "#  Create a list of the first 50 even natural numbers, and perform the following operations.\n",
        "#   a. Count the number of elements in the list.\n",
        "#   b. Reverse the sequence of the list.\n",
        "#   c. Sort the list in ascending and descending order.\n",
        "#   d. Get the index value for the element 44, and update the element with the number 100.\n",
        "#   e. Return a copy of the list, with the resulting list containing the square of each element.\n",
        "\n",
        "# Create a list of the first 50 even natural numbers\n",
        "even_numbers = [i*2 for i in range(1, 51)]\n",
        "\n",
        "# a. Count the number of elements in the list\n",
        "count = len(even_numbers)\n",
        "print(f\"The number of elements in the list is: {count}\")\n",
        "\n",
        "# b. Reverse the sequence of the list\n",
        "even_numbers.reverse()\n",
        "print(f\"The reversed list is: {even_numbers}\")\n",
        "\n",
        "# c. Sort the list in ascending and descending order\n",
        "sorted_asc = sorted(even_numbers)\n",
        "sorted_desc = sorted(even_numbers, reverse=True)\n",
        "print(f\"The list sorted in ascending order: {sorted_asc}\")\n",
        "print(f\"The list sorted in descending order: {sorted_desc}\")\n",
        "\n",
        "# d. Get the index value for the element 44, and update the element with the number 100\n",
        "index_of_44 = even_numbers.index(44)\n",
        "even_numbers[index_of_44] = 100\n",
        "print(f\"The updated list is: {even_numbers}\")\n",
        "\n",
        "# e. Return a copy of the list, with the resulting list containing the square of each element\n",
        "squared_numbers = [num**2 for num in even_numbers]\n",
        "print(f\"The list with squared elements: {squared_numbers}\")\n",
        "\n"
      ]
    },
    {
      "cell_type": "code",
      "execution_count": null,
      "id": "87cea646",
      "metadata": {
        "id": "87cea646"
      },
      "outputs": [],
      "source": [
        "# Create a nested dictionary and perform the following operations.\n",
        "#  a. Return a list with the key value pairs from the dictionary.\n",
        "#  b. Return a list with just the keys from the dictionary.\n",
        "#  c. Remove the first and last key value from the dictionary.\n",
        "#  d. Update the last key value pair in the dictionary after removing in the 3rd step."
      ]
    },
    {
      "cell_type": "code",
      "execution_count": null,
      "id": "2e0983cb",
      "metadata": {
        "id": "2e0983cb",
        "outputId": "9f40ee83-7f52-4725-c7b6-6ad0d5f30dbc"
      },
      "outputs": [
        {
          "name": "stdout",
          "output_type": "stream",
          "text": [
            "The key value pairs are:  dict_items([('John', {'age': 32, 'sex': 'Male'}), ('Tina', {'age': 35, 'sex': 'Female'}), ('Tia', {'age': 30, 'sex': 'Female'})])\n",
            "The keys are:  dict_keys(['John', 'Tina', 'Tia'])\n",
            "{'Tina': {'age': 35, 'sex': 'Female'}}\n"
          ]
        }
      ],
      "source": [
        "people = {'John':{'age': 32, 'sex': 'Male'}, 'Tina':{'age':35, 'sex':'Female'}, 'Tia':{'age':30, 'sex':\"Female\"}}\n",
        "\n",
        "#  a. Return a list with the key value pairs from the dictionary.\n",
        "\n",
        "i = people.items()\n",
        "\n",
        "print('The key value pairs are: ',i)\n",
        "\n",
        "      \n",
        "#  b. Return a list with just the keys from the dictionary.\n",
        "\n",
        "k = people.keys()\n",
        "\n",
        "print('The keys are: ',k)\n",
        "\n",
        "#  c. Remove the first and last key value from the dictionary.\n",
        "\n",
        "del people['John']\n",
        "del people['Tia']\n",
        "\n",
        "# people.pop('John')\n",
        "\n",
        "#  d. Update the last key value pair in the dictionary after removing in the 3rd step.\n",
        "\n",
        "print(people)\n"
      ]
    },
    {
      "cell_type": "code",
      "execution_count": null,
      "id": "e59660de",
      "metadata": {
        "id": "e59660de",
        "outputId": "d9c1df17-6513-45a6-ec78-62eb8693f721"
      },
      "outputs": [
        {
          "name": "stdout",
          "output_type": "stream",
          "text": [
            "gram\n",
            "World\n",
            "PYTHON PROGRAMMING LANGUAGE\n",
            "BEST IN THE WORLD\n",
            "Python Programming Language Best in the World\n"
          ]
        }
      ],
      "source": [
        "#  For the given strings A = “Python Programming Language”, B = “Best in the World” , perform the following operations.\n",
        "#  a. Using indexing operations, get the text “gram” from the string A. \n",
        "#  b. Using indexing operations, get the text “World” from the string B.\n",
        "#  c. Change the letters in both strings to Uppercase letters.\n",
        "#  d. Concatenate the two strings.\n",
        "\n",
        "A = \"Python Programming Language\"\n",
        "B = \"Best in the World\"\n",
        "\n",
        "#  a. Using indexing operations, get the text “gram” from the string A. \n",
        "\n",
        "print(A[10:14])\n",
        "\n",
        "#  b. Using indexing operations, get the text “World” from the string B.\n",
        "\n",
        "print(B[-5:])\n",
        "\n",
        "#  c. Change the letters in both strings to Uppercase letters.\n",
        "\n",
        "print(A.upper())\n",
        "print(B.upper())\n",
        "\n",
        "#  d. Concatenate the two strings.\n",
        "\n",
        "print(A+' '+B)\n"
      ]
    },
    {
      "cell_type": "code",
      "execution_count": null,
      "id": "7c1e8fd4",
      "metadata": {
        "id": "7c1e8fd4",
        "outputId": "1b64034e-88e7-47c0-c4cb-c609e5901d6d",
        "colab": {
          "base_uri": "https://localhost:8080/"
        }
      },
      "outputs": [
        {
          "output_type": "stream",
          "name": "stdout",
          "text": [
            "[5, 6, 7, 8, 9]\n"
          ]
        }
      ],
      "source": [
        "#  Create a list with n numbers, and \n",
        "#  using negative indexing return the list starting from the 5th index to the n-2th index.\n",
        "\n",
        "n = 10\n",
        "num_list = list(range(1, n+1))\n",
        "\n",
        "# using negative indexing to return the list from the 5th index to the n-2th index\n",
        "sub_list = num_list[-6:-1]\n",
        "print(sub_list)\n"
      ]
    },
    {
      "cell_type": "code",
      "execution_count": null,
      "id": "e9837356",
      "metadata": {
        "id": "e9837356",
        "outputId": "e4fb82aa-2a90-4186-c53a-d76c2bd9f431"
      },
      "outputs": [
        {
          "name": "stdout",
          "output_type": "stream",
          "text": [
            "The list is:  [5, 10, 15, 20, 25, 30, 35, 40, 45, 50, 55, 60, 65, 70, 75, 80, 85, 90, 95]\n",
            "The length of the list is:  19\n"
          ]
        }
      ],
      "source": [
        "# Using range(), create a list with numbers ranging from 5-100, and the number of elements should be exactly 19\n",
        "\n",
        "list2 = [x for x in range(5,101) if (x%5==0)]\n",
        "print(\"The list is: \", list2)\n",
        "print(\"The length of the list is: \", len(list2))\n"
      ]
    }
  ],
  "metadata": {
    "kernelspec": {
      "display_name": "Python 3 (ipykernel)",
      "language": "python",
      "name": "python3"
    },
    "language_info": {
      "codemirror_mode": {
        "name": "ipython",
        "version": 3
      },
      "file_extension": ".py",
      "mimetype": "text/x-python",
      "name": "python",
      "nbconvert_exporter": "python",
      "pygments_lexer": "ipython3",
      "version": "3.9.12"
    },
    "colab": {
      "provenance": []
    }
  },
  "nbformat": 4,
  "nbformat_minor": 5
}